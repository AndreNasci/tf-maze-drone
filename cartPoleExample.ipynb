{
 "cells": [
  {
   "cell_type": "markdown",
   "metadata": {},
   "source": [
    "# Train a Deep Q Network with TF Agents"
   ]
  },
  {
   "cell_type": "markdown",
   "metadata": {},
   "source": [
    "### Setup"
   ]
  },
  {
   "cell_type": "code",
   "execution_count": 1,
   "metadata": {},
   "outputs": [],
   "source": [
    "import os\n",
    "# Keep using keras-2 (tf-keras) rather than keras-3 (keras).\n",
    "os.environ['TF_USE_LEGACY_KERAS'] = '1'"
   ]
  },
  {
   "cell_type": "code",
   "execution_count": 2,
   "metadata": {},
   "outputs": [
    {
     "name": "stderr",
     "output_type": "stream",
     "text": [
      "2024-05-27 18:29:35.785712: I external/local_tsl/tsl/cuda/cudart_stub.cc:32] Could not find cuda drivers on your machine, GPU will not be used.\n",
      "2024-05-27 18:29:35.790940: I external/local_tsl/tsl/cuda/cudart_stub.cc:32] Could not find cuda drivers on your machine, GPU will not be used.\n",
      "2024-05-27 18:29:35.857680: I tensorflow/core/platform/cpu_feature_guard.cc:210] This TensorFlow binary is optimized to use available CPU instructions in performance-critical operations.\n",
      "To enable the following instructions: AVX2 FMA, in other operations, rebuild TensorFlow with the appropriate compiler flags.\n",
      "2024-05-27 18:29:36.987284: W tensorflow/compiler/tf2tensorrt/utils/py_utils.cc:38] TF-TRT Warning: Could not find TensorRT\n"
     ]
    }
   ],
   "source": [
    "from __future__ import absolute_import, division, print_function\n",
    "\n",
    "import base64\n",
    "import imageio\n",
    "import IPython\n",
    "import matplotlib\n",
    "import matplotlib.pyplot as plt\n",
    "import numpy as np\n",
    "import PIL.Image\n",
    "import pyvirtualdisplay\n",
    "#import reverb\n",
    "\n",
    "import tensorflow as tf\n",
    "\n",
    "from tf_agents.agents.dqn import dqn_agent\n",
    "from tf_agents.drivers import py_driver\n",
    "from tf_agents.environments import suite_gym\n",
    "from tf_agents.environments import tf_py_environment\n",
    "from tf_agents.eval import metric_utils\n",
    "from tf_agents.metrics import tf_metrics\n",
    "from tf_agents.networks import sequential\n",
    "from tf_agents.policies import py_tf_eager_policy\n",
    "from tf_agents.policies import random_tf_policy\n",
    "from tf_agents.replay_buffers import reverb_replay_buffer\n",
    "from tf_agents.replay_buffers import reverb_utils\n",
    "from tf_agents.trajectories import trajectory\n",
    "from tf_agents.specs import tensor_spec\n",
    "from tf_agents.utils import common"
   ]
  },
  {
   "cell_type": "code",
   "execution_count": 3,
   "metadata": {},
   "outputs": [],
   "source": [
    "# Set up a virtual display for rendering OpenAI gym environments.\n",
    "display = pyvirtualdisplay.Display(visible=0, size=(1400, 900)).start()"
   ]
  },
  {
   "cell_type": "code",
   "execution_count": 4,
   "metadata": {},
   "outputs": [
    {
     "data": {
      "text/plain": [
       "'2.16.1'"
      ]
     },
     "execution_count": 4,
     "metadata": {},
     "output_type": "execute_result"
    }
   ],
   "source": [
    "tf.version.VERSION"
   ]
  },
  {
   "cell_type": "markdown",
   "metadata": {},
   "source": [
    "### Hyperparameters"
   ]
  },
  {
   "cell_type": "code",
   "execution_count": 5,
   "metadata": {},
   "outputs": [],
   "source": [
    "num_iterations = 20000 # @param {type:\"integer\"}\n",
    "\n",
    "initial_collect_steps = 100  # @param {type:\"integer\"}\n",
    "collect_steps_per_iteration = 1 # @param {type:\"integer\"}\n",
    "replay_buffer_max_length = 100000  # @param {type:\"integer\"}\n",
    "\n",
    "batch_size = 64  # @param {type:\"integer\"}\n",
    "learning_rate = 1e-3  # @param {type:\"number\"}\n",
    "log_interval = 200  # @param {type:\"integer\"}\n",
    "\n",
    "num_eval_episodes = 10  # @param {type:\"integer\"}\n",
    "eval_interval = 1000  # @param {type:\"integer\"}"
   ]
  },
  {
   "cell_type": "markdown",
   "metadata": {},
   "source": [
    "### Environment"
   ]
  },
  {
   "cell_type": "code",
   "execution_count": 6,
   "metadata": {},
   "outputs": [],
   "source": [
    "# CartPole Environment from OpenAI Gym Suite\n",
    "env_name = 'CartPole-v0'\n",
    "env = suite_gym.load(env_name)"
   ]
  },
  {
   "cell_type": "code",
   "execution_count": 7,
   "metadata": {},
   "outputs": [
    {
     "name": "stdout",
     "output_type": "stream",
     "text": [
      "<class 'numpy.ndarray'>\n"
     ]
    },
    {
     "data": {
      "image/jpeg": "[encoded data removed]",
      "image/png": "[encoded data removed]",
      "text/plain": [
       "<PIL.Image.Image image mode=RGB size=600x400>"
      ]
     },
     "execution_count": 7,
     "metadata": {},
     "output_type": "execute_result"
    }
   ],
   "source": [
    "# Rendering enviroment sample \n",
    "env.reset()\n",
    "print(type(env.render()))\n",
    "PIL.Image.fromarray(env.render())"
   ]
  },
  {
   "cell_type": "markdown",
   "metadata": {},
   "source": [
    "The `time_step_spec()` method returns the specification for the TimeStep tuple. Its observation attribute shows the shape of observations, the data types, and the ranges of allowed values.\n",
    "\n",
    "The `reward` attribute shows the same details for the reward.\n",
    "\n",
    "The `action_spec()` method returns the shape, data types, and allowed values of valid actions."
   ]
  },
  {
   "cell_type": "code",
   "execution_count": 10,
   "metadata": {},
   "outputs": [
    {
     "name": "stdout",
     "output_type": "stream",
     "text": [
      "Observation Spec:\n",
      "BoundedArraySpec(shape=(4,), dtype=dtype('float32'), name='observation', minimum=[-4.8000002e+00 -3.4028235e+38 -4.1887903e-01 -3.4028235e+38], maximum=[4.8000002e+00 3.4028235e+38 4.1887903e-01 3.4028235e+38])\n"
     ]
    }
   ],
   "source": [
    "print('Observation Spec:')\n",
    "print(env.time_step_spec().observation)"
   ]
  },
  {
   "cell_type": "code",
   "execution_count": 11,
   "metadata": {},
   "outputs": [
    {
     "name": "stdout",
     "output_type": "stream",
     "text": [
      "Reward Spec:\n",
      "ArraySpec(shape=(), dtype=dtype('float32'), name='reward')\n"
     ]
    }
   ],
   "source": [
    "print('Reward Spec:')\n",
    "print(env.time_step_spec().reward)"
   ]
  },
  {
   "cell_type": "code",
   "execution_count": 12,
   "metadata": {},
   "outputs": [
    {
     "name": "stdout",
     "output_type": "stream",
     "text": [
      "Action Spec:\n",
      "BoundedArraySpec(shape=(), dtype=dtype('int64'), name='action', minimum=0, maximum=1)\n"
     ]
    }
   ],
   "source": [
    "print('Action Spec:')\n",
    "print(env.action_spec())"
   ]
  },
  {
   "cell_type": "code",
   "execution_count": 13,
   "metadata": {},
   "outputs": [
    {
     "name": "stdout",
     "output_type": "stream",
     "text": [
      "Time step:\n",
      "TimeStep(\n",
      "{'step_type': array(0, dtype=int32),\n",
      " 'reward': array(0., dtype=float32),\n",
      " 'discount': array(1., dtype=float32),\n",
      " 'observation': array([0.02779839, 0.03690437, 0.00425997, 0.02238743], dtype=float32)})\n",
      "Next time step:\n",
      "TimeStep(\n",
      "{'step_type': array(1, dtype=int32),\n",
      " 'reward': array(1., dtype=float32),\n",
      " 'discount': array(1., dtype=float32),\n",
      " 'observation': array([ 0.02853648,  0.23196498,  0.00470772, -0.26894838], dtype=float32)})\n"
     ]
    }
   ],
   "source": [
    "time_step = env.reset()\n",
    "print('Time step:')\n",
    "print(time_step)\n",
    "\n",
    "action = np.array(1, dtype=np.int32)\n",
    "\n",
    "next_time_step = env.step(action)\n",
    "print('Next time step:')\n",
    "print(next_time_step)"
   ]
  },
  {
   "cell_type": "markdown",
   "metadata": {},
   "source": [
    "Usually two environments are instantiated: one for training and one for evaluation."
   ]
  },
  {
   "cell_type": "code",
   "execution_count": 14,
   "metadata": {},
   "outputs": [],
   "source": [
    "train_py_env = suite_gym.load(env_name)\n",
    "eval_py_env = suite_gym.load(env_name)"
   ]
  },
  {
   "cell_type": "code",
   "execution_count": 16,
   "metadata": {},
   "outputs": [],
   "source": [
    "# Converts environments, originally in pure Python, to tensors (using a wrapper)\n",
    "train_env = tf_py_environment.TFPyEnvironment(train_py_env)\n",
    "eval_env = tf_py_environment.TFPyEnvironment(eval_py_env)"
   ]
  },
  {
   "cell_type": "markdown",
   "metadata": {},
   "source": [
    "### Agent\n",
    "The DQN agent can be used in any environment which has a **discrete** action space.\n",
    "\n",
    "At the heart of a DQN Agent is a QNetwork, a neural network model that can learn to predict QValues (expected returns) for all actions, given an observation from the environment.\n",
    "\n",
    "We will use tf_agents.networks. to create a QNetwork. The network will consist of a sequence of `tf.keras.layers.Dense` layers, where the final layer will have 1 output for each possible action."
   ]
  },
  {
   "cell_type": "code",
   "execution_count": 17,
   "metadata": {},
   "outputs": [],
   "source": [
    "fc_layer_params = (100, 50) # fc = fully connected\n",
    "action_tensor_spec = tensor_spec.from_spec(env.action_spec())\n",
    "num_actions = action_tensor_spec.maximum - action_tensor_spec.minimum + 1\n",
    "\n",
    "# Define a helper function to create Dense layers configured with the right\n",
    "# activation and kernel initializer.\n",
    "def dense_layer(num_units):\n",
    "  return tf.keras.layers.Dense(\n",
    "      num_units,\n",
    "      activation=tf.keras.activations.relu,\n",
    "      kernel_initializer=tf.keras.initializers.VarianceScaling(\n",
    "          scale=2.0, mode='fan_in', distribution='truncated_normal'))\n",
    "\n",
    "# QNetwork consists of a sequence of Dense layers followed by a dense layer\n",
    "# with `num_actions` units to generate one q_value per available action as\n",
    "# its output.\n",
    "dense_layers = [dense_layer(num_units) for num_units in fc_layer_params]\n",
    "q_values_layer = tf.keras.layers.Dense(\n",
    "    num_actions,\n",
    "    activation=None,\n",
    "    kernel_initializer=tf.keras.initializers.RandomUniform(\n",
    "        minval=-0.03, maxval=0.03),\n",
    "    bias_initializer=tf.keras.initializers.Constant(-0.2))\n",
    "q_net = sequential.Sequential(dense_layers + [q_values_layer])"
   ]
  },
  {
   "cell_type": "markdown",
   "metadata": {},
   "source": [
    "Use `tf_agents.agents.dqn.dqn_agent` to instantiate a `DqnAgent`."
   ]
  },
  {
   "cell_type": "code",
   "execution_count": 18,
   "metadata": {},
   "outputs": [],
   "source": [
    "optimizer = tf.keras.optimizers.Adam(learning_rate=learning_rate)\n",
    "\n",
    "train_step_counter = tf.Variable(0)\n",
    "\n",
    "agent = dqn_agent.DqnAgent(\n",
    "    train_env.time_step_spec(),\n",
    "    train_env.action_spec(),\n",
    "    q_network=q_net,\n",
    "    optimizer=optimizer,\n",
    "    td_errors_loss_fn=common.element_wise_squared_loss,\n",
    "    train_step_counter=train_step_counter)\n",
    "\n",
    "agent.initialize()"
   ]
  },
  {
   "cell_type": "markdown",
   "metadata": {},
   "source": [
    "### Policies\n",
    "\n",
    "Agents contain two policies:\n",
    "\n",
    "`agent.policy` — The main policy that is used for evaluation and deployment.\n",
    "\n",
    "`agent.collect_policy` — A second policy that is used for data collection.\n",
    "\n"
   ]
  },
  {
   "cell_type": "code",
   "execution_count": 19,
   "metadata": {},
   "outputs": [],
   "source": [
    "eval_policy = agent.policy\n",
    "collect_policy = agent.collect_policy"
   ]
  },
  {
   "cell_type": "markdown",
   "metadata": {},
   "source": [
    "To get an action from a policy, call the `policy.action(time_step)` method. The `time_step` contains the observation from the environment. "
   ]
  },
  {
   "cell_type": "code",
   "execution_count": 21,
   "metadata": {},
   "outputs": [],
   "source": [
    "# Random policy for baseline\n",
    "random_policy = random_tf_policy.RandomTFPolicy(train_env.time_step_spec(),\n",
    "                                                train_env.action_spec())"
   ]
  },
  {
   "cell_type": "code",
   "execution_count": 22,
   "metadata": {},
   "outputs": [],
   "source": [
    "example_environment = tf_py_environment.TFPyEnvironment(\n",
    "    suite_gym.load('CartPole-v0'))"
   ]
  },
  {
   "cell_type": "code",
   "execution_count": 23,
   "metadata": {},
   "outputs": [],
   "source": [
    "time_step = example_environment.reset()"
   ]
  },
  {
   "cell_type": "code",
   "execution_count": 24,
   "metadata": {},
   "outputs": [
    {
     "data": {
      "text/plain": [
       "PolicyStep(action=<tf.Tensor: shape=(1,), dtype=int64, numpy=array([1])>, state=(), info=())"
      ]
     },
     "execution_count": 24,
     "metadata": {},
     "output_type": "execute_result"
    }
   ],
   "source": [
    "random_policy.action(time_step)"
   ]
  },
  {
   "cell_type": "markdown",
   "metadata": {},
   "source": [
    "### Metrics and Evaluation\n",
    "The most common metric used to evaluate a policy is the average return. The return is the sum of rewards obtained while running a policy in an environment for an episode. Several episodes are run, creating an average return.\n",
    "\n",
    "The following function computes the average return of a policy, given the policy, environment, and a number of episodes.\n",
    "\n",
    "\n"
   ]
  },
  {
   "cell_type": "code",
   "execution_count": 20,
   "metadata": {},
   "outputs": [],
   "source": [
    "def compute_avg_return(environment, policy, num_episodes=10):\n",
    "\n",
    "  total_return = 0.0\n",
    "  for _ in range(num_episodes):\n",
    "\n",
    "    time_step = environment.reset()\n",
    "    episode_return = 0.0\n",
    "\n",
    "    while not time_step.is_last():\n",
    "      action_step = policy.action(time_step)\n",
    "      time_step = environment.step(action_step.action)\n",
    "      episode_return += time_step.reward\n",
    "    total_return += episode_return\n",
    "\n",
    "  avg_return = total_return / num_episodes\n",
    "  return avg_return.numpy()[0]\n",
    "\n",
    "\n",
    "# See also the metrics module for standard implementations of different metrics.\n",
    "# https://github.com/tensorflow/agents/tree/master/tf_agents/metrics"
   ]
  },
  {
   "cell_type": "code",
   "execution_count": 25,
   "metadata": {},
   "outputs": [
    {
     "data": {
      "text/plain": [
       "29.8"
      ]
     },
     "execution_count": 25,
     "metadata": {},
     "output_type": "execute_result"
    }
   ],
   "source": [
    "# Running it on the random policy to get a baseline for the environment\n",
    "compute_avg_return(eval_env, random_policy, num_eval_episodes)"
   ]
  },
  {
   "cell_type": "markdown",
   "metadata": {},
   "source": [
    "### Replay Buffer"
   ]
  },
  {
   "cell_type": "code",
   "execution_count": 26,
   "metadata": {},
   "outputs": [],
   "source": [
    "from tf_agents.drivers import dynamic_step_driver\n",
    "from tf_agents.replay_buffers import tf_uniform_replay_buffer"
   ]
  },
  {
   "cell_type": "code",
   "execution_count": 29,
   "metadata": {},
   "outputs": [],
   "source": [
    "replay_buffer_capacity = replay_buffer_max_length\n",
    "\n",
    "replay_buffer = tf_uniform_replay_buffer.TFUniformReplayBuffer(\n",
    "    agent.collect_data_spec,\n",
    "    batch_size=train_env.batch_size,\n",
    "    max_length=replay_buffer_capacity)\n",
    "\n",
    "# Add an observer that adds to the replay buffer:\n",
    "replay_observer = [replay_buffer.add_batch]"
   ]
  },
  {
   "cell_type": "markdown",
   "metadata": {},
   "source": [
    "### Data Collection"
   ]
  },
  {
   "cell_type": "code",
   "execution_count": null,
   "metadata": {},
   "outputs": [],
   "source": [
    "collect_steps_per_iteration = 10\n",
    "\n",
    "# Data collection:\n",
    "collect_op = dynamic_step_driver.DynamicStepDriver(\n",
    "  train_env,\n",
    "  agent.collect_policy,\n",
    "  observers=replay_observer,\n",
    "  num_steps=collect_steps_per_iteration).run()"
   ]
  },
  {
   "cell_type": "code",
   "execution_count": 30,
   "metadata": {},
   "outputs": [
    {
     "name": "stdout",
     "output_type": "stream",
     "text": [
      "WARNING:tensorflow:From /home/naski/Documents/dev/maze_drone_v02/maze-drone-v03/lib/python3.10/site-packages/tensorflow/python/autograph/impl/api.py:377: ReplayBuffer.get_next (from tf_agents.replay_buffers.replay_buffer) is deprecated and will be removed in a future version.\n",
      "Instructions for updating:\n",
      "Use `as_dataset(..., single_deterministic_pass=False) instead.\n"
     ]
    },
    {
     "data": {
      "text/plain": [
       "<_PrefetchDataset element_spec=(Trajectory(\n",
       "{'step_type': TensorSpec(shape=(64, 2), dtype=tf.int32, name=None),\n",
       " 'observation': TensorSpec(shape=(64, 2, 4), dtype=tf.float32, name=None),\n",
       " 'action': TensorSpec(shape=(64, 2), dtype=tf.int64, name=None),\n",
       " 'policy_info': (),\n",
       " 'next_step_type': TensorSpec(shape=(64, 2), dtype=tf.int32, name=None),\n",
       " 'reward': TensorSpec(shape=(64, 2), dtype=tf.float32, name=None),\n",
       " 'discount': TensorSpec(shape=(64, 2), dtype=tf.float32, name=None)}), BufferInfo(ids=TensorSpec(shape=(64, 2), dtype=tf.int64, name=None), probabilities=TensorSpec(shape=(64,), dtype=tf.float32, name=None)))>"
      ]
     },
     "execution_count": 30,
     "metadata": {},
     "output_type": "execute_result"
    }
   ],
   "source": [
    "# Dataset generates trajectories with shape [Bx2x...]\n",
    "dataset = replay_buffer.as_dataset(\n",
    "    num_parallel_calls=3,\n",
    "    sample_batch_size=batch_size,\n",
    "    num_steps=2).prefetch(3)\n",
    "\n",
    "dataset"
   ]
  },
  {
   "cell_type": "markdown",
   "metadata": {},
   "source": [
    "### Training the Agent"
   ]
  },
  {
   "cell_type": "code",
   "execution_count": 42,
   "metadata": {},
   "outputs": [
    {
     "name": "stdout",
     "output_type": "stream",
     "text": [
      "WARNING:tensorflow:From /home/naski/Documents/dev/maze_drone_v02/maze-drone-v03/lib/python3.10/site-packages/tensorflow/python/util/dispatch.py:1260: calling foldr_v2 (from tensorflow.python.ops.functional_ops) with back_prop=False is deprecated and will be removed in a future version.\n",
      "Instructions for updating:\n",
      "back_prop=False is deprecated. Consider using tf.stop_gradient instead.\n",
      "Instead of:\n",
      "results = tf.foldr(fn, elems, back_prop=False)\n",
      "Use:\n",
      "results = tf.nest.map_structure(tf.stop_gradient, tf.foldr(fn, elems))\n",
      "step = 200: loss = 31.291481018066406\n",
      "step = 400: loss = 16.1311092376709\n",
      "step = 600: loss = 147.0655975341797\n",
      "step = 800: loss = 36.34265899658203\n",
      "step = 1000: loss = 40.00700378417969\n",
      "step = 1000: Average Return = 200.0\n",
      "step = 1200: loss = 29.939903259277344\n",
      "step = 1400: loss = 32.85053253173828\n",
      "step = 1600: loss = 1174.10400390625\n",
      "step = 1800: loss = 56.87113952636719\n",
      "step = 2000: loss = 581.3624267578125\n",
      "step = 2000: Average Return = 172.6999969482422\n",
      "step = 2200: loss = 58.114540100097656\n",
      "step = 2400: loss = 4381.80908203125\n",
      "step = 2600: loss = 611.105712890625\n",
      "step = 2800: loss = 65.53054809570312\n",
      "step = 3000: loss = 161.55812072753906\n",
      "step = 3000: Average Return = 180.10000610351562\n",
      "step = 3200: loss = 71.57749938964844\n",
      "step = 3400: loss = 774.6627807617188\n",
      "step = 3600: loss = 76.73210144042969\n",
      "step = 3800: loss = 61.70919418334961\n",
      "step = 4000: loss = 41.29674530029297\n",
      "step = 4000: Average Return = 179.0\n",
      "step = 4200: loss = 71.18915557861328\n",
      "step = 4400: loss = 77.16960144042969\n",
      "step = 4600: loss = 78.3012466430664\n",
      "step = 4800: loss = 1779.4451904296875\n",
      "step = 5000: loss = 50.38862228393555\n",
      "step = 5000: Average Return = 200.0\n",
      "step = 5200: loss = 54.39592742919922\n",
      "step = 5400: loss = 32.723846435546875\n",
      "step = 5600: loss = 53.21841049194336\n",
      "step = 5800: loss = 59.431060791015625\n",
      "step = 6000: loss = 81.17381286621094\n",
      "step = 6000: Average Return = 200.0\n",
      "step = 6200: loss = 41.1561164855957\n",
      "step = 6400: loss = 111.7394027709961\n",
      "step = 6600: loss = 88.978759765625\n",
      "step = 6800: loss = 243.31932067871094\n",
      "step = 7000: loss = 224.8282470703125\n",
      "step = 7000: Average Return = 200.0\n",
      "step = 7200: loss = 667.3671875\n",
      "step = 7400: loss = 592.630615234375\n",
      "step = 7600: loss = 40.496150970458984\n",
      "step = 7800: loss = 112.10517883300781\n",
      "step = 8000: loss = 41.1468505859375\n",
      "step = 8000: Average Return = 200.0\n",
      "step = 8200: loss = 109.36099243164062\n",
      "step = 8400: loss = 89.73539733886719\n",
      "step = 8600: loss = 237.34075927734375\n",
      "step = 8800: loss = 65.80913543701172\n",
      "step = 9000: loss = 80.05134582519531\n",
      "step = 9000: Average Return = 200.0\n",
      "step = 9200: loss = 47.19400405883789\n",
      "step = 9400: loss = 63.771217346191406\n",
      "step = 9600: loss = 37.55304718017578\n",
      "step = 9800: loss = 50.21199417114258\n",
      "step = 10000: loss = 39.03602981567383\n",
      "step = 10000: Average Return = 200.0\n",
      "step = 10200: loss = 60.66638946533203\n",
      "step = 10400: loss = 33.96935272216797\n",
      "step = 10600: loss = 29.384727478027344\n",
      "step = 10800: loss = 23.052133560180664\n",
      "step = 11000: loss = 26.606847763061523\n",
      "step = 11000: Average Return = 200.0\n",
      "step = 11200: loss = 4493.2861328125\n",
      "step = 11400: loss = 11842.7021484375\n",
      "step = 11600: loss = 4535143.0\n",
      "step = 11800: loss = 3590976.25\n",
      "step = 12000: loss = 1115609.375\n",
      "step = 12000: Average Return = 200.0\n",
      "step = 12200: loss = 1104102.75\n",
      "step = 12400: loss = 60515.3046875\n",
      "step = 12600: loss = 46077.59375\n",
      "step = 12800: loss = 21389.275390625\n",
      "step = 13000: loss = 44503.03125\n",
      "step = 13000: Average Return = 200.0\n",
      "step = 13200: loss = 373186.15625\n",
      "step = 13400: loss = 21671.79296875\n",
      "step = 13600: loss = 633903.4375\n",
      "step = 13800: loss = 632224.3125\n",
      "step = 14000: loss = 57095.0546875\n",
      "step = 14000: Average Return = 200.0\n",
      "step = 14200: loss = 41845.40625\n",
      "step = 14400: loss = 1639970.125\n",
      "step = 14600: loss = 3360016.5\n",
      "step = 14800: loss = 272023.28125\n",
      "step = 15000: loss = 22453704.0\n",
      "step = 15000: Average Return = 200.0\n",
      "step = 15200: loss = 249502.90625\n",
      "step = 15400: loss = 288133.1875\n",
      "step = 15600: loss = 326944.09375\n",
      "step = 15800: loss = 20432754.0\n",
      "step = 16000: loss = 251054.703125\n",
      "step = 16000: Average Return = 200.0\n",
      "step = 16200: loss = 358051.15625\n",
      "step = 16400: loss = 10596606.0\n",
      "step = 16600: loss = 370770.53125\n",
      "step = 16800: loss = 309787.0\n",
      "step = 17000: loss = 302007.03125\n",
      "step = 17000: Average Return = 200.0\n",
      "step = 17200: loss = 330815.6875\n",
      "step = 17400: loss = 539582.5\n",
      "step = 17600: loss = 6393490.5\n",
      "step = 17800: loss = 185816.25\n",
      "step = 18000: loss = 4683018.5\n",
      "step = 18000: Average Return = 200.0\n",
      "step = 18200: loss = 596574.375\n",
      "step = 18400: loss = 287864.9375\n",
      "step = 18600: loss = 234922.359375\n",
      "step = 18800: loss = 128763.3125\n",
      "step = 19000: loss = 68457.75\n",
      "step = 19000: Average Return = 200.0\n",
      "step = 19200: loss = 76626.7421875\n",
      "step = 19400: loss = 180727.109375\n",
      "step = 19600: loss = 195384.828125\n",
      "step = 19800: loss = 243835.453125\n",
      "step = 20000: loss = 3528462.75\n",
      "step = 20000: Average Return = 200.0\n",
      "CPU times: user 51min 48s, sys: 13.4 s, total: 52min 2s\n",
      "Wall time: 51min 51s\n"
     ]
    }
   ],
   "source": [
    "%%time\n",
    "\n",
    "# (Optional) Optimize by wrapping some of the code in a graph using TF function.\n",
    "agent.train = common.function(agent.train)\n",
    "\n",
    "# Reset the train step.\n",
    "agent.train_step_counter.assign(0)\n",
    "\n",
    "# Evaluate the agent's policy once before training.\n",
    "avg_return = compute_avg_return(eval_env, agent.policy, num_eval_episodes)\n",
    "returns = [avg_return]\n",
    "\n",
    "# Reset the environment.\n",
    "time_step = train_py_env.reset()\n",
    "\n",
    "# Create a driver to collect experience.\n",
    "collect_driver = dynamic_step_driver.DynamicStepDriver(\n",
    "    train_env,\n",
    "    agent.collect_policy,\n",
    "    observers=replay_observer,\n",
    "    num_steps=collect_steps_per_iteration)\n",
    "\n",
    "iterator = iter(dataset)\n",
    "\n",
    "for _ in range(num_iterations):\n",
    "\n",
    "    # Collect a few steps and save to the replay buffer.\n",
    "    time_step, _ = collect_driver.run()\n",
    "\n",
    "    # Sample a batch of data from the buffer and update the agent's network.\n",
    "    trajectories, _ = next(iterator)\n",
    "    train_loss = agent.train(experience=trajectories).loss\n",
    "\n",
    "    step = agent.train_step_counter.numpy()\n",
    "\n",
    "    if step % log_interval == 0:\n",
    "        print('step = {0}: loss = {1}'.format(step, train_loss))\n",
    "\n",
    "    if step % eval_interval == 0:\n",
    "        avg_return = compute_avg_return(eval_env, agent.policy, num_eval_episodes)\n",
    "        print('step = {0}: Average Return = {1}'.format(step, avg_return))\n",
    "        returns.append(avg_return)"
   ]
  },
  {
   "cell_type": "markdown",
   "metadata": {},
   "source": [
    "### Visualization"
   ]
  },
  {
   "cell_type": "code",
   "execution_count": 43,
   "metadata": {},
   "outputs": [
    {
     "data": {
      "text/plain": [
       "(24.754998397827148, 250.0)"
      ]
     },
     "execution_count": 43,
     "metadata": {},
     "output_type": "execute_result"
    },
    {
     "data": {
      "image/png": "[encoded data removed]",
      "text/plain": [
       "<Figure size 640x480 with 1 Axes>"
      ]
     },
     "metadata": {},
     "output_type": "display_data"
    }
   ],
   "source": [
    "iterations = range(0, num_iterations + 1, eval_interval)\n",
    "plt.plot(iterations, returns)\n",
    "plt.ylabel('Average Return')\n",
    "plt.xlabel('Iterations')\n",
    "plt.ylim(top=250)"
   ]
  },
  {
   "cell_type": "code",
   "execution_count": 44,
   "metadata": {},
   "outputs": [],
   "source": [
    "def embed_mp4(filename):\n",
    "  \"\"\"Embeds an mp4 file in the notebook.\"\"\"\n",
    "  video = open(filename,'rb').read()\n",
    "  b64 = base64.b64encode(video)\n",
    "  tag = '''\n",
    "  <video width=\"640\" height=\"480\" controls>\n",
    "    <source src=\"data:video/mp4;base64,{0}\" type=\"video/mp4\">\n",
    "  Your browser does not support the video tag.\n",
    "  </video>'''.format(b64.decode())\n",
    "\n",
    "  return IPython.display.HTML(tag)"
   ]
  },
  {
   "cell_type": "code",
   "execution_count": 46,
   "metadata": {},
   "outputs": [
    {
     "name": "stderr",
     "output_type": "stream",
     "text": [
      "WARNING:root:IMAGEIO FFMPEG_WRITER WARNING: input image is not divisible by macro_block_size=16, resizing from (400, 600) to (400, 608) to ensure video compatibility with most codecs and players. To prevent resizing, make your input image divisible by the macro_block_size or set the macro_block_size to None (risking incompatibility). You may also see a FFMPEG warning concerning speedloss due to data not being aligned.\n",
      "[swscaler @ 0x5f7ccdcbbe00] Warning: data is not aligned! This can lead to a speed loss\n"
     ]
    },
    {
     "data": {
      "text/html": [
       "\n",
       "  <video width=\"640\" height=\"480\" controls>\n",
       "    <source src=\"data:video/mp4;base64,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\" type=\"video/mp4\">\n",
       "  Your browser does not support the video tag.\n",
       "  </video>"
      ],
      "text/plain": [
       "<IPython.core.display.HTML object>"
      ]
     },
     "execution_count": 46,
     "metadata": {},
     "output_type": "execute_result"
    }
   ],
   "source": [
    "def create_policy_eval_video(policy, filename, num_episodes=5, fps=30):\n",
    "  filename = filename + \".mp4\"\n",
    "  with imageio.get_writer(filename, fps=fps) as video:\n",
    "    for _ in range(num_episodes):\n",
    "      time_step = eval_env.reset()\n",
    "      video.append_data(eval_py_env.render())\n",
    "      while not time_step.is_last():\n",
    "        action_step = policy.action(time_step)\n",
    "        time_step = eval_env.step(action_step.action)\n",
    "        video.append_data(eval_py_env.render())\n",
    "  return embed_mp4(filename)\n",
    "\n",
    "create_policy_eval_video(agent.policy, \"trained-agent\")"
   ]
  },
  {
   "cell_type": "code",
   "execution_count": null,
   "metadata": {},
   "outputs": [],
   "source": []
  }
 ],
 "metadata": {
  "kernelspec": {
   "display_name": "maze-drone-v02",
   "language": "python",
   "name": "python3"
  },
  "language_info": {
   "codemirror_mode": {
    "name": "ipython",
    "version": 3
   },
   "file_extension": ".py",
   "mimetype": "text/x-python",
   "name": "python",
   "nbconvert_exporter": "python",
   "pygments_lexer": "ipython3",
   "version": "3.10.12"
  }
 },
 "nbformat": 4,
 "nbformat_minor": 2
}

{
 "cells": [
  {
   "cell_type": "markdown",
   "metadata": {},
   "source": [
    "# MazeDrone with TF Agents - 5001 Testing Trained Agents"
   ]
  },
  {
   "cell_type": "code",
   "execution_count": 1,
   "metadata": {},
   "outputs": [
    {
     "name": "stderr",
     "output_type": "stream",
     "text": [
      "2025-02-16 01:26:00.443822: I external/local_tsl/tsl/cuda/cudart_stub.cc:32] Could not find cuda drivers on your machine, GPU will not be used.\n",
      "2025-02-16 01:26:00.448143: I external/local_tsl/tsl/cuda/cudart_stub.cc:32] Could not find cuda drivers on your machine, GPU will not be used.\n",
      "2025-02-16 01:26:00.521182: I tensorflow/core/platform/cpu_feature_guard.cc:210] This TensorFlow binary is optimized to use available CPU instructions in performance-critical operations.\n",
      "To enable the following instructions: FMA, in other operations, rebuild TensorFlow with the appropriate compiler flags.\n",
      "2025-02-16 01:26:01.679236: W tensorflow/compiler/tf2tensorrt/utils/py_utils.cc:38] TF-TRT Warning: Could not find TensorRT\n"
     ]
    }
   ],
   "source": [
    "from __future__ import absolute_import, division, print_function\n",
    "\n",
    "import os\n",
    "# Keep using keras-2 (tf-keras) rather than keras-3 (keras).\n",
    "os.environ['TF_USE_LEGACY_KERAS'] = '1'\n",
    "\n",
    "\n",
    "\n",
    "\n",
    "import matplotlib.pyplot as plt\n",
    "import numpy as np\n",
    "import PIL.Image\n",
    "\n",
    "import tensorflow as tf\n",
    "from tf_agents.agents.dqn import dqn_agent\n",
    "from tf_agents.environments import suite_gym\n",
    "from tf_agents.environments import tf_py_environment\n",
    "from tf_agents.metrics import tf_metrics\n",
    "from tf_agents.utils import common\n",
    "\n",
    "import sys\n",
    "import gym\n",
    "\n",
    "from resources import build_agent, TrainingSession\n",
    "import pandas as pd\n",
    "import gc\n"
   ]
  },
  {
   "cell_type": "code",
   "execution_count": 2,
   "metadata": {},
   "outputs": [
    {
     "name": "stdout",
     "output_type": "stream",
     "text": [
      "Rewards Updated: {'destroyed': -10.0, 'stuck': -6.0, 'reached': 10.0, 'standard': -1.0}\n",
      "Rewards Updated: {'destroyed': -10.0, 'stuck': -6.0, 'reached': 10.0, 'standard': -1.0}\n",
      "Mode set: 1\n",
      "Mode set: 1\n",
      "Maze site set: 3x3\n",
      "Maze site set: 3x3\n",
      "WARNING:tensorflow:From /home/naski/Documents/dev/maze_drone_v02/maze-drone-v03/lib/python3.10/site-packages/tensorflow/python/autograph/impl/api.py:377: ReplayBuffer.get_next (from tf_agents.replay_buffers.replay_buffer) is deprecated and will be removed in a future version.\n",
      "Instructions for updating:\n",
      "Use `as_dataset(..., single_deterministic_pass=False) instead.\n",
      "Rewards: {'destroyed': -10.0, 'stuck': -6.0, 'reached': 10.0, 'standard': -1.0}\n",
      "WARNING:tensorflow:From /home/naski/Documents/dev/maze_drone_v02/maze-drone-v03/lib/python3.10/site-packages/tensorflow/python/util/dispatch.py:1260: calling foldr_v2 (from tensorflow.python.ops.functional_ops) with back_prop=False is deprecated and will be removed in a future version.\n",
      "Instructions for updating:\n",
      "back_prop=False is deprecated. Consider using tf.stop_gradient instead.\n",
      "Instead of:\n",
      "results = tf.foldr(fn, elems, back_prop=False)\n",
      "Use:\n",
      "results = tf.nest.map_structure(tf.stop_gradient, tf.foldr(fn, elems))\n",
      "learning_rate inside: <tf.Variable 'learning_rate:0' shape=() dtype=float32, numpy=0.001>\n"
     ]
    }
   ],
   "source": [
    "\n",
    "min_combination = 2 # combination 2\n",
    "min_run = 1\n",
    "max_run = 1\n",
    "\n",
    "\n",
    "num_iterations = 20_000 # @param {type:\"integer\"}\n",
    "\n",
    "initial_collect_steps = 64  # @param {type:\"integer\"}\n",
    "collect_steps_per_iteration = 1 # @param {type:\"integer\"}\n",
    "#replay_buffer_max_length = 100000  # @param {type:\"integer\"}\n",
    "replay_buffer_max_length = 100  # @param {type:\"integer\"}\n",
    "\n",
    "batch_size = 64  # @param {type:\"integer\"}\n",
    "learning_rate = 1e-3  # @param {type:\"number\"}\n",
    "log_interval = 100  # @param {type:\"integer\"}\n",
    "\n",
    "num_eval_episodes = 10  # @param {type:\"integer\"}\n",
    "eval_interval = 100  # @param {type:\"integer\"}\n",
    "\n",
    "# Agent fully connected layer params \n",
    "fc_layer_params = (200,) \n",
    "\n",
    "# File's name\n",
    "description = \"5001\"\n",
    "\n",
    "maze_size = 3\n",
    "\n",
    "rewards = []\n",
    "rewards.append({\n",
    "    'destroyed': -10.,\n",
    "    'stuck': - 6.,\n",
    "    'reached': 10.,\n",
    "    'standard': -1.\n",
    "})\n",
    "rewards.append({\n",
    "    'destroyed': -10.,\n",
    "    'stuck': -11.,\n",
    "    'reached': 10.,\n",
    "    'standard': -1.\n",
    "})\n",
    "rewards.append({\n",
    "    'destroyed': -10.,\n",
    "    'stuck': -15.,\n",
    "    'reached': 10.,\n",
    "    'standard': -1.\n",
    "})\n",
    "\n",
    "\n",
    "sys.path.append('/home/naski/Documents/dev/maze_drone_v02')\n",
    "import gym_maze # Esta linha precisa estar após o PATH\n",
    "\n",
    "# Importing custom environment\n",
    "env_name = 'maze-v0'\n",
    "env = suite_gym.load(env_name)\n",
    "\n",
    "# Testing\n",
    "env.reset()\n",
    "\n",
    "train_py_env = suite_gym.load(env_name)\n",
    "# Converts environments, originally in pure Python, to tensors (using a wrapper)\n",
    "train_env = tf_py_environment.TFPyEnvironment(train_py_env)\n",
    "\n",
    "\n",
    "\n",
    "\n",
    "\n",
    "# CREATING/RESETING THE AGENT\n",
    "agent = build_agent(fc_layer_params, env, learning_rate, train_env)\n",
    "agent.initialize()\n",
    "\n",
    "# GENERATE TRAINING SESSION\n",
    "session = TrainingSession(description, maze_size, env_name, rewards[0], agent, collect_steps_per_iteration, \n",
    "                        1, eval_interval, replay_buffer_max_length, num_eval_episodes)\n",
    "\n",
    "# TRAINING\n",
    "step_log, returns, finished, crashed, stucked, steped, _, replay_buffer, _ = session.train()\n",
    "\n",
    "# CLEAR MEMORY\n",
    "del(session)\n",
    "\n"
   ]
  },
  {
   "cell_type": "markdown",
   "metadata": {},
   "source": [
    "## Agent 1 - 2001"
   ]
  },
  {
   "cell_type": "code",
   "execution_count": 3,
   "metadata": {},
   "outputs": [
    {
     "name": "stdout",
     "output_type": "stream",
     "text": [
      "============================================================== Loading Checkpoint:\n",
      "<tf.Variable 'Variable:0' shape=() dtype=int32, numpy=1>\n",
      "<tf.Variable 'Variable:0' shape=() dtype=int32, numpy=13600>\n",
      "<tf.Variable 'Variable:0' shape=() dtype=int32, numpy=13600>\n",
      "<tf.Variable 'learning_rate:0' shape=() dtype=float32, numpy=0.001>\n"
     ]
    }
   ],
   "source": [
    "print(\"============================================================== Loading Checkpoint:\")\n",
    "\n",
    "print(agent.train_step_counter)\n",
    "\n",
    "checkpoint_dir = './checkpoint/phase-3-1-tuning'\n",
    "train_checkpointer = common.Checkpointer(\n",
    "    ckpt_dir=checkpoint_dir,\n",
    "    max_to_keep=1,\n",
    "    agent=agent,\n",
    "    policy=agent.policy,\n",
    "    replay_buffer=replay_buffer,\n",
    "    global_step=agent.train_step_counter\n",
    ")\n",
    "\n",
    "print(agent.train_step_counter)\n",
    "\n",
    "\n",
    "train_checkpointer.initialize_or_restore()\n",
    "    \n",
    "print(agent.train_step_counter)\n",
    "\n",
    "agent._optimizer.learning_rate = learning_rate\n",
    "print(agent._optimizer.learning_rate)"
   ]
  },
  {
   "cell_type": "code",
   "execution_count": 4,
   "metadata": {},
   "outputs": [],
   "source": [
    "from resources import compute_logs"
   ]
  },
  {
   "cell_type": "code",
   "execution_count": 5,
   "metadata": {},
   "outputs": [
    {
     "name": "stdout",
     "output_type": "stream",
     "text": [
      "========================================================================== Testing:\n",
      "Rewards Updated: {'destroyed': -10.0, 'stuck': -11.0, 'reached': 10.0, 'standard': -1.0}\n",
      "Mode set: 0\n",
      "Maze site set: 3x3\n",
      "1.05 0.884 0 0 8.674\n"
     ]
    }
   ],
   "source": [
    "print(\"========================================================================== Testing:\")\n",
    "\n",
    "eval_py_env = suite_gym.load(env_name)\n",
    "eval_py_env.update_rewards(rewards[1]['destroyed'], rewards[1]['stuck'], rewards[1]['reached'], rewards[1]['standard'])\n",
    "eval_py_env.set_mode(0) # walls\n",
    "eval_py_env.set_size(maze_size)\n",
    "eval_env = tf_py_environment.TFPyEnvironment(eval_py_env)\n",
    "\n",
    "avg_return, finished_percentage, crashes_counter, stuck_counter, avg_steps = compute_logs(eval_env, agent.policy, rewards[1], 1000)\n",
    "\n",
    "print(avg_return, finished_percentage, crashes_counter, stuck_counter, avg_steps)"
   ]
  },
  {
   "cell_type": "code",
   "execution_count": 6,
   "metadata": {},
   "outputs": [
    {
     "name": "stdout",
     "output_type": "stream",
     "text": [
      "Mode set: 0\n",
      "Maze site set: 3x3\n"
     ]
    },
    {
     "name": "stderr",
     "output_type": "stream",
     "text": [
      "WARNING:root:IMAGEIO FFMPEG_WRITER WARNING: input image is not divisible by macro_block_size=16, resizing from (700, 700) to (704, 704) to ensure video compatibility with most codecs and players. To prevent resizing, make your input image divisible by the macro_block_size or set the macro_block_size to None (risking incompatibility). You may also see a FFMPEG warning concerning speedloss due to data not being aligned.\n"
     ]
    },
    {
     "data": {
      "text/html": [
       "\n",
       "    <video width=\"640\" height=\"480\" controls>\n",
       "    <source src=\"data:video/mp4;base64,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\" type=\"video/mp4\">\n",
       "    Your browser does not support the video tag.\n",
       "    </video>"
      ],
      "text/plain": [
       "<IPython.core.display.HTML object>"
      ]
     },
     "execution_count": 6,
     "metadata": {},
     "output_type": "execute_result"
    }
   ],
   "source": [
    "from resources import create_policy_eval_video\n",
    "\n",
    "# Reset the environment.\n",
    "time_step = train_py_env.reset()\n",
    "train_py_env.set_mode(0)\n",
    "train_py_env.set_size(maze_size)\n",
    "\n",
    "\n",
    "# Gera video da politica do agente treinado até então\n",
    "create_policy_eval_video(agent.policy, f\"trained-agent-{description}1\", train_env, train_py_env)"
   ]
  },
  {
   "cell_type": "markdown",
   "metadata": {},
   "source": [
    "## Agent 2 - 2002"
   ]
  },
  {
   "cell_type": "code",
   "execution_count": 7,
   "metadata": {},
   "outputs": [
    {
     "name": "stdout",
     "output_type": "stream",
     "text": [
      "============================================================== Loading Checkpoint:\n",
      "<tf.Variable 'Variable:0' shape=() dtype=int32, numpy=13600>\n",
      "<tf.Variable 'Variable:0' shape=() dtype=int32, numpy=25000>\n",
      "<tf.Variable 'Variable:0' shape=() dtype=int32, numpy=25000>\n",
      "<tf.Variable 'learning_rate:0' shape=() dtype=float32, numpy=0.001>\n"
     ]
    }
   ],
   "source": [
    "print(\"============================================================== Loading Checkpoint:\")\n",
    "\n",
    "print(agent.train_step_counter)\n",
    "\n",
    "checkpoint_dir = './checkpoint/phase-3-2-tuning'\n",
    "train_checkpointer = common.Checkpointer(\n",
    "    ckpt_dir=checkpoint_dir,\n",
    "    max_to_keep=1,\n",
    "    agent=agent,\n",
    "    policy=agent.policy,\n",
    "    replay_buffer=replay_buffer,\n",
    "    global_step=agent.train_step_counter\n",
    ")\n",
    "\n",
    "print(agent.train_step_counter)\n",
    "\n",
    "\n",
    "train_checkpointer.initialize_or_restore()\n",
    "    \n",
    "print(agent.train_step_counter)\n",
    "\n",
    "agent._optimizer.learning_rate = learning_rate\n",
    "print(agent._optimizer.learning_rate)"
   ]
  },
  {
   "cell_type": "code",
   "execution_count": 8,
   "metadata": {},
   "outputs": [
    {
     "name": "stdout",
     "output_type": "stream",
     "text": [
      "========================================================================== Testing:\n",
      "Rewards Updated: {'destroyed': -10.0, 'stuck': -15.0, 'reached': 10.0, 'standard': -1.0}\n",
      "Mode set: 0\n",
      "Maze site set: 3x3\n",
      "1.505 0.895 0 0 8.34\n"
     ]
    }
   ],
   "source": [
    "print(\"========================================================================== Testing:\")\n",
    "\n",
    "eval_py_env = suite_gym.load(env_name)\n",
    "eval_py_env.update_rewards(rewards[2]['destroyed'], rewards[2]['stuck'], rewards[2]['reached'], rewards[2]['standard'])\n",
    "eval_py_env.set_mode(0) # walls\n",
    "eval_py_env.set_size(maze_size)\n",
    "eval_env = tf_py_environment.TFPyEnvironment(eval_py_env)\n",
    "\n",
    "avg_return, finished_percentage, crashes_counter, stuck_counter, avg_steps = compute_logs(eval_env, agent.policy, rewards[1], 1000)\n",
    "\n",
    "print(avg_return, finished_percentage, crashes_counter, stuck_counter, avg_steps)"
   ]
  },
  {
   "cell_type": "code",
   "execution_count": 9,
   "metadata": {},
   "outputs": [
    {
     "name": "stderr",
     "output_type": "stream",
     "text": [
      "WARNING:root:IMAGEIO FFMPEG_WRITER WARNING: input image is not divisible by macro_block_size=16, resizing from (700, 700) to (704, 704) to ensure video compatibility with most codecs and players. To prevent resizing, make your input image divisible by the macro_block_size or set the macro_block_size to None (risking incompatibility). You may also see a FFMPEG warning concerning speedloss due to data not being aligned.\n"
     ]
    },
    {
     "name": "stdout",
     "output_type": "stream",
     "text": [
      "Mode set: 0\n",
      "Maze site set: 3x3\n"
     ]
    },
    {
     "data": {
      "text/html": [
       "\n",
       "    <video width=\"640\" height=\"480\" controls>\n",
       "    <source src=\"data:video/mp4;base64,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\" type=\"video/mp4\">\n",
       "    Your browser does not support the video tag.\n",
       "    </video>"
      ],
      "text/plain": [
       "<IPython.core.display.HTML object>"
      ]
     },
     "execution_count": 9,
     "metadata": {},
     "output_type": "execute_result"
    }
   ],
   "source": [
    "# Reset the environment.\n",
    "time_step = train_py_env.reset()\n",
    "train_py_env.set_mode(0)\n",
    "train_py_env.set_size(maze_size)\n",
    "\n",
    "\n",
    "# Gera video da politica do agente treinado até então\n",
    "create_policy_eval_video(agent.policy, f\"trained-agent-{description}2\", train_env, train_py_env)"
   ]
  },
  {
   "cell_type": "markdown",
   "metadata": {},
   "source": [
    "## Agent 3 - 3001"
   ]
  },
  {
   "cell_type": "code",
   "execution_count": 10,
   "metadata": {},
   "outputs": [
    {
     "name": "stdout",
     "output_type": "stream",
     "text": [
      "============================================================== Loading Checkpoint:\n",
      "<tf.Variable 'Variable:0' shape=() dtype=int32, numpy=25000>\n",
      "<tf.Variable 'Variable:0' shape=() dtype=int32, numpy=14000>\n",
      "<tf.Variable 'Variable:0' shape=() dtype=int32, numpy=14000>\n",
      "<tf.Variable 'learning_rate:0' shape=() dtype=float32, numpy=0.001>\n"
     ]
    }
   ],
   "source": [
    "print(\"============================================================== Loading Checkpoint:\")\n",
    "\n",
    "print(agent.train_step_counter)\n",
    "\n",
    "checkpoint_dir = './checkpoint/phase-3-3-tuning'\n",
    "train_checkpointer = common.Checkpointer(\n",
    "    ckpt_dir=checkpoint_dir,\n",
    "    max_to_keep=1,\n",
    "    agent=agent,\n",
    "    policy=agent.policy,\n",
    "    replay_buffer=replay_buffer,\n",
    "    global_step=agent.train_step_counter\n",
    ")\n",
    "\n",
    "print(agent.train_step_counter)\n",
    "\n",
    "\n",
    "train_checkpointer.initialize_or_restore()\n",
    "    \n",
    "print(agent.train_step_counter)\n",
    "\n",
    "agent._optimizer.learning_rate = learning_rate\n",
    "print(agent._optimizer.learning_rate)"
   ]
  },
  {
   "cell_type": "code",
   "execution_count": 11,
   "metadata": {},
   "outputs": [
    {
     "name": "stdout",
     "output_type": "stream",
     "text": [
      "========================================================================== Testing:\n",
      "Rewards Updated: {'destroyed': -10.0, 'stuck': -11.0, 'reached': 10.0, 'standard': -1.0}\n",
      "Mode set: 0\n",
      "Maze site set: 3x3\n",
      "2.15 0.908 0 9 7.748\n"
     ]
    }
   ],
   "source": [
    "print(\"========================================================================== Testing:\")\n",
    "\n",
    "eval_py_env = suite_gym.load(env_name)\n",
    "eval_py_env.update_rewards(rewards[1]['destroyed'], rewards[1]['stuck'], rewards[1]['reached'], rewards[1]['standard'])\n",
    "eval_py_env.set_mode(0) # walls\n",
    "eval_py_env.set_size(maze_size)\n",
    "eval_env = tf_py_environment.TFPyEnvironment(eval_py_env)\n",
    "\n",
    "avg_return, finished_percentage, crashes_counter, stuck_counter, avg_steps = compute_logs(eval_env, agent.policy, rewards[1], 1000)\n",
    "\n",
    "print(avg_return, finished_percentage, crashes_counter, stuck_counter, avg_steps)"
   ]
  },
  {
   "cell_type": "code",
   "execution_count": 16,
   "metadata": {},
   "outputs": [
    {
     "name": "stderr",
     "output_type": "stream",
     "text": [
      "WARNING:root:IMAGEIO FFMPEG_WRITER WARNING: input image is not divisible by macro_block_size=16, resizing from (700, 700) to (704, 704) to ensure video compatibility with most codecs and players. To prevent resizing, make your input image divisible by the macro_block_size or set the macro_block_size to None (risking incompatibility). You may also see a FFMPEG warning concerning speedloss due to data not being aligned.\n"
     ]
    },
    {
     "name": "stdout",
     "output_type": "stream",
     "text": [
      "Mode set: 0\n",
      "Maze site set: 3x3\n"
     ]
    },
    {
     "data": {
      "text/html": [
       "\n",
       "    <video width=\"640\" height=\"480\" controls>\n",
       "    <source src=\"data:video/mp4;base64,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\" type=\"video/mp4\">\n",
       "    Your browser does not support the video tag.\n",
       "    </video>"
      ],
      "text/plain": [
       "<IPython.core.display.HTML object>"
      ]
     },
     "execution_count": 16,
     "metadata": {},
     "output_type": "execute_result"
    }
   ],
   "source": [
    "# Reset the environment.\n",
    "time_step = train_py_env.reset()\n",
    "train_py_env.set_mode(0)\n",
    "train_py_env.set_size(maze_size)\n",
    "\n",
    "\n",
    "# Gera video da politica do agente treinado até então\n",
    "create_policy_eval_video(agent.policy, f\"trained-agent-{description}3\", train_env, train_py_env)"
   ]
  },
  {
   "cell_type": "markdown",
   "metadata": {},
   "source": [
    "## Agent 4 - 3002"
   ]
  },
  {
   "cell_type": "code",
   "execution_count": 13,
   "metadata": {},
   "outputs": [
    {
     "name": "stdout",
     "output_type": "stream",
     "text": [
      "============================================================== Loading Checkpoint:\n",
      "<tf.Variable 'Variable:0' shape=() dtype=int32, numpy=14000>\n",
      "<tf.Variable 'Variable:0' shape=() dtype=int32, numpy=25200>\n",
      "<tf.Variable 'Variable:0' shape=() dtype=int32, numpy=25200>\n",
      "<tf.Variable 'learning_rate:0' shape=() dtype=float32, numpy=0.001>\n"
     ]
    }
   ],
   "source": [
    "print(\"============================================================== Loading Checkpoint:\")\n",
    "\n",
    "print(agent.train_step_counter)\n",
    "\n",
    "checkpoint_dir = './checkpoint/phase-3-4-tuning'\n",
    "train_checkpointer = common.Checkpointer(\n",
    "    ckpt_dir=checkpoint_dir,\n",
    "    max_to_keep=1,\n",
    "    agent=agent,\n",
    "    policy=agent.policy,\n",
    "    replay_buffer=replay_buffer,\n",
    "    global_step=agent.train_step_counter\n",
    ")\n",
    "\n",
    "print(agent.train_step_counter)\n",
    "\n",
    "\n",
    "train_checkpointer.initialize_or_restore()\n",
    "    \n",
    "print(agent.train_step_counter)\n",
    "\n",
    "agent._optimizer.learning_rate = learning_rate\n",
    "print(agent._optimizer.learning_rate)"
   ]
  },
  {
   "cell_type": "code",
   "execution_count": 14,
   "metadata": {},
   "outputs": [
    {
     "name": "stdout",
     "output_type": "stream",
     "text": [
      "========================================================================== Testing:\n",
      "Rewards Updated: {'destroyed': -10.0, 'stuck': -15.0, 'reached': 10.0, 'standard': -1.0}\n",
      "Mode set: 0\n",
      "Maze site set: 3x3\n",
      "-1.686 0.833 0 0 10.779\n"
     ]
    }
   ],
   "source": [
    "print(\"========================================================================== Testing:\")\n",
    "\n",
    "eval_py_env = suite_gym.load(env_name)\n",
    "eval_py_env.update_rewards(rewards[2]['destroyed'], rewards[2]['stuck'], rewards[2]['reached'], rewards[2]['standard'])\n",
    "eval_py_env.set_mode(0) # walls\n",
    "eval_py_env.set_size(maze_size)\n",
    "eval_env = tf_py_environment.TFPyEnvironment(eval_py_env)\n",
    "\n",
    "avg_return, finished_percentage, crashes_counter, stuck_counter, avg_steps = compute_logs(eval_env, agent.policy, rewards[1], 1000)\n",
    "\n",
    "print(avg_return, finished_percentage, crashes_counter, stuck_counter, avg_steps)"
   ]
  },
  {
   "cell_type": "code",
   "execution_count": 15,
   "metadata": {},
   "outputs": [
    {
     "name": "stderr",
     "output_type": "stream",
     "text": [
      "WARNING:root:IMAGEIO FFMPEG_WRITER WARNING: input image is not divisible by macro_block_size=16, resizing from (700, 700) to (704, 704) to ensure video compatibility with most codecs and players. To prevent resizing, make your input image divisible by the macro_block_size or set the macro_block_size to None (risking incompatibility). You may also see a FFMPEG warning concerning speedloss due to data not being aligned.\n"
     ]
    },
    {
     "name": "stdout",
     "output_type": "stream",
     "text": [
      "Mode set: 0\n",
      "Maze site set: 3x3\n"
     ]
    },
    {
     "data": {
      "text/html": [
       "\n",
       "    <video width=\"640\" height=\"480\" controls>\n",
       "    <source src=\"data:video/mp4;base64,AAAAIGZ0eXBpc29tAAACAGlzb21pc28yYXZjMW1wNDEAAAAIZnJlZQAAKCltZGF0AAACrgYF//+q3EXpvebZSLeWLNgg2SPu73gyNjQgLSBjb3JlIDE2MyByMzA2MCA1ZGI2YWE2IC0gSC4yNjQvTVBFRy00IEFWQyBjb2RlYyAtIENvcHlsZWZ0IDIwMDMtMjAyMSAtIGh0dHA6Ly93d3cudmlkZW9sYW4ub3JnL3gyNjQuaHRtbCAtIG9wdGlvbnM6IGNhYmFjPTEgcmVmPTMgZGVibG9jaz0xOjA6MCBhbmFseXNlPTB4MzoweDExMyBtZT1oZXggc3VibWU9NyBwc3k9MSBwc3lfcmQ9MS4wMDowLjAwIG1peGVkX3JlZj0xIG1lX3JhbmdlPTE2IGNocm9tYV9tZT0xIHRyZWxsaXM9MSA4eDhkY3Q9MSBjcW09MCBkZWFkem9uZT0yMSwxMSBmYXN0X3Bza2lwPTEgY2hyb21hX3FwX29mZnNldD0tMiB0aHJlYWRzPTkgbG9va2FoZWFkX3RocmVhZHM9MSBzbGljZWRfdGhyZWFkcz0wIG5yPTAgZGVjaW1hdGU9MSBpbnRlcmxhY2VkPTAgYmx1cmF5X2NvbXBhdD0wIGNvbnN0cmFpbmVkX2ludHJhPTAgYmZyYW1lcz0zIGJfcHlyYW1pZD0yIGJfYWRhcHQ9MSBiX2JpYXM9MCBkaXJlY3Q9MSB3ZWlnaHRiPTEgb3Blbl9nb3A9MCB3ZWlnaHRwPTIga2V5aW50PTI1MCBrZXlpbnRfbWluPTI0IHNjZW5lY3V0PTQwIGludHJhX3JlZnJlc2g9MCByY19sb29rYWhlYWQ9NDAgcmM9Y3JmIG1idHJlZT0xIGNyZj0yNS4wIHFjb21wPTAuNjAgcXBtaW49MCBxcG1heD02OSBxcHN0ZXA9NCBpcF9yYXRpbz0xLjQwIGFxPTE6MS4wMACAAAAD2WWIhAAz//72c3wKa0czlS4Fdvdmo+XQkuX7EGD60AAAAwAAAwAAAwEBbf+U2TZCKbkAAAMAD+AEJA1YQ3iZ5Azf+ACenA5Qms5CCwUQrTIV+htPUxvdASH232kvaNSEkXs/LVNkFHNSRdflR89zbrQsCAYstC+ZaYGM6gffCriAoMOuMI7S2EGm/m/J9tzBvzFPTvAADRCTU/09cSyzHp7aZPfBI0lJ/WIBBO4AWZ/nYA/tftJAeUV8m0Hfvat+gQlXhaRw3ifLcnXhWlZu++6QAAANJhCmK9dASEwSh+w1xNBBRkOIHW/ECZmTCOnpCP2RHcgK5Inh+W3syixCrlyjlkDgTuTCeR/HvM7EwW5+ZSk+HCOey8II9jK2S5UFunKTe4BElsjuGOFyVTlPzicB8b8AAAMAkgChgAASMsD0hcAAADDuLPpsBkuh57L4I1Y5B5kDbe8G64oB77oT6J24kEhReBzBwjF81NlztuEU56oabEii+qJI7AUkAK2eMnDUfzsm8H8kU9F9w2xrOhPuMKacRN/9H4t3V8PqcXvwJpMRASl7ndXxQlOg7N3+jI2czr2i1U96WVAqCEsDThQX3toXOnO/PbPRG2Zi2PmWdZhO4I21egqaIPHpsfWjWnlvi7fv2JeO42VM7SdnHr1R0p3v7glvQGjqe35OSxEkU6E9hyr9+PdqlqEN56G03fddieeoAOMbsNya9csH3ogp/T83P/ffC9rsI/JUO9vE733rNW2SnhbMXlfOzSV0ZSAkqI+uIACc0OGiVfNadxblGJJpMpvP+UfLGYn2IBGSVMaJeoNDGOBFHSbbX+3grJuWoMWLbZk3HoTzLbKjKZmNt6O4W+segrJtUtK7DPVSug9l3Ss150cXU6VH5q/bDHlLhGzmrkmkA3yoSrdxNMgXKEfQdZvs1w/XiuRVOESJkj/x8ZLoAdYtEkMObUz8kWJO3nNkXU9cobwe6Yn9MGtSnEmW7NxTsOFRQ0V+DKj+IaKCBpMGWAG8Cx+fqly8LOTgqcLrlXBpeeMBCHiK7iOvaY7EY2vm+EmvMAsM6X9D+uou7XO1P2r+YM+59eUbl54GIdvnDzLFFBJYGHntIIhp5bxErhqYWYIYy5mLuIa7FVoUtpXpimojQCOep1JpLrIoJSyLJ5A3YWht739OA8pU1iUM1hbevAHULhs5uTOeNYm8708DHYj1vVDvuH5SKUqAf8R+8BtfTPj2Xdli8rKapGQTTupGcRbudE5g3k7nAaAAJdG1xbU85mn78rpwbHjsG7w/KR+AgiZEKTAAAAMAAAMAAAMAGVEAAADTQZohbEM//jhAAAzdIxANXmgX6fzugFm6OgJKeNwGwrTqvh6/opma5DSTciB6TMrD84udZzQfOleDG8xKICW+HINJ1itnpUZKoSfhu6JOsty1a/XtOxuD2y9BzzXIxKt9faZLJheII/dbeuM3NwLCJ+qGCxiVNXbWYaEDTp4J3m1B1Ego4PPdt3o9u2H6/eUIH8vjCw9GQbYK6VQBq97DQcgHZG3EDYMGeUHOECZg6t1dJ/0b0WtsackHC8z9y+hkVFnakEIFwIUi+0SW55OlkaBLwAAAAm9BmkI8IZMphDP//jhAAAGn1VwLIpwAJ1XfFufb0DTkv+kGnyvizxf9C8DCy4ACkkhOSiMiwP4ygpMzCTkW+eXbLhj4HupfwTzrxpIZSjDWa6+yBvElvexWflE7yeDAA7GoHoA+f9DiSu8QltCpK3lLm6S6sCC4AdXeV7fdJPPzangrcCJc9VrdpnbvmViV+wq7pG0yauxbVj5w7ZpNxLBJtraKRMwIp0ZIITD+QYHVl8B7K8WbGRsQEmyXiMudsibmGoDNa5gZPf7rPMCi741WovGFwuvfu0AJ6CBvlgdMQ4CXlggPQsJ2RIOnN+tyggpJdXi8qgFQEF6rqIeQ4Dn1/bQSe9cyu9qDgRBFy3CvWceFfvBBfyQwlrylBHpoqWkm4PLftMmr3B0hIx2PJljjWNdwD4h7tZS4O9d5Ou5AwIUH3OeOIIzZng/8iuUxcfWvFV5uSimDN1r27F2DjXBoUcqS6WqMq7f32jPyi4Nwb1HQZKQuNgaerxYLQAYt6QOtY4YjXJsMJLr4JcjG+V+JoCHjpZABmw4vKUQwBXKg62gOio6lna/DjkmrcKJZ2pDyEyP15Xy4hWGl2yhXY0qKQ07AZu8UhgQsiOfCXtXO/YVHoUJACV8dRnH6Qx1oTe4m+hQEYtOEzwen9LptW2nwSDZVMvjfQKeLIXWIzd+MPa0CEnu7jebIdvEHPX24oPNoXaT4M+cXFckCu0JJEyq/oXBk6zy6JZki9/qjrbex5KF2WL4Xfw0nIJ5V9X/Ie+zfyFUBnR6Br6BBIvdk07eYlv0aW8T2xBC8zXK8M99vJu6A0jGf5amtDWZRaX65iQAAAMBBmmNJ4Q8mUwIZ//44QAACGiO4AAgvMm3BpRCuB3xjvIQ1gLWDg8ukd4RMr8bq5Y/Mkb7RQ8WZAoNJ93h839tylaoMfH2z9zQrx1WZClQgK7dyqfjkBnUfHPwZ1cZbdfkcHABSgxAAAtIXeqzqW7AXOEAC/1sAePN+bokAENVN9+YGCMtBM4O8W0SgQ6kG+iz0alTc9V22WB/KRJrqEt7O3gAe6jqzL/i5gv2c23pWytDwLSMl3sSwC0QAAFWkD/AAAADRQZqESeEPJlMCGf/+OEAAAse7fFsthQAHZDUl8rBfti+tIXw6scfKKcBo6kZ0XHtwGpLCmvlxTDNe+F7/dxz9RhbO6gNE+mH98qOLdIqY8CQoELzldW8U4ujsvKfHleIcCpGOceNd+BuvwAAHlcvPIv2E8GRACkwd3qU3n7SBGU69gAfUocTB0CBK+d39QTI1KkiDARk/Aid+AMQ0UWaHteShAEFR6Y7sszw+S+jQkDO1Xj+WMbMvU0kwzISiNcRAAAADAUgJZ+ChEf8C+dJzD0kAAAEkQZqlSeEPJlMCGf/+OEAAAsftbLWc+wVB1dNAuKQ6OdBxrmHkl+v0wQ7AcjIiCXljYWjQAAEbFagOh0g9Dmu4AQaL6XijAo0BHSXQd3GkhjxyK7mnYCYj/b+BUXa4hxmlRZM8SWVyC//vWkAIBCDAKBrggTyDGAwIkeCLvfNnV2OyeTwsDvAkAx1zlPgU2MN3wHL4l+3SQzb0V7GGrzmBuWej2aBy1ppkMg2ov7AWIm48Q2BREI6B0SuK0V0I0QMLzmG7XZv4RDdU7DXAnB40SENnzfkFwwc/yrU2+02lzelcmvsuhO/ACW3gaYLBMIAmHFq+EGe+oSDTSixRapsb65nkNADOe1CJZKiQaTn/AQZqtNMlKR7Z1WMrKwsPNNIo3K7EcQAAAHpBmsZJ4Q8mUwIZ//44QAACGpaHCzs7zqZBw36kNHqYElIk6IGL8sZmSLafDtSM7pgQYq6ACMNPI5pKxq8mPPXBspzIwYIcESDuGGcXJQRW/ACCPRB+5gFQGRTY0jfkishJPsBC6xIN/EW51PLQyGKeegAAAwAATQAXkQAAARdBmudJ4Q8mUwIZ//44QAACHfBDic59gqDq6agcTN1ubY8IaOJgCjTL0VinbAOJFbvNkAAAHRDAeLowXw1ZvPLoeKcuRkMh7aTUeZ4FoHVhjIxrHDFE6KEgBAJpt1bdMpVDEE6LMKMB34O+bg5QeiN2epIA/ioTBtgzLJpIkGTZPtNEYko8+p9hMaOki5loXLLjR+wthy7r0jhVIt8b//uZ1Ba1xxKy1I1kpQhDZGhMI5ypvIsnqz4/zIB9vEiLwDXcJnBbgqJV8E3KYehDz1sfoQj6sfFa6NXaJdQTj6sxZpEaAOMINk+urRxN93+L1uHZxgJXT5XVTT+QoJmgsBt5GIBcP4889kMENeGCXXoe5DThGdsAPGEAAAC5QZsISeEPJlMCGf/+OEAAAaf1IlrOfYKg6vUS5S2szW6AAABOwAPwCRDSYRVc/aZWmQTdhgA0Bm77NKPiLmpt1HcLRjeYlEBLfDkGDLd7rgqc4arxAbYhOMHvRe4sn/IhqL4eb+5QlTt7AEGebXGZgPh7UVPZK7QgQskFEqYDJa4U5nVtPl1YE6b4QW2SHnQzkkT2x6Nu0KsKlMNXwXwThX4fXunbNIEjYwYDJYUOYViy5t7GQAAAG9AAAAIMQZspSeEPJlMCGf/+OEAAAAMAFj9rZazn2CoOrz1ru90UCBQAtMgwqfbqFf1LM66HHBD4qQMm46z3MEB+XNfmx+8nVQnpUakdoQZ73w0H4Qs4wEQsRFRpXJTyRQCxvWlo1CAGHwd+RYLqgIl9AJ3/wUa1ju9x7/L/EKx1DBg/Be42UrsgkI5ftC8RQFJG99E5XTUo9anq7Jh5MrL7qoHA7h0tqYTkPg6WP0sCkvDIdVSgZyvYrcVZLQTBby7LXyVXLhEVM2ueDQFkKtD/SxAL25mkrvGfqAYyg46YMTDAAcn6kBM1v+AiUkKcS78zfofP+pNX3UAXhe3gdKw4c0JWc/aYbdpO6PN2zOGchG7t8ZfDb2Oi46Gyl35/fK4dT+UuMWRJOgP5pOBkD0fTm05DxoqromLknyKIAeO2vLNEX1Vqi+I5C6EzlbHDLNiavbsiRinZOEl/rUWC1FOWLUttXP8Uwe5h4pJjs6lt3GoVlCQ7AUtzjja0/Je80sUx12dTodqO70zt47T1om75Sw2OK5rBPRvegj2OlSz7vbtTLypSjLTkdSm4wDCvm7ky7TVa1XGGNMiEvVxXzCGeIqu4uu0F0CXSUbUUJFNBL4X6J2NyoCmaj+/fQDX1gMWQMMgcnn1FSYQLYNNbznMt7UdW2qah/EIr0f/aTXWANmm8ABovl+cYypW/rYAwATcAAADRQZtKSeEPJlMCGf/+OEAAAAMABzxwS7O+k/V8MzTTyM4cP32KboPk+F25Mr5TjdAEC3R7U+0AFH5k2OYBP4sK7eTQWmVoIWMxXcXS/+TgsDT0SpUDXhCdvyLsB7NDkwmpKarIUEPTTvcECPW7/dOmcYNwSI58Acg2eCsOL0MT/YK01Wk579EvcACyC7MmoSAuhZbIMv5EIWF0jnUCByuw70atnRgXJ9erwgiFzj0SKZIjqiVhz5sPjbjpg6COK6vBzAdksil2dA1+EtlDvsIAHzEAAADEQZtrSeEPJlMCGf/+OEAAAAMAAI9xKVp56FYADMuO+zTzjnm7sBVwbIE9IY7GrECOPEcoKFN3BNBKc3yTNqBVT4DsSHYa1oFhZPOK3t6b8TxCqsTX1cql3h+gDxTwRAx2qdBnMKT2EBlo133QrFPfHoLbVcN9TsWknc4FmlwcKhPj8CKqi3GGYgUlWOQyolkIntyFGTKxzClNQk8BJfk6yfSogT5Akb0tB4zLN5ejtux1eq0ACsAHME/POQvZdeCqmJgFfAAAANlBm4xJ4Q8mUwIZ//44QAAAAwABf/Ui9XrQJvXviWMjv3wGq0yBcCoAMoZu+zSj4i5wAdQ0rwY3mJRAS3w5BFsv0FW+GNHZ4nPJU3wr0XuLJ/we2XoOea5GJ6abeVNNb/6rBk8+AQP6gryvwSfII8h3RkGNzwXIMnUCZ+6d0x7apPx8fQoPvwA6R7UMggZBWYLBrKiozPXrYQyDyS8tZzWJ7Y9GQbYK6VQBq+Ozx7R/cM4gWVxxQCRsYECZg6tH42IE7CxbStYeUJun8VTm9gDFwQCCeiAAAH+AAAABgEGbrUnhDyZTAhn//jhAAAADABFuiAgjwRNVi3ks0jpByNaHuStwXws8Om5qbZ+8RabMziOCwFTV3VdJ2cfB1hvCGRj1aYoqW9Nd2+PHU/MRZHqVAAAkKAxhRCAgP9p0mQsVttT0//9czSS1xx7WAPdGHAkzKppTiC0eAYC91G2uPGOpXyE7VXMrylFuLkNKiUmpFmWcg4k7NnKQaIC6ONf+gCKHmxlBx0wYmGAA5P1ICZrf7z21O5e49KCD//h0EHpbfpEafkOaErOfs4KsdN9qMQgfkfbSusWrGb8YM2OMg0LTwz2yM/qPWIJM3OWj/n0O7IAfh66vnV437evLPzkMANTE8Avovnr6HO8eO2vm32WEw//yDgKo2mT5lmxNXt8cS7YLn7g2NX3YLqHD8FxLuFqyIpjla4Mx+7Jt3stYOaDYT1JAYL05XLlK0GniydHRJViA+QW4Wgf8GCjZfBLjoRdfWS5ra94Atjy+RWwDxfq2SsyKVwYT/S+f3gQCFwAAAM1Bm85J4Q8mUwIZ//44QAAAAwAF9PpkqYcC30AfLm75a1jZEv+bT2z6ztC6ip9ckJ2r3tMAgAo/MmxzAJ/FhXbcNiJlzJn4MV3FzqUlVo2MJvUEuiKGl4DazUi/pDUlNVkKCHpp6d5XcfIyZgjIQNC2k0IH2vBWbEiDE7pFPNXJg7Fw6jAAtrERU22hdQdRxv5MgJD7wqt+lduqlBKF9mZhX/cK8IIhc6IYNne46olbbD3ZLnSlNUedC1Xg5a/ta6LcvQNfhLZeDPygADjhAAACdEGb70nhDyZTAhn//jhAAAADABFVE0bDLkUiIKzJbkHUwSlfLDACrKu9JpeSQACj6ZjAFWRU1CcRDJV1E1ZE261Q8Cl/zEWqUfs0OnM5G6wJgrIW4ZgMkcbIP2JT9Zua7B3HxZJPdz7CFw+Mnk+nLODntNJ/uEM9+sQDV+p/b1FriO+QFZT9tkd4tbNLyt/bTYAdv91CaAWZVaBSUPFBFKH55QZElRtj+kjbkB+1AR5o98AjO2rDbowMPO/85nzykvYUsH8qpzGYA7pGSJys5KicMPNAsBi/6wfVU1USQgyK2bRkDfeCA90Yofxfnpv61GScL/zvELKQCvhB3UVtJdAlopL8Z+lOBjFpSzoWsXQURttmFsFWc+mbbMTKr/vvlaghpWvGHXv3YTjhkBE1Lke6rg3CAT8JxyACewiTMy8OUEiaQhE+QI3yRAH8phUohDxVS3kMy9l9BzwynavJT0gt9rs4PDCjWwzK29EMtP8xtPLJh8/VHBCc4QxPTZ8F8J4MY4XwMObPJ45KB6s2dyq1E60N1XboSzT/818IjnGQ0vfkSjABotZzel5Zr352L3sPLoD0f5mWBHVuIWGnhpkzX3sw+pdTs4GtUQnZih3j+3+V4XwivK5q1lYstltYW+XPHpF/6Jz7/KfY51jqofhvHX8Y4kxJgHjSW6TD/qqpjNa08EJFnaluWZRqBBcyE8b2PfCqvBnIavKiib6MYF82VJJgdillZ0DDmz/SZad7murzRY+krm3Vx8MAesx74ZZq2Ms/sy6e8+vnHb9Q4dCD4UFxTqjZdHLs597BbVLoHvMlmj8CgKFp6i2HXZep2dwAAkcAAADGQZoQSeEPJlMCGf/+OEAAAAMAAJN8ETsXWmQZStABlDN32aUfEXNTbqO4WjG8xKICW+HILxn1bP6yUOoLg/dPJThMr0XuLJ/yIai+Hm/uUJ8c5+Ox10pPQ7Ep72DyvfvHHWEjmQSi8DbngHah0H762k4x9JUy9rICuVNEUp125oL3vz7WRKoytLdcohAh5840I2Nj0bdoVYVKYavgE25gkrC5Lp2xofhFR9kCTChcyQUXaXvGHPfiChkZs9gXkV5LkPihADLgAAAAuEGaMUnhDyZTAhn//jhAAAGn1VwLIpwAJ1XfFufb0DTkv+kGnyvizxf9C8DCy4ACkkhOSiMiwP4ygpMzCTkW+eXbLhj4HupfwTzrxpIZSjDWa6+yBvElvexWflE7yeDAA7GoHoA+f9DiSu8QltCpK3lLm6S6sCC4AdXeV7fdJPPzangrcCJc9VrdpnbvmViV+wq7pG0yauxbPt5N+zXtTVS1PpfzRJ31P27IAfYIIOJBj3kAAAMAS8AAAABhQZpSSeEPJlMCGf/+OEAAAaf1IlrOfYKg6vPaSC1ryTlUAAAFwABCwKMN5lSjHKdzuP1CtC8LDedBSsyKOpR17gFEZJL6voeLvTKVe6OexwZ0BTpYBwPc4jHHavQAAAMCJwAAANBBmnNJ4Q8mUwIZ//44QAAAAwABzweHIGAGGgod5MpMDw94qK08/Mj4Lgru0RdSf9r+buwFXBsgT0hhNslucb5KL4Gf16CJ73D1TytsFhvgOxIdhrWgWFk84re3qziVUHA+l8fIq2rVK35pay8BAMsi6z2z1JAKfCSDfepdvA+UIIOAAHmapyFuaxUgovLI5A/lYIH/5JWFpnaoQN2RJkPUrE7GlTDpWA0dFAL/0shE+LmXlX0WkJw32/Gz+WwLJ9KiBPkCRvSfgBmdAAADAAbcAAAAcUGalEnhDyZTAhn//jhAAAADAAF/9SL1etAm9e+JYyO/e/AzBV0g+ilsM9nr7FGPJFDOkP6sdNYedH4odW42nsJ+SKIoPelKeF7e5b9X4kXEcr/Q56l+GPV0byz13AhEbm163fVAvvkVxHuVAAADAAsoAAAAvkGatUnhDyZTAhn//jhAAAGn1VwLIpwAJ1XfFufb0DTkv+kGnyvizxf9C8DCy4ACkkhOSiMiwP4ygpMzCTkW+eXbLhj4HupfwTzrxpIZSjDWa6+yBvElvexWflE7yeDAA7GoHoA+f9DiSu8QltCpK3lLm6S6sCC4AdXeV7fdJPPzangrcCJc9VrdpnbvmViV+wq7pG0yauxbPtyjJZZT/YsmSndVwBZwdYwitjxthZgr9uFv7src3+jsXgAABZUAAADKQZrWSeEPJlMCGf/+OEAAAhojuAAILzJtwaUQrgd8Y7yENYC1g4PLpHeETK/G6uWPzJG+0UPFmQKDSfd4fN/bcpWqDHx9s/c0K8dVmQpUICu3cqn45AZ1Hxz8GdXGW3X5HBwAUoMQAALSF3qs6luwFzhAAv9bAHjzfm6JABDVTffmBgjLQTODvFtEoEOpBvos9GpU3PVdtlgfykSa6hLezt4AHuo6sy/4uYL9nNt6VsrQ8C0jHc8DK9kA8MpcAAGJzEu2j1W4AAA7oAAAAM5BmvdJ4Q8mUwIb//6MsAAAt++PliGYAAFRyo2A74XUV91Vo+VpC7gid4up75CqqU1YE1lT0i2GyyR7CkLLm4M7QLh9Sh/EImKOjpRET1AA0NKeNe0MGCpbjNP5Kq6elZn2K2m1ejTCUPkboAA6FV79mko3g1oANy36wpTeftIEZTr+ABvIS69rRQDwIQvg4mRqVJEUAjuZut9lBtQa8WaHteSkQDzR6Y7ufS90fVCokH3KX5GlMdSz2rXAtL6xtcegAcuNyNq9e4w/AAAb0QAAAnxBmxlJ4Q8mUwURPDP//jhAAALH7Wy1nPsFQdXqJcpbWZq46mAAAGfABQwQlCGI9E46L7y6Ci9OAASnBqixhljzs6ULN3r0ZZdiXdMrerGmNlfjRr84Wsg8t6FldKkSyusAEuVIQxjNboZNRcGO+mtGmYO8jbKOmQEPDtc6S77HJl3nvcUfOAKacBOfz2t1CrtbSHlIeQWHiVET8O71rRBQWOmbejXZwATFoMyN3AHiayE8b6dtRneQnC7/dAWjjXPK9umQZ+J5pmyl9OuZgGUNZYUJM/5qiWd32Kt7uMvUsMQOqK9cawnhexZ9YaBt6TRst9CJPHQoupvSvB7hKYS7VH+EJ3RIfkM/mKC3Eap7yEXHvhIDEjRbk39+gMzCgj2sLknpMYaGMcfb0SOuSbS/rbjo/pCJVOTAcc+M83Z4dR2sEQ5g5q7Zg20/e32cpl0ljwhVbmgZYtOa/XPCm0NiLChTq+j7CB8NLTMX2HG6CBgU84URinbKv4bwBXl6hbF0FGOWKbTPQnSL5RkVOA44aW5ZiA5mvuyuqdp8c/ad6uGU+JYu/Wd0XcvCd4jMnln/QzCCWsMWbdAPi+bZivWl7lmqfhkCNVH9tJmbprgaPfebK3qYMuo0UCtQF3ZWjgtmdR2hBPWn1QZJdlI8ky/l6ZBhJD5/bh6n7xKi9/0IYCMGgoymUZ6IfabNlsns3X8Ebmt3RYn2WNwgaz7ZUUZ64FiXHIb4aB6ofGADF+W6/uzZ9ugwBPhHGHeGzNGmwJUJEOKguw50KnLSbolnZbAhs5TLPuSMTFT+i6NO62mhLgCB96xBgfN2FyErEK+9ENrEX5yqnNBYQHwbAS8AAABcAZ84akK/AAC58k4BuCy4mO6wicjIeKmdbDgJzawIs2qF5aI/x7rJiV76kFTMMZ+jBpLJym/op6Cb8fsK7EyG+unJgjNQFwABiOpPWSGFY3FarTL/fG3s3S9MBqQAAABmQZs6SeEPJlMCGf/+OEAAAsPbZi+civpZdR+ZPPzlqEokF69dxNMfFqHe44oAM/0oHIGKZW4RyvTnQZoTAqPcm+9ZZU27Nmpf6kYK5HZPvwsd6ykMgADRQKUKQhHIrqzpogAAAwHTAAAAyEGbW0nhDyZTAhn//jhAAALH7Wy1nPsFQdXqYp1wMveEAGzu9JaqOanGO8g4M6oZD1O1PAEHnCd79uNMpuVNMasc8fRWTlj2+eQQsoGuAPsivl62Tu4ANuJ0+vAmWeAw/7lqeh88nZ6SUMgABT23wr9XIHAEzwOJBfz5CIOShAagEK7DhjU4bdyhkT/diCoM/kW22IezanlxqJHB8qyP9CW9m/raA2aHubQyPfLRhzbdgwo7OxkAAAMAABp6K1t1NpoADFcAAJOAAAAA70GbfEnhDyZTAhn//jhAAAId8EOJzn2CoOr1EpoHczbC6OcgABiPYA067RauXeSG4/3Xs3UCjP1xzhAAHBb9qnRLiMOKMTmVTBYMPX7dFKZzHOkpz5Bl8z2/L0fYlfS5AneWTVMegUOA57tbMy3UFciZ+O0hQ/x5PvEUB68Aetw1ANifCUz0QH2MZQYL4Er+tuxMXN8FQq42caBdriApYy37wdKHpaKzpcGds6JTBktPChZWjHnVCPDuTy8Akd+qsXpJ2pcOaTdE6n/WPMDxE/DPzYlBfLqqVWTwAKkDNFdthoqV/mPGKcCOsAAAAwP9AAAAYEGbnUnhDyZTAhn//jhAAALEBjYQhw2Sy9qqBKmBK85zgVouCS+pAxJpX+fVTPLpez0+gJswNoRpQJ/JWj2h9yxAIyRbn/yVW/yS9OV7SWVWYAICBBhXkKqvNAAAAwBswQAAAGxBm75J4Q8mUwIZ//44QAACx+1stZz7BUHV6mB3pDGTb0FNmBp70lAAWGCrWIAMmupkAACcTMXmu3UoEeADeeTwScYcQChwJL2PsaEhQhRKQeXPNBzEsDPVPB64KiZKa+hJAPIAAAMAAAMACpgAAAC/QZvfSeEPJlMCGf/+OEAAAh3wQ4nOfYKg6vUxTrgWEsQAft2kW59vQNOS/6QafK+LPA1Xh3GgJ+qPoG9hRjI8ZQUmZhJp1MdfK1OShejzJm5v7miXS6wnNSZNjqnh2kg+XtDy9pWKz30S/EKoNS4heLoaqpaUkQBPVpGGwSTJq1/R3YAiflMb3/EQHIH7KIVwmWBxVWJ/cHsQipuesCidirIj8C8kDiZ3zKxNdFw7RoTWH/di2adAAAADAAADAWkAAAG+QZvgSeEPJlMCGf/+OEAAAhp9bi+ciuxpV4IRThPm9SJ51c/DacHAWILVwMUJ75GC0AAJa27ZSbnrsjRnp2CeSjC3D7gwgP7NcAQ4MPPvf7b4PNxMuwA27yTze85VNIHjSGs5b+RW3acOWs1vb+KXPs8vYZI+UlRnHDhCT54+lREMImSz5cdZB4jJ2Ym5ogXKzRyWjZ3isoWV2cFr/tpSMfg5QlmeqgVUyI1c/aptHaEcuiDYunjOHQ4rFYa82qsDd3lxfpX9ZVCVYLyqr/oE0f2fZ1iAkOw0blP/GjjY9BLQHZuW3GfquMAPGDpQQohjlO8ZGBxZmJBKo6omFtwb0ymUjelqLDCslp74KdSBmlFO3ncHJal/gwwzTjYCdezflCWsJmDGAP+Ly2+rKGNITp/vVBzdlYgwyUl0648mDe6wpSXHRXP1Dhu/Y25rMe2XNiIcuQaH6gSV1y4SaKfYlXdBIiejXDaskQ2Ota5aHipKub+ZOPdix8qEb0rMFym2N6BPyQodL2BJ2Q1BhhW/6ZNvwaS3EdlV1vOnMURnX7bMZOm7erAcDFWULy/qLlleBUjA0RyxlgX4jTYgHdEAAABeQZoBSeEPJlMCGf/+OEAAAh3wQ4nOfYKg6vUwOLnGTb0FNhoVEyUABYUx7QkQZNbZYAAVCa8rwdItoLgA3bheLbl/D81vrrsACoZTNUv5JUs6009NfoAAAAMAAAMC0gAAALVBmiJJ4Q8mUwIX//3xAAADA/vpuY0TxMBspl2rq9iIT6kAAARIADUAkwz2WZXP2mNpkFCVYAOq6UBPSjkJHOaD50M/hcW6BAbYYxL2zumRt1hV9YZnzYhTHvLWGawX/BvMFt0QWQ6lTx7+zqHl7xAYD0etyYzRTuewK5BRKl/Q9Uf8zq2ny6SCFNBo7bJD4h6NqEUg9GQZN7hknfILHrEEPPImvp27B5j9YCBHIfzGdAAAAwInAAAAw0GaQ0nhDyZTAhX//eEAAAMAAAMBr4YEkzBsMIX+97R6xDExZvEAABLwAJABKxZFLRn/qFNfPk0AAnbBszJTSK0hBxiB7c5Z77Qlj/y4f34Uq5H1A3f+ZxniavE23jtCcOfm3Q0ecqoVfaJhFGbaXMj4svNkDYEv4WaaBu4Zga55DPXQPFpxASsGzQ4jB2PK5rBOn8feFnvWOF86tiQIeIrUod7SyZMNAzseIU+ns3ZKuftyvit7H4LTyjakD8CNVLYCqgAAA9ltb292AAAAbG12aGQAAAAAAAAAAAAAAAAAAAPoAAAF3AABAAABAAAAAAAAAAAAAAAAAQAAAAAAAAAAAAAAAAAAAAEAAAAAAAAAAAAAAAAAAEAAAAAAAAAAAAAAAAAAAAAAAAAAAAAAAAAAAAAAAAACAAADA3RyYWsAAABcdGtoZAAAAAMAAAAAAAAAAAAAAAEAAAAAAAAF3AAAAAAAAAAAAAAAAAAAAAAAAQAAAAAAAAAAAAAAAAAAAAEAAAAAAAAAAAAAAAAAAEAAAAACwAAAAsAAAAAAACRlZHRzAAAAHGVsc3QAAAAAAAAAAQAABdwAAAQAAAEAAAAAAnttZGlhAAAAIG1kaGQAAAAAAAAAAAAAAAAAADAAAABIAFXEAAAAAAAtaGRscgAAAAAAAAAAdmlkZQAAAAAAAAAAAAAAAFZpZGVvSGFuZGxlcgAAAAImbWluZgAAABR2bWhkAAAAAQAAAAAAAAAAAAAAJGRpbmYAAAAcZHJlZgAAAAAAAAABAAAADHVybCAAAAABAAAB5nN0YmwAAACuc3RzZAAAAAAAAAABAAAAnmF2YzEAAAAAAAAAAQAAAAAAAAAAAAAAAAAAAAACwALAAEgAAABIAAAAAAAAAAEAAAAAAAAAAAAAAAAAAAAAAAAAAAAAAAAAAAAAAAAAAAAY//8AAAA0YXZjQwFkAB//4QAYZ2QAH6zZQLAWaEAAAAMAQAAADAPGDGWAAQAFaOvnLIv9+PgAAAAAFGJ0cnQAAAAAAADWBQAA1gUAAAAYc3R0cwAAAAAAAAABAAAAJAAAAgAAAAAUc3RzcwAAAAAAAAABAAAAAQAAADBjdHRzAAAAAAAAAAQAAAAYAAAEAAAAAAEAAAYAAAAAAQAAAgAAAAAKAAAEAAAAABxzdHNjAAAAAAAAAAEAAAABAAAAJAAAAAEAAACkc3RzegAAAAAAAAAAAAAAJAAABo8AAADXAAACcwAAAMQAAADVAAABKAAAAH4AAAEbAAAAvQAAAhAAAADVAAAAyAAAAN0AAAGEAAAA0QAAAngAAADKAAAAvAAAAGUAAADUAAAAdQAAAMIAAADOAAAA0gAAAoAAAABgAAAAagAAAMwAAADzAAAAZAAAAHAAAADDAAABwgAAAGIAAAC5AAAAxwAAABRzdGNvAAAAAAAAAAEAAAAwAAAAYnVkdGEAAABabWV0YQAAAAAAAAAhaGRscgAAAAAAAAAAbWRpcmFwcGwAAAAAAAAAAAAAAAAtaWxzdAAAACWpdG9vAAAAHWRhdGEAAAABAAAAAExhdmY1OC43Ni4xMDA=\" type=\"video/mp4\">\n",
       "    Your browser does not support the video tag.\n",
       "    </video>"
      ],
      "text/plain": [
       "<IPython.core.display.HTML object>"
      ]
     },
     "execution_count": 15,
     "metadata": {},
     "output_type": "execute_result"
    }
   ],
   "source": [
    "# Reset the environment.\n",
    "time_step = train_py_env.reset()\n",
    "train_py_env.set_mode(0)\n",
    "train_py_env.set_size(maze_size)\n",
    "\n",
    "\n",
    "# Gera video da politica do agente treinado até então\n",
    "create_policy_eval_video(agent.policy, f\"trained-agent-{description}4\", train_env, train_py_env)"
   ]
  },
  {
   "cell_type": "code",
   "execution_count": null,
   "metadata": {},
   "outputs": [],
   "source": []
  }
 ],
 "metadata": {
  "kernelspec": {
   "display_name": "maze-drone-v03",
   "language": "python",
   "name": "python3"
  },
  "language_info": {
   "codemirror_mode": {
    "name": "ipython",
    "version": 3
   },
   "file_extension": ".py",
   "mimetype": "text/x-python",
   "name": "python",
   "nbconvert_exporter": "python",
   "pygments_lexer": "ipython3",
   "version": "3.10.12"
  }
 },
 "nbformat": 4,
 "nbformat_minor": 2
}

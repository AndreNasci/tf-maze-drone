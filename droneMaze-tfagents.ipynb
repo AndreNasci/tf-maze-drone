{
 "cells": [
  {
   "cell_type": "markdown",
   "metadata": {},
   "source": [
    "# MazeDrone with TF Agents"
   ]
  },
  {
   "cell_type": "markdown",
   "metadata": {},
   "source": [
    "### Setup"
   ]
  },
  {
   "cell_type": "code",
   "execution_count": 1,
   "metadata": {},
   "outputs": [],
   "source": [
    "import os\n",
    "# Keep using keras-2 (tf-keras) rather than keras-3 (keras).\n",
    "os.environ['TF_USE_LEGACY_KERAS'] = '1'"
   ]
  },
  {
   "cell_type": "code",
   "execution_count": 2,
   "metadata": {},
   "outputs": [
    {
     "name": "stderr",
     "output_type": "stream",
     "text": [
      "2024-05-27 19:32:49.319534: I external/local_tsl/tsl/cuda/cudart_stub.cc:32] Could not find cuda drivers on your machine, GPU will not be used.\n",
      "2024-05-27 19:32:49.324851: I external/local_tsl/tsl/cuda/cudart_stub.cc:32] Could not find cuda drivers on your machine, GPU will not be used.\n",
      "2024-05-27 19:32:49.384563: I tensorflow/core/platform/cpu_feature_guard.cc:210] This TensorFlow binary is optimized to use available CPU instructions in performance-critical operations.\n",
      "To enable the following instructions: AVX2 FMA, in other operations, rebuild TensorFlow with the appropriate compiler flags.\n",
      "2024-05-27 19:32:50.640979: W tensorflow/compiler/tf2tensorrt/utils/py_utils.cc:38] TF-TRT Warning: Could not find TensorRT\n"
     ]
    }
   ],
   "source": [
    "from __future__ import absolute_import, division, print_function\n",
    "\n",
    "import base64\n",
    "import imageio\n",
    "import IPython\n",
    "import matplotlib\n",
    "import matplotlib.pyplot as plt\n",
    "import numpy as np\n",
    "import PIL.Image\n",
    "import pyvirtualdisplay\n",
    "#import reverb\n",
    "\n",
    "import tensorflow as tf\n",
    "\n",
    "from tf_agents.agents.dqn import dqn_agent\n",
    "from tf_agents.drivers import py_driver\n",
    "from tf_agents.environments import suite_gym\n",
    "from tf_agents.environments import tf_py_environment\n",
    "from tf_agents.eval import metric_utils\n",
    "from tf_agents.metrics import tf_metrics\n",
    "from tf_agents.networks import sequential\n",
    "from tf_agents.policies import py_tf_eager_policy\n",
    "from tf_agents.policies import random_tf_policy\n",
    "from tf_agents.replay_buffers import reverb_replay_buffer\n",
    "from tf_agents.replay_buffers import reverb_utils\n",
    "from tf_agents.trajectories import trajectory\n",
    "from tf_agents.specs import tensor_spec\n",
    "from tf_agents.utils import common"
   ]
  },
  {
   "cell_type": "markdown",
   "metadata": {},
   "source": [
    "### Hyperparameters"
   ]
  },
  {
   "cell_type": "code",
   "execution_count": 3,
   "metadata": {},
   "outputs": [],
   "source": [
    "num_iterations = 10000 # @param {type:\"integer\"}\n",
    "\n",
    "initial_collect_steps = 100  # @param {type:\"integer\"}\n",
    "collect_steps_per_iteration = 1 # @param {type:\"integer\"}\n",
    "replay_buffer_max_length = 100000  # @param {type:\"integer\"}\n",
    "\n",
    "batch_size = 64  # @param {type:\"integer\"}\n",
    "learning_rate = 1e-3  # @param {type:\"number\"}\n",
    "log_interval = 200  # @param {type:\"integer\"}\n",
    "\n",
    "num_eval_episodes = 10  # @param {type:\"integer\"}\n",
    "eval_interval = 1000  # @param {type:\"integer\"}"
   ]
  },
  {
   "cell_type": "markdown",
   "metadata": {},
   "source": [
    "### Environment"
   ]
  },
  {
   "cell_type": "code",
   "execution_count": 4,
   "metadata": {},
   "outputs": [],
   "source": [
    "# Some necessary imports \n",
    "import sys\n",
    "sys.path.append('/home/naski/Documents/dev/maze_drone_v02/maze-drone-v02/lib/python3.10/site-packages')\n",
    "import gym\n",
    "import gym_maze\n",
    "#from gym import Env\n",
    "#from gym.spaces import Discrete, Box"
   ]
  },
  {
   "cell_type": "code",
   "execution_count": 5,
   "metadata": {},
   "outputs": [
    {
     "data": {
      "text/plain": [
       "TimeStep(\n",
       "{'step_type': array(0, dtype=int32),\n",
       " 'reward': array(0., dtype=float32),\n",
       " 'discount': array(1., dtype=float32),\n",
       " 'observation': array([0., 1., 0., 0., 5.], dtype=float32)})"
      ]
     },
     "execution_count": 5,
     "metadata": {},
     "output_type": "execute_result"
    }
   ],
   "source": [
    "# Importing custom environment\n",
    "env_name = 'maze-v0'\n",
    "env = suite_gym.load(env_name)\n",
    "#env = gym.make(env_name)\n",
    "\n",
    "# Testing\n",
    "env.reset()"
   ]
  },
  {
   "cell_type": "markdown",
   "metadata": {},
   "source": [
    "#### Aqui vai o código para renderizar um frame do labirinto criado:"
   ]
  },
  {
   "cell_type": "code",
   "execution_count": 6,
   "metadata": {},
   "outputs": [
    {
     "data": {
      "image/png": "[encoded data removed]",
      "text/plain": [
       "<PIL.Image.Image image mode=RGBA size=700x700>"
      ]
     },
     "execution_count": 6,
     "metadata": {},
     "output_type": "execute_result"
    }
   ],
   "source": [
    "PIL.Image.fromarray(env.render())"
   ]
  },
  {
   "cell_type": "code",
   "execution_count": 7,
   "metadata": {},
   "outputs": [],
   "source": [
    "# Rendering enviroment sample \n",
    "env.reset()\n",
    "#PIL.Image.fromarray(env.render())\n",
    "_ = env.render()"
   ]
  },
  {
   "cell_type": "markdown",
   "metadata": {},
   "source": [
    "The `time_step_spec()` method returns the specification for the TimeStep tuple. Its observation attribute shows the shape of observations, the data types, and the ranges of allowed values.\n",
    "\n",
    "The `reward` attribute shows the same details for the reward.\n",
    "\n",
    "The `action_spec()` method returns the shape, data types, and allowed values of valid actions."
   ]
  },
  {
   "cell_type": "code",
   "execution_count": 8,
   "metadata": {},
   "outputs": [
    {
     "name": "stdout",
     "output_type": "stream",
     "text": [
      "Observation Spec:\n",
      "BoundedArraySpec(shape=(5,), dtype=dtype('float32'), name='observation', minimum=[0. 0. 0. 0. 0.], maximum=[ 1.  1.  1.  1. 20.])\n"
     ]
    }
   ],
   "source": [
    "print('Observation Spec:')\n",
    "print(env.time_step_spec().observation)"
   ]
  },
  {
   "cell_type": "code",
   "execution_count": 9,
   "metadata": {},
   "outputs": [
    {
     "name": "stdout",
     "output_type": "stream",
     "text": [
      "Reward Spec:\n",
      "ArraySpec(shape=(), dtype=dtype('float32'), name='reward')\n"
     ]
    }
   ],
   "source": [
    "print('Reward Spec:')\n",
    "print(env.time_step_spec().reward)"
   ]
  },
  {
   "cell_type": "code",
   "execution_count": 10,
   "metadata": {},
   "outputs": [
    {
     "name": "stdout",
     "output_type": "stream",
     "text": [
      "Action Spec:\n",
      "BoundedArraySpec(shape=(), dtype=dtype('int64'), name='action', minimum=0, maximum=3)\n"
     ]
    }
   ],
   "source": [
    "print('Action Spec:')\n",
    "print(env.action_spec())"
   ]
  },
  {
   "cell_type": "code",
   "execution_count": 11,
   "metadata": {},
   "outputs": [
    {
     "name": "stdout",
     "output_type": "stream",
     "text": [
      "Time step:\n",
      "TimeStep(\n",
      "{'step_type': array(0, dtype=int32),\n",
      " 'reward': array(0., dtype=float32),\n",
      " 'discount': array(1., dtype=float32),\n",
      " 'observation': array([0.       , 0.       , 1.       , 0.       , 6.3245554],\n",
      "      dtype=float32)})\n",
      "Next time step:\n",
      "TimeStep(\n",
      "{'step_type': array(1, dtype=int32),\n",
      " 'reward': array(13.291796, dtype=float32),\n",
      " 'discount': array(1., dtype=float32),\n",
      " 'observation': array([0.      , 0.      , 1.      , 0.      , 6.708204], dtype=float32)})\n"
     ]
    }
   ],
   "source": [
    "time_step = env.reset()\n",
    "print('Time step:')\n",
    "print(time_step)\n",
    "\n",
    "action = np.array(1, dtype=np.int32)\n",
    "\n",
    "next_time_step = env.step(action)\n",
    "print('Next time step:')\n",
    "print(next_time_step)"
   ]
  },
  {
   "cell_type": "markdown",
   "metadata": {},
   "source": [
    "Usually two environments are instantiated: one for training and one for evaluation."
   ]
  },
  {
   "cell_type": "code",
   "execution_count": 12,
   "metadata": {},
   "outputs": [],
   "source": [
    "train_py_env = suite_gym.load(env_name)\n",
    "eval_py_env = suite_gym.load(env_name)"
   ]
  },
  {
   "cell_type": "code",
   "execution_count": 13,
   "metadata": {},
   "outputs": [],
   "source": [
    "# Converts environments, originally in pure Python, to tensors (using a wrapper)\n",
    "train_env = tf_py_environment.TFPyEnvironment(train_py_env)\n",
    "eval_env = tf_py_environment.TFPyEnvironment(eval_py_env)"
   ]
  },
  {
   "cell_type": "markdown",
   "metadata": {},
   "source": [
    "### Agent\n",
    "The DQN agent can be used in any environment which has a **discrete** action space.\n",
    "\n",
    "At the heart of a DQN Agent is a QNetwork, a neural network model that can learn to predict QValues (expected returns) for all actions, given an observation from the environment.\n",
    "\n",
    "We will use tf_agents.networks. to create a QNetwork. The network will consist of a sequence of `tf.keras.layers.Dense` layers, where the final layer will have 1 output for each possible action."
   ]
  },
  {
   "cell_type": "code",
   "execution_count": 14,
   "metadata": {},
   "outputs": [],
   "source": [
    "fc_layer_params = (100, 50) # fc = fully connected\n",
    "action_tensor_spec = tensor_spec.from_spec(env.action_spec())\n",
    "num_actions = action_tensor_spec.maximum - action_tensor_spec.minimum + 1\n",
    "\n",
    "# Define a helper function to create Dense layers configured with the right\n",
    "# activation and kernel initializer.\n",
    "def dense_layer(num_units):\n",
    "  return tf.keras.layers.Dense(\n",
    "      num_units,\n",
    "      activation=tf.keras.activations.relu,\n",
    "      kernel_initializer=tf.keras.initializers.VarianceScaling(\n",
    "          scale=2.0, mode='fan_in', distribution='truncated_normal'))\n",
    "\n",
    "# QNetwork consists of a sequence of Dense layers followed by a dense layer\n",
    "# with `num_actions` units to generate one q_value per available action as\n",
    "# its output.\n",
    "dense_layers = [dense_layer(num_units) for num_units in fc_layer_params]\n",
    "q_values_layer = tf.keras.layers.Dense(\n",
    "    num_actions,\n",
    "    activation=None,\n",
    "    kernel_initializer=tf.keras.initializers.RandomUniform(\n",
    "        minval=-0.03, maxval=0.03),\n",
    "    bias_initializer=tf.keras.initializers.Constant(-0.2))\n",
    "q_net = sequential.Sequential(dense_layers + [q_values_layer])"
   ]
  },
  {
   "cell_type": "markdown",
   "metadata": {},
   "source": [
    "Use `tf_agents.agents.dqn.dqn_agent` to instantiate a `DqnAgent`."
   ]
  },
  {
   "cell_type": "code",
   "execution_count": 15,
   "metadata": {},
   "outputs": [],
   "source": [
    "optimizer = tf.keras.optimizers.Adam(learning_rate=learning_rate)\n",
    "\n",
    "train_step_counter = tf.Variable(0)\n",
    "\n",
    "agent = dqn_agent.DqnAgent(\n",
    "    train_env.time_step_spec(),\n",
    "    train_env.action_spec(),\n",
    "    q_network=q_net,\n",
    "    optimizer=optimizer,\n",
    "    td_errors_loss_fn=common.element_wise_squared_loss,\n",
    "    train_step_counter=train_step_counter)\n",
    "\n",
    "agent.initialize()"
   ]
  },
  {
   "cell_type": "markdown",
   "metadata": {},
   "source": [
    "### Policies\n",
    "\n",
    "Agents contain two policies:\n",
    "\n",
    "`agent.policy` — The main policy that is used for evaluation and deployment.\n",
    "\n",
    "`agent.collect_policy` — A second policy that is used for data collection.\n",
    "\n"
   ]
  },
  {
   "cell_type": "code",
   "execution_count": 16,
   "metadata": {},
   "outputs": [],
   "source": [
    "eval_policy = agent.policy\n",
    "collect_policy = agent.collect_policy"
   ]
  },
  {
   "cell_type": "markdown",
   "metadata": {},
   "source": [
    "To get an action from a policy, call the `policy.action(time_step)` method. The `time_step` contains the observation from the environment. "
   ]
  },
  {
   "cell_type": "code",
   "execution_count": 17,
   "metadata": {},
   "outputs": [],
   "source": [
    "# Random policy for baseline\n",
    "random_policy = random_tf_policy.RandomTFPolicy(train_env.time_step_spec(),\n",
    "                                                train_env.action_spec())"
   ]
  },
  {
   "cell_type": "code",
   "execution_count": 18,
   "metadata": {},
   "outputs": [],
   "source": [
    "example_environment = tf_py_environment.TFPyEnvironment(\n",
    "    suite_gym.load(env_name))"
   ]
  },
  {
   "cell_type": "code",
   "execution_count": 19,
   "metadata": {},
   "outputs": [],
   "source": [
    "time_step = example_environment.reset()"
   ]
  },
  {
   "cell_type": "code",
   "execution_count": 20,
   "metadata": {},
   "outputs": [
    {
     "data": {
      "text/plain": [
       "PolicyStep(action=<tf.Tensor: shape=(1,), dtype=int64, numpy=array([0])>, state=(), info=())"
      ]
     },
     "execution_count": 20,
     "metadata": {},
     "output_type": "execute_result"
    }
   ],
   "source": [
    "random_policy.action(time_step)"
   ]
  },
  {
   "cell_type": "markdown",
   "metadata": {},
   "source": [
    "### Metrics and Evaluation\n",
    "The most common metric used to evaluate a policy is the average return. The return is the sum of rewards obtained while running a policy in an environment for an episode. Several episodes are run, creating an average return.\n",
    "\n",
    "The following function computes the average return of a policy, given the policy, environment, and a number of episodes.\n",
    "\n",
    "\n"
   ]
  },
  {
   "cell_type": "code",
   "execution_count": 21,
   "metadata": {},
   "outputs": [],
   "source": [
    "def compute_avg_return(environment, policy, num_episodes=10):\n",
    "\n",
    "  total_return = 0.0\n",
    "  for _ in range(num_episodes):\n",
    "\n",
    "    time_step = environment.reset()\n",
    "    episode_return = 0.0\n",
    "\n",
    "    while not time_step.is_last():\n",
    "      action_step = policy.action(time_step)\n",
    "      time_step = environment.step(action_step.action)\n",
    "      episode_return += time_step.reward\n",
    "    total_return += episode_return\n",
    "\n",
    "  avg_return = total_return / num_episodes\n",
    "  return avg_return.numpy()[0]\n",
    "\n",
    "\n",
    "# See also the metrics module for standard implementations of different metrics.\n",
    "# https://github.com/tensorflow/agents/tree/master/tf_agents/metrics"
   ]
  },
  {
   "cell_type": "code",
   "execution_count": 22,
   "metadata": {},
   "outputs": [
    {
     "data": {
      "text/plain": [
       "-473.51074"
      ]
     },
     "execution_count": 22,
     "metadata": {},
     "output_type": "execute_result"
    }
   ],
   "source": [
    "# Running it on the random policy to get a baseline for the environment\n",
    "compute_avg_return(eval_env, random_policy, num_eval_episodes)"
   ]
  },
  {
   "cell_type": "markdown",
   "metadata": {},
   "source": [
    "### Replay Buffer"
   ]
  },
  {
   "cell_type": "code",
   "execution_count": 23,
   "metadata": {},
   "outputs": [],
   "source": [
    "from tf_agents.drivers import dynamic_step_driver\n",
    "from tf_agents.replay_buffers import tf_uniform_replay_buffer"
   ]
  },
  {
   "cell_type": "code",
   "execution_count": 24,
   "metadata": {},
   "outputs": [],
   "source": [
    "replay_buffer_capacity = replay_buffer_max_length\n",
    "\n",
    "replay_buffer = tf_uniform_replay_buffer.TFUniformReplayBuffer(\n",
    "    agent.collect_data_spec,\n",
    "    batch_size=train_env.batch_size,\n",
    "    max_length=replay_buffer_capacity)\n",
    "\n",
    "# Add an observer that adds to the replay buffer:\n",
    "replay_observer = [replay_buffer.add_batch]"
   ]
  },
  {
   "cell_type": "markdown",
   "metadata": {},
   "source": [
    "### Data Collection"
   ]
  },
  {
   "cell_type": "code",
   "execution_count": 25,
   "metadata": {},
   "outputs": [],
   "source": [
    "collect_steps_per_iteration = 1\n",
    "\n",
    "# Data collection:\n",
    "collect_op = dynamic_step_driver.DynamicStepDriver(\n",
    "  train_env,\n",
    "  agent.collect_policy,\n",
    "  observers=replay_observer,\n",
    "  num_steps=collect_steps_per_iteration).run()"
   ]
  },
  {
   "cell_type": "code",
   "execution_count": 26,
   "metadata": {},
   "outputs": [
    {
     "name": "stdout",
     "output_type": "stream",
     "text": [
      "WARNING:tensorflow:From /home/naski/Documents/dev/maze_drone_v02/maze-drone-v03/lib/python3.10/site-packages/tensorflow/python/autograph/impl/api.py:377: ReplayBuffer.get_next (from tf_agents.replay_buffers.replay_buffer) is deprecated and will be removed in a future version.\n",
      "Instructions for updating:\n",
      "Use `as_dataset(..., single_deterministic_pass=False) instead.\n"
     ]
    },
    {
     "data": {
      "text/plain": [
       "<_PrefetchDataset element_spec=(Trajectory(\n",
       "{'step_type': TensorSpec(shape=(64, 2), dtype=tf.int32, name=None),\n",
       " 'observation': TensorSpec(shape=(64, 2, 5), dtype=tf.float32, name=None),\n",
       " 'action': TensorSpec(shape=(64, 2), dtype=tf.int64, name=None),\n",
       " 'policy_info': (),\n",
       " 'next_step_type': TensorSpec(shape=(64, 2), dtype=tf.int32, name=None),\n",
       " 'reward': TensorSpec(shape=(64, 2), dtype=tf.float32, name=None),\n",
       " 'discount': TensorSpec(shape=(64, 2), dtype=tf.float32, name=None)}), BufferInfo(ids=TensorSpec(shape=(64, 2), dtype=tf.int64, name=None), probabilities=TensorSpec(shape=(64,), dtype=tf.float32, name=None)))>"
      ]
     },
     "execution_count": 26,
     "metadata": {},
     "output_type": "execute_result"
    }
   ],
   "source": [
    "# Dataset generates trajectories with shape [Bx2x...]\n",
    "dataset = replay_buffer.as_dataset(\n",
    "    num_parallel_calls=3,\n",
    "    sample_batch_size=batch_size,\n",
    "    num_steps=2).prefetch(3)\n",
    "\n",
    "dataset"
   ]
  },
  {
   "cell_type": "markdown",
   "metadata": {},
   "source": [
    "### Training the Agent"
   ]
  },
  {
   "cell_type": "code",
   "execution_count": 27,
   "metadata": {},
   "outputs": [
    {
     "name": "stdout",
     "output_type": "stream",
     "text": [
      "WARNING:tensorflow:From /home/naski/Documents/dev/maze_drone_v02/maze-drone-v03/lib/python3.10/site-packages/tensorflow/python/util/dispatch.py:1260: calling foldr_v2 (from tensorflow.python.ops.functional_ops) with back_prop=False is deprecated and will be removed in a future version.\n",
      "Instructions for updating:\n",
      "back_prop=False is deprecated. Consider using tf.stop_gradient instead.\n",
      "Instead of:\n",
      "results = tf.foldr(fn, elems, back_prop=False)\n",
      "Use:\n",
      "results = tf.nest.map_structure(tf.stop_gradient, tf.foldr(fn, elems))\n",
      "step = 200: loss = 9107.166015625\n",
      "step = 400: loss = 14873.5810546875\n",
      "step = 600: loss = 11911.4892578125\n",
      "step = 800: loss = 2183.78076171875\n",
      "step = 1000: loss = 3239.603271484375\n",
      "step = 1000: Average Return = 521.1368408203125\n",
      "step = 1200: loss = 10592.73046875\n",
      "step = 1400: loss = 4311.51513671875\n",
      "step = 1600: loss = 7470.126953125\n",
      "step = 1800: loss = 8482.64453125\n",
      "step = 2000: loss = 20836.9765625\n",
      "step = 2000: Average Return = 571.2930908203125\n",
      "step = 2200: loss = 27328.1484375\n",
      "step = 2400: loss = 31282.05859375\n",
      "step = 2600: loss = 138427.09375\n",
      "step = 2800: loss = 69636.9296875\n",
      "step = 3000: loss = 75492.3125\n",
      "step = 3000: Average Return = 583.0592651367188\n",
      "step = 3200: loss = 90042.7890625\n",
      "step = 3400: loss = 91942.4609375\n",
      "step = 3600: loss = 59119.421875\n",
      "step = 3800: loss = 44395.92578125\n",
      "step = 4000: loss = 114570.2265625\n",
      "step = 4000: Average Return = 704.5187377929688\n",
      "step = 4200: loss = 224961.96875\n",
      "step = 4400: loss = 32965.33984375\n",
      "step = 4600: loss = 55009.671875\n",
      "step = 4800: loss = 42161.5390625\n",
      "step = 5000: loss = 265883.34375\n",
      "step = 5000: Average Return = 665.977783203125\n",
      "step = 5200: loss = 119955.7734375\n",
      "step = 5400: loss = 63500.8203125\n",
      "step = 5600: loss = 150891.3125\n",
      "step = 5800: loss = 26741.8203125\n",
      "step = 6000: loss = 333111.0625\n",
      "step = 6000: Average Return = 596.3173217773438\n",
      "step = 6200: loss = 160856.671875\n",
      "step = 6400: loss = 139474.25\n",
      "step = 6600: loss = 79425.2421875\n",
      "step = 6800: loss = 100387.84375\n",
      "step = 7000: loss = 293908.875\n",
      "step = 7000: Average Return = 623.01953125\n",
      "step = 7200: loss = 84527.7890625\n",
      "step = 7400: loss = 328215.9375\n",
      "step = 7600: loss = 74021.1640625\n",
      "step = 7800: loss = 112217.265625\n",
      "step = 8000: loss = 112924.0625\n",
      "step = 8000: Average Return = 583.0267333984375\n",
      "step = 8200: loss = 77456.5625\n",
      "step = 8400: loss = 208054.34375\n",
      "step = 8600: loss = 156858.53125\n",
      "step = 8800: loss = 378982.25\n",
      "step = 9000: loss = 231713.53125\n",
      "step = 9000: Average Return = 902.2904052734375\n",
      "step = 9200: loss = 204357.65625\n",
      "step = 9400: loss = 131984.484375\n",
      "step = 9600: loss = 143135.28125\n",
      "step = 9800: loss = 106353.65625\n",
      "step = 10000: loss = 184479.4375\n",
      "step = 10000: Average Return = 867.1724853515625\n",
      "CPU times: user 5min, sys: 2.53 s, total: 5min 2s\n",
      "Wall time: 4min 51s\n"
     ]
    }
   ],
   "source": [
    "%%time\n",
    "\n",
    "# (Optional) Optimize by wrapping some of the code in a graph using TF function.\n",
    "agent.train = common.function(agent.train)\n",
    "\n",
    "# Reset the train step.\n",
    "agent.train_step_counter.assign(0)\n",
    "\n",
    "# Evaluate the agent's policy once before training.\n",
    "avg_return = compute_avg_return(eval_env, agent.policy, num_eval_episodes)\n",
    "returns = [avg_return]\n",
    "\n",
    "# Reset the environment.\n",
    "time_step = train_py_env.reset()\n",
    "\n",
    "# Create a driver to collect experience.\n",
    "collect_driver = dynamic_step_driver.DynamicStepDriver(\n",
    "    train_env,\n",
    "    agent.collect_policy,\n",
    "    observers=replay_observer,\n",
    "    num_steps=collect_steps_per_iteration)\n",
    "\n",
    "iterator = iter(dataset)\n",
    "\n",
    "for _ in range(num_iterations):\n",
    "\n",
    "    # Collect a few steps and save to the replay buffer.\n",
    "    time_step, _ = collect_driver.run()\n",
    "\n",
    "    # Sample a batch of data from the buffer and update the agent's network.\n",
    "    trajectories, _ = next(iterator)\n",
    "    train_loss = agent.train(experience=trajectories).loss\n",
    "\n",
    "    step = agent.train_step_counter.numpy()\n",
    "\n",
    "    if step % log_interval == 0:\n",
    "        print('step = {0}: loss = {1}'.format(step, train_loss))\n",
    "\n",
    "    if step % eval_interval == 0:\n",
    "        avg_return = compute_avg_return(eval_env, agent.policy, num_eval_episodes)\n",
    "        print('step = {0}: Average Return = {1}'.format(step, avg_return))\n",
    "        returns.append(avg_return)"
   ]
  },
  {
   "cell_type": "markdown",
   "metadata": {},
   "source": [
    "## Visualization"
   ]
  },
  {
   "cell_type": "code",
   "execution_count": 28,
   "metadata": {},
   "outputs": [
    {
     "data": {
      "text/plain": [
       "Text(0.5, 0, 'Iterations')"
      ]
     },
     "execution_count": 28,
     "metadata": {},
     "output_type": "execute_result"
    },
    {
     "data": {
      "image/png": "[encoded data removed]",
      "text/plain": [
       "<Figure size 640x480 with 1 Axes>"
      ]
     },
     "metadata": {},
     "output_type": "display_data"
    }
   ],
   "source": [
    "iterations = range(0, num_iterations + 1, eval_interval)\n",
    "plt.plot(iterations, returns)\n",
    "plt.ylabel('Average Return')\n",
    "plt.xlabel('Iterations')\n",
    "#plt.ylim(top=250)"
   ]
  },
  {
   "cell_type": "code",
   "execution_count": 29,
   "metadata": {},
   "outputs": [],
   "source": [
    "def embed_mp4(filename):\n",
    "  \"\"\"Embeds an mp4 file in the notebook.\"\"\"\n",
    "  video = open(filename,'rb').read()\n",
    "  b64 = base64.b64encode(video)\n",
    "  tag = '''\n",
    "  <video width=\"640\" height=\"480\" controls>\n",
    "    <source src=\"data:video/mp4;base64,{0}\" type=\"video/mp4\">\n",
    "  Your browser does not support the video tag.\n",
    "  </video>'''.format(b64.decode())\n",
    "\n",
    "  return IPython.display.HTML(tag)"
   ]
  },
  {
   "cell_type": "code",
   "execution_count": 30,
   "metadata": {},
   "outputs": [
    {
     "name": "stderr",
     "output_type": "stream",
     "text": [
      "WARNING:root:IMAGEIO FFMPEG_WRITER WARNING: input image is not divisible by macro_block_size=16, resizing from (700, 700) to (704, 704) to ensure video compatibility with most codecs and players. To prevent resizing, make your input image divisible by the macro_block_size or set the macro_block_size to None (risking incompatibility). You may also see a FFMPEG warning concerning speedloss due to data not being aligned.\n"
     ]
    },
    {
     "data": {
      "text/html": [
       "\n",
       "  <video width=\"640\" height=\"480\" controls>\n",
       "    <source src=\"data:video/mp4;base64,AAAAIGZ0eXBpc29tAAACAGlzb21pc28yYXZjMW1wNDEAAAAIZnJlZQAA11NtZGF0AAACrgYF//+q3EXpvebZSLeWLNgg2SPu73gyNjQgLSBjb3JlIDE2MyByMzA2MCA1ZGI2YWE2IC0gSC4yNjQvTVBFRy00IEFWQyBjb2RlYyAtIENvcHlsZWZ0IDIwMDMtMjAyMSAtIGh0dHA6Ly93d3cudmlkZW9sYW4ub3JnL3gyNjQuaHRtbCAtIG9wdGlvbnM6IGNhYmFjPTEgcmVmPTMgZGVibG9jaz0xOjA6MCBhbmFseXNlPTB4MzoweDExMyBtZT1oZXggc3VibWU9NyBwc3k9MSBwc3lfcmQ9MS4wMDowLjAwIG1peGVkX3JlZj0xIG1lX3JhbmdlPTE2IGNocm9tYV9tZT0xIHRyZWxsaXM9MSA4eDhkY3Q9MSBjcW09MCBkZWFkem9uZT0yMSwxMSBmYXN0X3Bza2lwPTEgY2hyb21hX3FwX29mZnNldD0tMiB0aHJlYWRzPTYgbG9va2FoZWFkX3RocmVhZHM9MSBzbGljZWRfdGhyZWFkcz0wIG5yPTAgZGVjaW1hdGU9MSBpbnRlcmxhY2VkPTAgYmx1cmF5X2NvbXBhdD0wIGNvbnN0cmFpbmVkX2ludHJhPTAgYmZyYW1lcz0zIGJfcHlyYW1pZD0yIGJfYWRhcHQ9MSBiX2JpYXM9MCBkaXJlY3Q9MSB3ZWlnaHRiPTEgb3Blbl9nb3A9MCB3ZWlnaHRwPTIga2V5aW50PTI1MCBrZXlpbnRfbWluPTI1IHNjZW5lY3V0PTQwIGludHJhX3JlZnJlc2g9MCByY19sb29rYWhlYWQ9NDAgcmM9Y3JmIG1idHJlZT0xIGNyZj0yNS4wIHFjb21wPTAuNjAgcXBtaW49MCBxcG1heD02OSBxcHN0ZXA9NCBpcF9yYXRpbz0xLjQwIGFxPTE6MS4wMACAAAALgGWIhAAv//71sXwKasnzigzoMi7hlyTJrrYi4m0AwAAAAwAAAwAAAwM/5TOrBoi2pAgAAAMAJyLBpgmX+IFxR//oQVh8VYVtUaCQ1Ty0oJDDnCP/RUR3jZsS1/Zpypd5E9BZKYCVtA3r/fAhq+57Krrbqz1CQVYYt+LL88ssiR+9ez6pOv5emw0VokFZLVS7n1kPX57K35lSSnvQZ8Xg2rLGr8MsHV057HepwJ72cE8Mg+P15N8/okmQ6Dwp4iOA5pfzs/171ZaYq3SNpr+ehkwhC1kZ3ovL0C8WWLcKDSfrHapJ7X0UO8YmuM4UTUqBy2uEb8Aiq3F5Z9fnAbRp0aaSvCpXnVI69mE/yvK9n0x3ETFNKflXzy7e2SB+LZD1Jr1P//DI5RMxEsIAAAMAAAMAXgr220iVNEUDdhBXW7jbGGlBVai/HsCNLeLHklxtb9qirebY+zY+2ECViYKXKeZcBUShUFnuZmRqmQZnzA06kIjHtyJkTEe4QffpNwTE0nQyzNO/00Sf30CvLtCqxckEbxhoxP2pK3z97ef54pLnkkMKvixRVReOe5rzqxO/UyfA2rk1DhdXjDnjIBYpc2AvTN6sWCZWj0DIHZJVVVUGFhG8eQ7AwonA7h9AmXzsuwoM93BlvRw13EexPnzAYjmPxf6TPjcbNUjwvp/SeREAx8liKxqvp1OK7QAAAwE7ByJqTqu0Pc1y11UGc7UYuPEb8IjZyHKgrx3YTT7uAVZQriuM+W3GmEm2QcjGBQ0ECOqyE44WLggAAAuqqVeiZTKus4+8sX1+tleAJg2jm8dijbfarrvk+TDFEsuRXke4EDBAA/Q0q//q2xFEPAGs5ABlu7xZr5jtrOlDjSEODrDXFW6ON3Dsr/gT++cdX+WGpqR1Ibi3vNFAK1qW8A7Bcc+xm5JSKk2VggAACsNnauvwsRmoR63APk0bPaS2PxXyc5MrKDjpgCIBaRPqclE2R0hNQx//cfLa8wWHQ3SpEj6EojLOCR9uDn4aKkdnyN+gbBJGMf9TjByn2h1qypfO3baCLbl14GN0oUDOJqtb/sidXl6CrjceFNXYaJDpUmqU6nXRW6KCT3pqLFitJGDExndjxmW626h1/CGwHGmugmgudEQ43XqVQvdTeoVAjgS2M8h0ogZL79QjnknKk3fg8Bhge5NEr5LyHHg/TEej9E4GFVJiUtCdkDc5FKMECE33EGntWgXPuX75sbC0tpXBIuLPOtioR2NexawUXsvyaFCrNHPK3WpQgtAjJe0qmhBELAjXdRcYbtMwrKkMbXPLVij33z5DHw+R9Be8ViKa9FMYOJFdh2wj8edrTABkU2oeGjgq6bnjBQ/mh68hofVBfECz0TzbZBYU0kj6Gpq7NXXl939Bz4Au74gOiMzQNnpxlDiydCZNA789S+bPwAA1zaSHdbriya4V0TQ2P4C7e+tEn9WaF3kAoCGCgjFds/iq1pC2HBOo4tOF/tbG/Ge5Gp2cUxR7tSYNleh6bD3JJZ8PN0cF4oU5U/xCF/O4EkWXYxnHQHkuRdfIObQDBlgmRMG7NVkHTQ7Uc5LWH9ie2Xf58UAAAkhCPkdz9uAH37lYB/BpyYbDGfprSU3ML9QFabutwOZ85XopYiZqSzcsWMlpEw8oD/fIueaIuxkgxT/t+uctGHcWM5KWFdW89PMFB8vhcViE7S0uj0/8NhhvrgzqKcFbsI6mQYJiFAQf/fl0qas3INj1DePq9uqS/yJbUqzKO6CQhwr8XajPv15n8y8g6CLyUm9WkKGcJrEgE23QEfCpK2yLUIJJPAIcJwFtkUp/wCf3pj2hwx3XHX7jf8fBZAhqNAVYuT6D696hKrZH/Wdc90I0QXEYr5JytLHhWAv0bDyD0GOY1V4+viQS/S98D4CIngBaYj55emdqAAxjNPxPSsnnMNYV7cRj/LDX/kmq2iLNPA+lMx2WnR2RX1v+SrMyyBE9HT3KFcxRPC17BVwPeTceOXsAehbSPjoQkhmbmR9dcwtcfWCPlIOb+uYL3kdW605bHabgEwa2mFXG4YzRTEBMUtLx6Ieq0xiMIISLfpU707eSVZeqf57ku3y7wm8dDLbO/IWvG/3f6XzKpcVhhDqIgouNijgcG2aCqX4/ssNF1ZfE9bK6yeWUxrAHMa+r31Y1eQ3XE6h9SfnAPNFbfkpFgmqnla98BRyJxMiJgAQi336uDAAAAwAANC18WHWdW21koRbkZTMh2fLZ3A6Zz+XQyOzFVD1n8KNVOGgemLj7kaiI2PBF3lAVj/+Kj1wUOkGLv8+WvrpH/91tkTLib2wKfq7k/pIN2GyZB1ppay+ZFr3v5F5zDpAecVQW8VW3zudHvK2cj42gsYV3sR9xjCxfGwACCAAAAwNRwBopRliZX8oFGepzQ8G55cvonkz+gZXniw+uzyC9ZYjRPpaOwp7n+WkCOvno3R9CD3/u4l31y+UCcdBdYJzbOiRJrW5DrOM7cVyXDX5EODuoqBqUHEtk2J2j42REtnJ7e5DRtqG3c0d/dgm3XdJm3ekKU6nxBToyYrmK7OzwB5Sye3fCGOBm9RfEkaOng/1Zzb1547mNW7xFvKd+YptmivaPDSqMNWN5e6VbpLNayTHaThSf7ZeZbc1L0Vkz0/jlQJOaIN9GnPVapyvfih943oN3Qc5vFBwEigtAPhZdXpoZXl0yrhgt3jeqp65g5ZH3lJ16uY+2x5DcB+R+8sytPN+bUfdsQu6bvV0xgGJCGkYB3fPswmHD44MxHzCEwz/LfrASKZcDcShNv4/qAkAnUXhuaMuI8Qb3DtCjLYUx+d+Twf4XYYz76rEua3WjaG9xpOmXZ7Dahom/0fyAPfm/D1KjqXhbt4xdPl3bAGRPLcqfF5PnYKj6Q89DBOvKk1Jj0oJfWH7tX75AiawDUdpVvveqWeBoai4F3OKBVr5lPHAzmpm/Z0Cter8fYWQKFnV2SpeJX+5Lff6GymHwpkI1X/fSPH4qnF5SMm9SeIi+D4/oSg4QpsuZvJO5GkKPU8vCARsffFyeUtHs4rl8bEIPZgLPRf/YiFhoqBPmZA/9Tvnqbpunq0jhGmmhWAHE2iPErwAAgrM5PYBIZPwVCmP7xf/mmg2u+LAdZ3QvriRJIjsLpYOZ4PX+m83hXc54Q5pQQzVBePNIOSPK/DZi3brgvt3TIVW5p68N1usU03LYOaY+uQBdG0KBlWaYwSzCNfgJr3xwpMYuTGbPP2UuDkIGZ5wrPMNo0dfI7cP699CimdcK40mHJiwENF+UzrckDUVSeAIBBN/rV9bFf8YxoL9iwZQ9Kff4+7OVeK6qlmbUomaRgxcUScv/dInkS9CHtuK2P2tzM7HQGEAAAAZnnvhgFJ+FH0/oIa7x5Y32D0Mm1iuEh8/WSBRxqC9atgahnlYD3V6bNkVDro0+JxdnzYcTlVJs913FNOxaLPmEvYkda2BgT0GXbeOMrm4JDANGJN5ngGs3Sf/OyTuq3zP/dUnSszvKuH7qFkjfsbnWoMb5KPBaYI6GJ4fGgR4U2QpsN0r3UXhynRr6KqgWmyhc1vUEnERDOOg1kymH5oohPXrf2yENTI5JnZMePYr/XdM3XDiAYWeOzzIWiUl9E4Dd3g3+tB6PzowN11+hrUbssSgeMp+9x8p7cnSTHLUZJU+f1V/lzGVqMd5iaVyVuyITuWNR8FGai6FJfTFQ4JbLiurzzwLl7yXqCyQrPMG5YzqKIaiwduwciGYbm+k49v6kePVT+43sm6LdUouCID56MEH4YHVSUCULCuRCGCC39TbcOaZCiaH4iyP876wTtG1waSybGly/ZQOCRIH0ELkMBUUL+E0HhzvJXwT2gAHP7TaYvLqJqxHHXye9YPoNEt+NiAAlD7N6slWBN6R2v3wi6ISm3UGtn8EBJ7AAAAMAAAMAAAMAAicAAADYQZohbEL//fEAAAbv5WtAXnAgY3iuiXeN3yXA2CmOi3BLIcSu5fPdh+eVcSAaxZM45Yx6K8AblHkJqpYV8tLNj4aYecg4s0UzkAeArp64tLp4bKdV4s3PSsYtSHqOl4tZJHhgLKze00bCaK6OXReRIjDGV9403LqpX32f7f7s9+NpTdxkK1gI8xyOxmCkDcoxWKp4zdBtnAUeeKgBbvUz/Z2rpd2Dw3h5END1c0QwIWDSjwQMGuoc8kgYJ/fIqxcxOWX+qw/yKGWF0PzX+nkD7pSVQ1GooAx4AAAAm0GaQjwhkymEL//98QAAAwALZ7EWp9NGd0G44AGch+OE3/5XmIExqnzKqSylX99stug/S0+0gNAgaj6g0S3JYrRYKOfJ5xcS16+yiWv9n4lMrZXqTVLBxCBNMKY48qum2RnqjgljBGHVhR/jUSex5+CbqBjtyjFL9BUOqZCuCoUhqu7q6IJMXezHNkCS2KRfrxTo4ltHRuABgPSBAAAAfUGaY0nhDyZTAhf//fEAAAMAAfL03XOc3l8O6SyWrErgs/7IBBGOs8njggzb1mpqO0U4RNAwAZu02KipWy+hYffo0l/d83g4jgoTyQGJ+hDBYF+M4YNjDub3CUqhsUi5ZKOlNxm27hDJUlmYm8w4ux5zNYiVq8Lh1JscAGVAAAAAdkGahEnhDyZTAhf//fEAAAMAAAMAAAMACKmoyI97Y1jtOZAAU/g2F3zRPP+NV4Z2/t6XcrotfMXXCwpGOhAIJtVt92K5l9A1Lv3ERqeU5TZCdApLawGpaNcFeA/FAYxDJ0YEogb8O0/99/4Nui4aiS0ZojHQUkEAAAB3QZqlSeEPJlMCF//98QAAAwAAAwAAAwAH7LPPab2xrHacyAAp/Or2Fk0+qJoif1rdeQYSdOyRBKEKjV12M0qIuja+1Lhut/vFsYJCsjuIFBAGxUJw4WPOFEfObNTrIYeK2NvstHsI9a4JwfO1Z38yvqr9BQXWge0AAABnQZrGSeEPJlMCF//98QAAAwAAAwAAAwAHaLPPab2xrHZ2ZAA0HO82dpWj+/gcvnJ00AKx4LuXTtm/u3C5KZxY03ew69gH47QhkIJUXMs7baNeIrvgbTPQ6Xh3/AKbVLAiLLSl/G2DxwAAADNBmudJ4Q8mUwIX//3xAAADAAADAAADAAdos/cOEMIAdjTyq1Kt3iK8y9C++HsLXIiwDPkAAAArQZsISeEPJlMCF//98QAAAwAAAwAAAwAHaLPPZpxE7CZn16okdSXPMsYBHwAAACtBmylJ4Q8mUwIX//3xAAADAAADAAADAAdos89mnETrUxRViKwMUC/m4AekAAAAKkGbSknhDyZTAhf//fEAAAMAAAMAAAMAB2izz2acROtXqAaPk5bCZYwCPwAAACtBm2tJ4Q8mUwIX//3xAAADAAADAAADAAdos89mnETrUxRViKwMUC/m4AekAAAAKkGbjEnhDyZTAhf//fEAAAMAAAMAAAMAB2izz2acROtXqAaPk5bCZYwCPgAAACtBm61J4Q8mUwIX//3xAAADAAADAAADAAdos89mnETrUxRViKwMUC/m4AelAAAAKkGbzknhDyZTAhf//fEAAAMAAAMAAAMAB2izz2acROtXqAaPk5bCZYwCPwAAACtBm+9J4Q8mUwIX//3xAAADAAADAAADAAdos89mnETrUxRViKwMUC/m4AelAAAAKkGaEEnhDyZTAhf//fEAAAMAAAMAAAMAB2izz2acROtXqAaPk5bCZYwCPgAAACtBmjFJ4Q8mUwIX//3xAAADAAADAAADAAdos89mnETrUxRViKwMUC/m4AekAAAAKkGaUknhDyZTAhf//fEAAAMAAAMAAAMAB2izz2acROtXqAaPk5bCZYwCPwAAACtBmnNJ4Q8mUwIX//3xAAADAAADAAADAAdos89mnETrUxRViKwMUC/m4AekAAAAKkGalEnhDyZTAhf//fEAAAMAAAMAAAMAB2izz2acROtXqAaPk5bCZYwCPgAAACtBmrVJ4Q8mUwIX//3xAAADAAADAAADAAdos89mnETrUxRViKwMUC/m4AelAAAAKkGa1knhDyZTAhf//fEAAAMAAAMAAAMAB2izz2acROtXqAaPk5bCZYwCPgAAACtBmvdJ4Q8mUwIX//3xAAADAAADAAADAAdos89mnETrUxRViKwMUC/m4AelAAAAKkGbGEnhDyZTAhf//fEAAAMAAAMAAAMAB2izz2acROtXqAaPk5bCZYwCPwAAACtBmzlJ4Q8mUwIX//3xAAADAAADAAADAAdos89mnETrUxRViKwMUC/m4AekAAAAKkGbWknhDyZTAhf//fEAAAMAAAMAAAMAB2izz2acROtXqAaPk5bCZYwCPwAAACtBm3tJ4Q8mUwIX//3xAAADAAADAAADAAdos89mnETrUxRViKwMUC/m4AekAAAAKkGbnEnhDyZTAhf//fEAAAMAAAMAAAMAB2izz2acROtXqAaPk5bCZYwCPwAAACtBm71J4Q8mUwIX//3xAAADAAADAAADAAdos89mnETrUxRViKwMUC/m4AelAAAAKkGb3knhDyZTAhf//fEAAAMAAAMAAAMAB2izz2acROtXqAaPk5bCZYwCPgAAACtBm/9J4Q8mUwIX//3xAAADAAADAAADAAdos89mnETrUxRViKwMUC/m4AekAAAAKkGaAEnhDyZTAhf//fEAAAMAAAMAAAMAB2izz2acROtXqAaPk5bCZYwCPwAAACtBmiFJ4Q8mUwIX//3xAAADAAADAAADAAdos89mnETrUxRViKwMUC/m4AekAAAAKkGaQknhDyZTAhf//fEAAAMAAAMAAAMAB2izz2acROtXqAaPk5bCZYwCPwAAACtBmmNJ4Q8mUwIX//3xAAADAAADAAADAAdos89mnETrUxRViKwMUC/m4AekAAAAKkGahEnhDyZTAhf//fEAAAMAAAMAAAMAB2izz2acROtXqAaPk5bCZYwCPwAAACtBmqVJ4Q8mUwIX//3xAAADAAADAAADAAdos89mnETrUxRViKwMUC/m4AelAAAAKkGaxknhDyZTAhf//fEAAAMAAAMAAAMAB2izz2acROtXqAaPk5bCZYwCPwAAACtBmudJ4Q8mUwIX//3xAAADAAADAAADAAdos89mnETrUxRViKwMUC/m4AelAAAAKkGbCEnhDyZTAhf//fEAAAMAAAMAAAMAB2izz2acROtXqAaPk5bCZYwCPgAAACtBmylJ4Q8mUwIX//3xAAADAAADAAADAAdos89mnETrUxRViKwMUC/m4AekAAAAKkGbSknhDyZTAhf//fEAAAMAAAMAAAMAB2izz2acROtXqAaPk5bCZYwCPwAAACtBm2tJ4Q8mUwIX//3xAAADAAADAAADAAdos89mnETrUxRViKwMUC/m4AekAAAAKkGbjEnhDyZTAhf//fEAAAMAAAMAAAMAB2izz2acROtXqAaPk5bCZYwCPgAAACtBm61J4Q8mUwIX//3xAAADAAADAAADAAdos89mnETrUxRViKwMUC/m4AelAAAAKkGbzknhDyZTAhf//fEAAAMAAAMAAAMAB2izz2acROtXqAaPk5bCZYwCPwAAACtBm+9J4Q8mUwIX//3xAAADAAADAAADAAdos89mnETrUxRViKwMUC/m4AelAAAAKkGaEEnhDyZTAhf//fEAAAMAAAMAAAMAB2izz2acROtXqAaPk5bCZYwCPgAAACtBmjFJ4Q8mUwIX//3xAAADAAADAAADAAdos89mnETrUxRViKwMUC/m4AekAAAAKkGaUknhDyZTAhf//fEAAAMAAAMAAAMAB2izz2acROtXqAaPk5bCZYwCPwAAACtBmnNJ4Q8mUwIX//3xAAADAAADAAADAAdos89mnETrUxRViKwMUC/m4AekAAAAKkGalEnhDyZTAhf//fEAAAMAAAMAAAMAB2izz2acROtXqAaPk5bCZYwCPgAAACtBmrVJ4Q8mUwIX//3xAAADAAADAAADAAdos89mnETrUxRViKwMUC/m4AelAAAAKkGa1knhDyZTAhf//fEAAAMAAAMAAAMAB2izz2acROtXqAaPk5bCZYwCPgAAACtBmvdJ4Q8mUwIX//3xAAADAAADAAADAAdos89mnETrUxRViKwMUC/m4AelAAAAKkGbGEnhDyZTAhf//fEAAAMAAAMAAAMAB2izz2acROtXqAaPk5bCZYwCPwAAACtBmzlJ4Q8mUwIX//3xAAADAAADAAADAAdos89mnETrUxRViKwMUC/m4AekAAAAKkGbWknhDyZTAhf//fEAAAMAAAMAAAMAB2izz2acROtXqAaPk5bCZYwCPwAAACtBm3tJ4Q8mUwIX//3xAAADAAADAAADAAdos89mnETrUxRViKwMUC/m4AekAAAAKkGbnEnhDyZTAhf//fEAAAMAAAMAAAMAB2izz2acROtXqAaPk5bCZYwCPwAAACtBm71J4Q8mUwIX//3xAAADAAADAAADAAdos89mnETrUxRViKwMUC/m4AelAAAAKkGb3knhDyZTAhf//fEAAAMAAAMAAAMAB2izz2acROtXqAaPk5bCZYwCPgAAACtBm/9J4Q8mUwIX//3xAAADAAADAAADAAdos89mnETrUxRViKwMUC/m4AekAAAAKkGaAEnhDyZTAhf//fEAAAMAAAMAAAMAB2izz2acROtXqAaPk5bCZYwCPwAAADFBmiFJ4Q8mUwIX//3xAAADAAADAAfrwHgASKusyADXyt8Hv62WHdYafqsz9AijsA3oAAAAK0GaQknhDyZTAhf//fEAAAMAAAMAAAMAB2izz2acROwmm6LxuXCXPMsYBH0AAAArQZpjSeEPJlMCF//98QAAAwAAAwAAAwAHaLPPZpxE61MUVYisDFAv5uAHpAAAACtBmoRJ4Q8mUwIX//3xAAADAAADAAADAAdos89mnETsJpui8blwlzzLGAR9AAAAK0GapUnhDyZTAhf//fEAAAMAAAMAAAMAB2izz2acROtTFFWIrAxQL+bgB6UAAAArQZrGSeEPJlMCF//98QAAAwAAAwAAAwAHaLPPZpxE7CabovG5cJc8yxgEfQAAACtBmudJ4Q8mUwIX//3xAAADAAADAAADAAdos89mnETrUxRViKwMUC/m4AelAAAAK0GbCEnhDyZTAhf//fEAAAMAAAMAAAMAB2izz2acROwmm6LxuXCXPMsYBHwAAAArQZspSeEPJlMCF//98QAAAwAAAwAAAwAHaLPPZpxE61MUVYisDFAv5uAHpAAAACtBm0pJ4Q8mUwIX//3xAAADAAADAAADAAdos89mnETsJpui8blwlzzLGAR9AAAAK0Gba0nhDyZTAhf//fEAAAMAAAMAAAMAB2izz2acROtTFFWIrAxQL+bgB6QAAAArQZuMSeEPJlMCF//98QAAAwAAAwAAAwAHaLPPZpxE7CabovG5cJc8yxgEfAAAACtBm61J4Q8mUwIX//3xAAADAAADAAADAAdos89mnETrUxRViKwMUC/m4AelAAAANEGbzknhDyZTAhf//fEAAAMAbvjNACR4qmzM+hcAAAMAAzZH9kkZGOqArlyILcAuIUdgG9EAAAAsQZvvSeEPJlMCF//98QAAAwAAN36brjgAAHvvLskjIx05TFAAYJlJ2CdAXEEAAAA2QZoQSeEPJlMCF//98QAAAwAAN36brjiGWytAnGGZNebPoBRp2MPfmFM2JeI9B1Ft5cmP9AVMAAAALEGaMUnhDyZTAhf//fEAAAMAADd+m644AAB77y7JIyMdOUxQAGCZSdgnQFxAAAAALUGaUknhDyZTAhf//fEAAAMAADd+m644AAB77y7xOpbe8fVwbCz3xBO2ToC4gQAAACxBmnNJ4Q8mUwIX//3xAAADAAA3fpuuOAAAe+8uySMjHTlMUABgmUnYJ0BcQAAAADhBmpRJ4Q8mUwIX//3xAAADAG6cRcLQiDKsFoEQy1s+fm+PQAAF9jX0ZRW6jFidROgQGc3Z/oCpgAAAACtBmrVJ4Q8mUwIX//3xAAADAAADAAADAAdos89mnETrUxRViKwMUC/m4AelAAAAK0Ga1knhDyZTAhf//fEAAAMAAAMAAAMAB2izz2acROwmm6LxuXCXPMsYBHwAAAArQZr3SeEPJlMCF//98QAAAwAAAwAAAwAHaLPPZpxE61MUVYisDFAv5uAHpQAAACtBmxhJ4Q8mUwIX//3xAAADAAADAAADAAdos89mnETsJpui8blwlzzLGAR9AAAAP0GbOUnhDyZTAhf//fEAAAMAblagqbsbZySVQmQAEMl0gOnl3eN7kiB6gewAykXs0Fy+KUQAZP1CZ4e/awB0wAAAAC1Bm1pJ4Q8mUwIX//3xAAADAAADAAADAAdm503atD+Zdzvam6LxuXCN7/NwA9MAAAAwQZt7SeEPJlMCF//98QAAAwAAAwAAAwAHaLPPZ9dKu2wrEYu6l6AYfq9OeoBCAKaAAAAANUGbnEnhDyZTAhf//fEAAAMAAAMAB+vAeCuIQLrO6i39wAsPas1R2qfhiHpmTrgmX5KOwDehAAAAK0GbvUnhDyZTAhf//fEAAAMAAAMAAAMAB2izz2acROtTFFWIrAxQL+bgB6UAAAA4QZveSeEPJlMCF//98QAAAwAAAwADE6lMkV/KAqKQVVPOOAjkamqldpn4/C8qwZboC38ZfsnQFxAAAAAtQZv/SeEPJlMCF//98QAAAwAAAwAC/+m644CScHp2vL/bXTJKTSR5SdgnQFxAAAAALkGaAEnhDyZTAhf//fEAAAMAAAMAAxDiLhYClUz8nAxy/RBw2aZEPpbzCjsA3oEAAAA2QZohSeEPJlMCF//98QAAAwAAAwEG7bCASO9wngHUhUe4AArEZ6dry/210ySP+quzHVBOgLiAAAAAOEGaQknhDyZTAhf//fEAAB7+YfAUMnVJ73jHBbNo3wOWqFlI2AAAEH7WmZLYnHM4JX3lsBDtYA6ZAAAAK0GaY0nhDyZTAhn//jhAAAAFhZlF0AAABKT990vLnXkMdV8EI9kxwZR2Ab0AAABAQZqESeEPJlMCGf/+OEAAAAMAFqxdUHe0v7pIFf2G6DrBOVldriAVg6A18IHJxbH45dKI0HHmc150xdqDWsAdMQAABr1BmqVJ4Q8mUwIZ//44QAAAzhnGEt1YD/O4x1uAjxbTH+U1U1r2ZPQWsxyU9HJBaNEJcKowzBrqRy/x4wbPdP0GLdV7cd0HcGHAus6WysqeMpkeaq9C4VHPzQETAvIaopGlpdGDhV4MGU0L0jvMuoV8f+4V6bJUDPh/72jlyCxu5EN6DH803GjDZRQBm+b9LtfN0lLjuVJ/NyCEgQ2Fcz4iB+fp52s5/1NuHWpONY4PamrRLMvevfGa/Veaobaq0tJtKeMNZQOqrvgM5yE9uBHAUYRVXd65LnN9VIFuY8aU7O22uOGovEYUdZcGL+UwixiY2KJHkW7YII27FjQUtCuhtPNn4aOxoh5hsJC8EdIK5SOv2UjBwFvmv4RXEROhAz/HyfnMFWIgsn0RSCCq75RsKCaPA95XbMg95Gq6CajITXgNDmFW9Q6P3VLpBX5EocmW5GH0Ns0y2psDeJAIa8gK5LE4gdvTbEf9aEdA6Nf/hwbnwMc0U0JWhSyeQ36LB6l09Y3Y3vlByrUUjuBSQY7Dv9MP97vgo+97xXeXYLs43OgmX21R7+zj27nwNNL72ezMzJO/xAYg4zwkAXnGaThmX53Tn2xT+tqYITDTmoMQMzslNO945ZXiHuDpsACQYgtxektmB8B5ikbQWKAEDpiwR6KlbrooKcy1DznAwPXJ8a6VoFoVmUOCe/tGs3+FWQmNdLh1QUMEAXuy7GD1FcfZCMxl/ireD3tuEesX//Y7ITAq7BkAfC/ws14yMQ5ll0nkSL3gyk4xTUQL0oS8hEPuKtCSEMW0MJkfvTQmm7iYQugdMFNeMd5F1Ocqc+ijTm/9RPLxHl6a+O0p5zqVkKTj32eChRJowoD5n48SNXF7Fnl3vEchAXbQ8aj/xBc6QIqJCxr4Ze7dxyLdZwPWr5ZPU+ZdByVHqZ1ZstZYpyzLH4lnJWbTvd60Zzme5Wk5th5xDEaULW02CYPlFZwBko9c+0vHC+QwWDsgWyae1h6W5B56V97njddLopi0b7HMCI1FfoChSaHNmHpvCkfq6mHhL8MlRI7JAaSi7xwHcx7Q5fl36MVWGglZruyH3W1zk2mGZfQdovgY0gD/2dGHCSAa8BbiYjLZYcrdhXw7CP3XXLmj/j5Nh8P+YGt5Q3AQDpTdYAGI5OiRx969oU5lMJ+g7Xxv3wgkQs1/pah3SmodAjQamQ7aYIgGtCzZ4XbaQtjMan6iAUW9RFPKtymx1hchfa83k4FVUM1x20MjV5kkN0AqivxofbTgu/+LonBvIkDQc7mpHsX/2A8mAO9fRpo8m0ZVfPzV1gi6A+U7KPZCec+Q1Ns0iafElczKD3W4GubJmBlNLuYOWCeHK/0wlCHmXsUyoEVxbJzPeNOJK6vswgdnvLq4FL7tIIMuf+KHpO0YeWz5P9J7ClmRngCTaS788kK7YYAkJs+F2DflI1MUOCYLGnWD/sJCtmeFPANUF1ZubXxF8bHFR5EUFAHM9NCacrUidd6GLfZPypx7kQk3IgCVDYXvOU2oEAgYmMHrhrUIlCKY1llRTjNcUcdiKZOpVrGOKzHNOkgGtwIslcf4/wDNaO45b7qoOuhUi2W2DgfVV5Dom8Bb40aLK2IwjdkqCYs3p7HMDe0uznSXskyNaPnZp71FP3u25j5ZHfHYvPtvrujBnUUT1JcHCngrGY2mcmMlSDtiiogLxu32+MubhzVfrvIEu8ysT21HVAuxeOryC4xuKCjia/gYIdOQLR98t+NdVtg4URnNHgh9wXNYUJzxReWnfGBEyBgwZnwnI7TrLhc1za8o++kMHCnCMzH2HhfTa3gO4OfTXDF7MC0toQKoNcGvpbQzME9hzTMSlc0yekAXGCm0w23r8hGu/e/Hrx8uKLeZ7SJ5nWTaRgCsW111O9wIAl3Xwy7uI2feHQLXgXBQ4e67O5dabmMkUbq3Q/bN2HUt+O4u/0umbDQjWPuDa28WCC26sM9xJxk4TJPUnwoaF41ayGl6pgDmTJ6uwHZzX/ZcqkMezwTL+YsgZ5q/uL6mxm8fUko2I8P+U02ufGBjKELwtwQMxZ4Ku9WlxjHXI7BCDRbLvVR/nMPhoJcK4zDjBVLci3+muIY9ne04BBCOR+HWIo3VePZanpJXQBbvyo99DfT+SBsGMiIep2+ayKC7Ri9aZ4LO1VNPjdEV2/uA0wsdEIVLT27jeUfFMzi2a4q/GgBDDUewOQLY+TcIsnz86BxjHHoD+GhGrZcNBiaSh57ZnavQNo0/nl+NBkoYPw2YKMew+p/F78tGdo+21J1O7KW8sA7WAoMAAAFZQZrGSeEPJlMCGf/+OEAAAAXX2t3LLFoBB8dIJiaAoNkXGQFJPc/bNkJYs1nuPNUZCsvRLahFqoNeQaenMocPucXJM7oXn01gTcb+f4IJQKIO2EAQ0UJ4569Uk61gTMYw8q4Xszz/bCdGony/YjZtXHa4Xosr9jO+NczfaWKpegdzqEReud2gEd/jK4fTOjHTClxuPJb+ZDvEd9rotbxqONxNPuMluYzk7nV9O8k4p0Mb6IJ5INSKuw+RgaxOkPQ/TwgJbmMJH21AAiJn7FVBaT+u3xTFw9DgVcQiapq1Ri9X0cwGsPIsliSuFu0mfHf4jvGgRh1veXuLnaV8FmZvsTWIyam2jLEViryJCtnZ1aWWHvLxQUb61MQZRatmQaRi85UZJ3NYohU0SuhtMOycXKgX7lCtV4pmu3d2Wv2nyfL4qONViySE9WqMJNJHVnxCqwak92SgABQRAAAASEGa6EnhDyZTBRE8M//+OEAAAAMABxLSwW68BfBBlOp2aU9JO1yPggGvSrrTHtgQrX98nM/3GSrvmVmPb/Cz3zmRPJN0KnQDUwAAADQBnwdqQn8AASUsKUDf/3aJFa23q9JovadniuF0p8KYCu5+e3QzYT6ANgQQiRJ8SMOYAGVAAAAAM0GbCknhDyZTBTwz//44QAAAAwAAAwABHl6miAZ7z1+M3T/ukBTgJkGaXuowJ8SXcABbQAAAALYBnylqQn8AASUsKUDcnjpKHD7AK4kRQhwBTT43R35wlU8YtLmy9VQARBpfGf7mdn9HsHiOdZIqAnNmLkjNMfFIhPbSwvbZaiXsHfWgjnby/J64FA/cjXdUSJyFat1ua2zkoeOKWhAIztpIi9Lvf7//45bFSvpdgyF7FzYbmR+lvKeSTs1tYhF8W5rBP4wR5jIWxGDHHaG3+U3xQAu01GqNRWU1ZtCA3jVeqDHRWznDFr+aAAAOmQAAADlBmyxJ4Q8mUwU8M//+OEAAAAMAAAMAAR1BIEAz3n+cjipNNP+Legv+jGgD10EfaT6k9ClULzoAGrAAAACyAZ9LakJ/AAElLClA3J46SNuqtJU+4onWhCSOTWW2ibnzCqQ6zUAEKaXxn+5yGN7tvPSp3j2smouSNLJLKQzOfQ9Sno3z10nxKpuxgbzAnzincxzIMruUQNgsYLd6kNNfHEbQgHKgHpLb0ugEf//HLYqV9LsGQvYubDcyP0t5TySdwE5LKD6bmsE/jBHc+BZKMGej0Nv8pvjjF800nI0VhizspLpksPpwx+Rv/jC7QAABWwAAADZBm05J4Q8mUwU8M//+OEAAAAMAAAMAAR0QvACx5KpMcgwelf59Z/8OqWD7OZsK0LT2XSgAOmEAAACzAZ9takJ/AAElLClA3J46SNuqtJU+4onWhCSOTWW2ibnzCqQ6zUAEKaXxn+5yGN7tvPSp3j2smouSNLJLKQzOfQ9Sno3z10nxKpuxgbzAnzincxzIMruUQNgsYLd6kNNfHEbQgHKgHpLb0ugEf//HLYqV9LsGQvYubDcyP0t5TySdwE5LKD6bmsE/jBHc+BZKMGej0Nv8pvjjF800nI0VhizspLpksPpwzR8IVVfUSAAAC7kAAAAhQZtwSeEPJlMFPDP//jhAAAADAAADAAAJt8EOJ15kAAkZAAAAsAGfj2pCfwABJSwpQNyeOkjbqrSVPuKJ1oQkjk1ltom58wqkOs1ABCml8Z/uchje7bz0qd49rJqLkjSySykMzn0PUp6N89dJ8SqbsYG8wJ84p3McyDK7lEDYLGC3epDTXxxG0IByoB6S29LoBH//xy2KlfS7BkL2Lmw3Mj9LeU8kncBOSyg+m5rBP4wR3PgWSjBno9Db/Kb44xfNNJyNFYYs7KS6ZLD6cMl/JmaQAAccAAAAHkGbkknhDyZTBTwz//44QAAAAwAAAwAAAwAAAwCLgAAAAK4Bn7FqQn8AASUsKUDcnjpI26q0lT7iidaEJI5NZbaJufMKpDrNQAQppfGf7nIY3u289KnePayai5I0skspDM59D1KejfPXSfEqm7GBvMCfOKdzHMgyu5RA2Cxgt3qQ018cRtCAcqAektvS6AR//8ctipX0uwZC9i5sNzI/S3lPJJ3ATksoPpuawT+MEdz4FkowZ6PQ2/ym+OMXzTScjRWGLOykumSw+nAAAAMAZUEAAAAeQZu0SeEPJlMFPDP//jhAAAADAAADAAADAAADAIuAAAAArgGf02pCfwABJSwpQNyeOkjbqrSVPuKJ1oQkjk1ltom58wqkOs1ABCml8Z/uchje7bz0qd49rJqLkjSySykMzn0PUp6N89dJ8SqbsYG8wJ84p3McyDK7lEDYLGC3epDTXxxG0IByoB6S29LoBH//xy2KlfS7BkL2Lmw3Mj9LeU8kncBOSyg+m5rBP4wR3PgWSjBno9Db/Kb44xfNNJyNFYYs7KS6ZLD6cAAAAwBlQAAAAB5Bm9ZJ4Q8mUwU8M//+OEAAAAMAAAMAAAMAAAMAi4EAAACuAZ/1akJ/AAElLClA3J46SNuqtJU+4onWhCSOTWW2ibnzCqQ6zUAEKaXxn+5yGN7tvPSp3j2smouSNLJLKQzOfQ9Sno3z10nxKpuxgbzAnzincxzIMruUQNgsYLd6kNNfHEbQgHKgHpLb0ugEf//HLYqV9LsGQvYubDcyP0t5TySdwE5LKD6bmsE/jBHc+BZKMGej0Nv8pvjjF800nI0VhizspLpksPpwAAADAGVAAAAAHkGb+EnhDyZTBTwz//44QAAAAwAAAwAAAwAAAwCLgQAAAK4BnhdqQn8AASUsKUDcnjpI26q0lT7iidaEJI5NZbaJufMKpDrNQAQppfGf7nIY3u289KnePayai5I0skspDM59D1KejfPXSfEqm7GBvMCfOKdzHMgyu5RA2Cxgt3qQ018cRtCAcqAektvS6AR//8ctipX0uwZC9i5sNzI/S3lPJJ3ATksoPpuawT+MEdz4FkowZ6PQ2/ym+OMXzTScjRWGLOykumSw+nAAAAMAZUEAAAAeQZoaSeEPJlMFPDP//jhAAAADAAADAAADAAADAIuAAAAArgGeOWpCfwABJSwpQNyeOkjbqrSVPuKJ1oQkjk1ltom58wqkOs1ABCml8Z/uchje7bz0qd49rJqLkjSySykMzn0PUp6N89dJ8SqbsYG8wJ84p3McyDK7lEDYLGC3epDTXxxG0IByoB6S29LoBH//xy2KlfS7BkL2Lmw3Mj9LeU8kncBOSyg+m5rBP4wR3PgWSjBno9Db/Kb44xfNNJyNFYYs7KS6ZLD6cAAAAwBlQQAAAB5BmjxJ4Q8mUwU8M//+OEAAAAMAAAMAAAMAAAMAi4AAAACuAZ5bakJ/AAElLClA3J46SNuqtJU+4onWhCSOTWW2ibnzCqQ6zUAEKaXxn+5yGN7tvPSp3j2smouSNLJLKQzOfQ9Sno3z10nxKpuxgbzAnzincxzIMruUQNgsYLd6kNNfHEbQgHKgHpLb0ugEf//HLYqV9LsGQvYubDcyP0t5TySdwE5LKD6bmsE/jBHc+BZKMGej0Nv8pvjjF800nI0VhizspLpksPpwAAADAGVBAAAAHkGaXknhDyZTBTwz//44QAAAAwAAAwAAAwAAAwCLgQAAAK4Bnn1qQn8AASUsKUDcnjpI26q0lT7iidaEJI5NZbaJufMKpDrNQAQppfGf7nIY3u289KnePayai5I0skspDM59D1KejfPXSfEqm7GBvMCfOKdzHMgyu5RA2Cxgt3qQ018cRtCAcqAektvS6AR//8ctipX0uwZC9i5sNzI/S3lPJJ3ATksoPpuawT+MEdz4FkowZ6PQ2/ym+OMXzTScjRWGLOykumSw+nAAAAMAZUAAAAAeQZpgSeEPJlMFPDP//jhAAAADAAADAAADAAADAIuAAAAArgGen2pCfwABJSwpQNyeOkjbqrSVPuKJ1oQkjk1ltom58wqkOs1ABCml8Z/uchje7bz0qd49rJqLkjSySykMzn0PUp6N89dJ8SqbsYG8wJ84p3McyDK7lEDYLGC3epDTXxxG0IByoB6S29LoBH//xy2KlfS7BkL2Lmw3Mj9LeU8kncBOSyg+m5rBP4wR3PgWSjBno9Db/Kb44xfNNJyNFYYs7KS6ZLD6cAAAAwBlQQAAAB5BmoJJ4Q8mUwU8M//+OEAAAAMAAAMAAAMAAAMAi4AAAACuAZ6hakJ/AAElLClA3J46SNuqtJU+4onWhCSOTWW2ibnzCqQ6zUAEKaXxn+5yGN7tvPSp3j2smouSNLJLKQzOfQ9Sno3z10nxKpuxgbzAnzincxzIMruUQNgsYLd6kNNfHEbQgHKgHpLb0ugEf//HLYqV9LsGQvYubDcyP0t5TySdwE5LKD6bmsE/jBHc+BZKMGej0Nv8pvjjF800nI0VhizspLpksPpwAAADAGVBAAAAHkGapEnhDyZTBTwz//44QAAAAwAAAwAAAwAAAwCLgAAAAK4BnsNqQn8AASUsKUDcnjpI26q0lT7iidaEJI5NZbaJufMKpDrNQAQppfGf7nIY3u289KnePayai5I0skspDM59D1KejfPXSfEqm7GBvMCfOKdzHMgyu5RA2Cxgt3qQ018cRtCAcqAektvS6AR//8ctipX0uwZC9i5sNzI/S3lPJJ3ATksoPpuawT+MEdz4FkowZ6PQ2/ym+OMXzTScjRWGLOykumSw+nAAAAMAZUEAAAAeQZrGSeEPJlMFPDP//jhAAAADAAADAAADAAADAIuBAAAArgGe5WpCfwABJSwpQNyeOkjbqrSVPuKJ1oQkjk1ltom58wqkOs1ABCml8Z/uchje7bz0qd49rJqLkjSySykMzn0PUp6N89dJ8SqbsYG8wJ84p3McyDK7lEDYLGC3epDTXxxG0IByoB6S29LoBH//xy2KlfS7BkL2Lmw3Mj9LeU8kncBOSyg+m5rBP4wR3PgWSjBno9Db/Kb44xfNNJyNFYYs7KS6ZLD6cAAAAwBlQQAAAB5BmuhJ4Q8mUwU8M//+OEAAAAMAAAMAAAMAAAMAi4EAAACuAZ8HakJ/AAElLClA3J46SNuqtJU+4onWhCSOTWW2ibnzCqQ6zUAEKaXxn+5yGN7tvPSp3j2smouSNLJLKQzOfQ9Sno3z10nxKpuxgbzAnzincxzIMruUQNgsYLd6kNNfHEbQgHKgHpLb0ugEf//HLYqV9LsGQvYubDcyP0t5TySdwE5LKD6bmsE/jBHc+BZKMGej0Nv8pvjjF800nI0VhizspLpksPpwAAADAGVAAAAAHkGbCknhDyZTBTwz//44QAAAAwAAAwAAAwAAAwCLgAAAAK4BnylqQn8AASUsKUDcnjpI26q0lT7iidaEJI5NZbaJufMKpDrNQAQppfGf7nIY3u289KnePayai5I0skspDM59D1KejfPXSfEqm7GBvMCfOKdzHMgyu5RA2Cxgt3qQ018cRtCAcqAektvS6AR//8ctipX0uwZC9i5sNzI/S3lPJJ3ATksoPpuawT+MEdz4FkowZ6PQ2/ym+OMXzTScjRWGLOykumSw+nAAAAMAZUEAAAAeQZssSeEPJlMFPDP//jhAAAADAAADAAADAAADAIuAAAAArgGfS2pCfwABJSwpQNyeOkjbqrSVPuKJ1oQkjk1ltom58wqkOs1ABCml8Z/uchje7bz0qd49rJqLkjSySykMzn0PUp6N89dJ8SqbsYG8wJ84p3McyDK7lEDYLGC3epDTXxxG0IByoB6S29LoBH//xy2KlfS7BkL2Lmw3Mj9LeU8kncBOSyg+m5rBP4wR3PgWSjBno9Db/Kb44xfNNJyNFYYs7KS6ZLD6cAAAAwBlQAAAAB5Bm05J4Q8mUwU8M//+OEAAAAMAAAMAAAMAAAMAi4EAAACuAZ9takJ/AAElLClA3J46SNuqtJU+4onWhCSOTWW2ibnzCqQ6zUAEKaXxn+5yGN7tvPSp3j2smouSNLJLKQzOfQ9Sno3z10nxKpuxgbzAnzincxzIMruUQNgsYLd6kNNfHEbQgHKgHpLb0ugEf//HLYqV9LsGQvYubDcyP0t5TySdwE5LKD6bmsE/jBHc+BZKMGej0Nv8pvjjF800nI0VhizspLpksPpwAAADAGVBAAAAHkGbcEnhDyZTBTwz//44QAAAAwAAAwAAAwAAAwCLgQAAAK4Bn49qQn8AASUsKUDcnjpI26q0lT7iidaEJI5NZbaJufMKpDrNQAQppfGf7nIY3u289KnePayai5I0skspDM59D1KejfPXSfEqm7GBvMCfOKdzHMgyu5RA2Cxgt3qQ018cRtCAcqAektvS6AR//8ctipX0uwZC9i5sNzI/S3lPJJ3ATksoPpuawT+MEdz4FkowZ6PQ2/ym+OMXzTScjRWGLOykumSw+nAAAAMAZUAAAAAeQZuSSeEPJlMFPDP//jhAAAADAAADAAADAAADAIuAAAAArgGfsWpCfwABJSwpQNyeOkjbqrSVPuKJ1oQkjk1ltom58wqkOs1ABCml8Z/uchje7bz0qd49rJqLkjSySykMzn0PUp6N89dJ8SqbsYG8wJ84p3McyDK7lEDYLGC3epDTXxxG0IByoB6S29LoBH//xy2KlfS7BkL2Lmw3Mj9LeU8kncBOSyg+m5rBP4wR3PgWSjBno9Db/Kb44xfNNJyNFYYs7KS6ZLD6cAAAAwBlQQAAAB5Bm7RJ4Q8mUwU8M//+OEAAAAMAAAMAAAMAAAMAi4AAAACuAZ/TakJ/AAElLClA3J46SNuqtJU+4onWhCSOTWW2ibnzCqQ6zUAEKaXxn+5yGN7tvPSp3j2smouSNLJLKQzOfQ9Sno3z10nxKpuxgbzAnzincxzIMruUQNgsYLd6kNNfHEbQgHKgHpLb0ugEf//HLYqV9LsGQvYubDcyP0t5TySdwE5LKD6bmsE/jBHc+BZKMGej0Nv8pvjjF800nI0VhizspLpksPpwAAADAGVAAAAAHkGb1knhDyZTBTwz//44QAAAAwAAAwAAAwAAAwCLgQAAAK4Bn/VqQn8AASUsKUDcnjpI26q0lT7iidaEJI5NZbaJufMKpDrNQAQppfGf7nIY3u289KnePayai5I0skspDM59D1KejfPXSfEqm7GBvMCfOKdzHMgyu5RA2Cxgt3qQ018cRtCAcqAektvS6AR//8ctipX0uwZC9i5sNzI/S3lPJJ3ATksoPpuawT+MEdz4FkowZ6PQ2/ym+OMXzTScjRWGLOykumSw+nAAAAMAZUAAAAAeQZv4SeEPJlMFPDP//jhAAAADAAADAAADAAADAIuBAAAArgGeF2pCfwABJSwpQNyeOkjbqrSVPuKJ1oQkjk1ltom58wqkOs1ABCml8Z/uchje7bz0qd49rJqLkjSySykMzn0PUp6N89dJ8SqbsYG8wJ84p3McyDK7lEDYLGC3epDTXxxG0IByoB6S29LoBH//xy2KlfS7BkL2Lmw3Mj9LeU8kncBOSyg+m5rBP4wR3PgWSjBno9Db/Kb44xfNNJyNFYYs7KS6ZLD6cAAAAwBlQQAAAB5BmhpJ4Q8mUwU8M//+OEAAAAMAAAMAAAMAAAMAi4AAAACuAZ45akJ/AAElLClA3J46SNuqtJU+4onWhCSOTWW2ibnzCqQ6zUAEKaXxn+5yGN7tvPSp3j2smouSNLJLKQzOfQ9Sno3z10nxKpuxgbzAnzincxzIMruUQNgsYLd6kNNfHEbQgHKgHpLb0ugEf//HLYqV9LsGQvYubDcyP0t5TySdwE5LKD6bmsE/jBHc+BZKMGej0Nv8pvjjF800nI0VhizspLpksPpwAAADAGVBAAAAHkGaPEnhDyZTBTwz//44QAAAAwAAAwAAAwAAAwCLgAAAAK4BnltqQn8AASUsKUDcnjpI26q0lT7iidaEJI5NZbaJufMKpDrNQAQppfGf7nIY3u289KnePayai5I0skspDM59D1KejfPXSfEqm7GBvMCfOKdzHMgyu5RA2Cxgt3qQ018cRtCAcqAektvS6AR//8ctipX0uwZC9i5sNzI/S3lPJJ3ATksoPpuawT+MEdz4FkowZ6PQ2/ym+OMXzTScjRWGLOykumSw+nAAAAMAZUEAAAAeQZpeSeEPJlMFPDP//jhAAAADAAADAAADAAADAIuBAAAArgGefWpCfwABJSwpQNyeOkjbqrSVPuKJ1oQkjk1ltom58wqkOs1ABCml8Z/uchje7bz0qd49rJqLkjSySykMzn0PUp6N89dJ8SqbsYG8wJ84p3McyDK7lEDYLGC3epDTXxxG0IByoB6S29LoBH//xy2KlfS7BkL2Lmw3Mj9LeU8kncBOSyg+m5rBP4wR3PgWSjBno9Db/Kb44xfNNJyNFYYs7KS6ZLD6cAAAAwBlQAAAAB5BmmBJ4Q8mUwU8M//+OEAAAAMAAAMAAAMAAAMAi4AAAACuAZ6fakJ/AAElLClA3J46SNuqtJU+4onWhCSOTWW2ibnzCqQ6zUAEKaXxn+5yGN7tvPSp3j2smouSNLJLKQzOfQ9Sno3z10nxKpuxgbzAnzincxzIMruUQNgsYLd6kNNfHEbQgHKgHpLb0ugEf//HLYqV9LsGQvYubDcyP0t5TySdwE5LKD6bmsE/jBHc+BZKMGej0Nv8pvjjF800nI0VhizspLpksPpwAAADAGVBAAAAHkGagknhDyZTBTwz//44QAAAAwAAAwAAAwAAAwCLgAAAAK4BnqFqQn8AASUsKUDcnjpI26q0lT7iidaEJI5NZbaJufMKpDrNQAQppfGf7nIY3u289KnePayai5I0skspDM59D1KejfPXSfEqm7GBvMCfOKdzHMgyu5RA2Cxgt3qQ018cRtCAcqAektvS6AR//8ctipX0uwZC9i5sNzI/S3lPJJ3ATksoPpuawT+MEdz4FkowZ6PQ2/ym+OMXzTScjRWGLOykumSw+nAAAAMAZUEAAAAeQZqkSeEPJlMFPDP//jhAAAADAAADAAADAAADAIuAAAAArgGew2pCfwABJSwpQNyeOkjbqrSVPuKJ1oQkjk1ltom58wqkOs1ABCml8Z/uchje7bz0qd49rJqLkjSySykMzn0PUp6N89dJ8SqbsYG8wJ84p3McyDK7lEDYLGC3epDTXxxG0IByoB6S29LoBH//xy2KlfS7BkL2Lmw3Mj9LeU8kncBOSyg+m5rBP4wR3PgWSjBno9Db/Kb44xfNNJyNFYYs7KS6ZLD6cAAAAwBlQQAAAB5BmsZJ4Q8mUwU8M//+OEAAAAMAAAMAAAMAAAMAi4EAAACuAZ7lakJ/AAElLClA3J46SNuqtJU+4onWhCSOTWW2ibnzCqQ6zUAEKaXxn+5yGN7tvPSp3j2smouSNLJLKQzOfQ9Sno3z10nxKpuxgbzAnzincxzIMruUQNgsYLd6kNNfHEbQgHKgHpLb0ugEf//HLYqV9LsGQvYubDcyP0t5TySdwE5LKD6bmsE/jBHc+BZKMGej0Nv8pvjjF800nI0VhizspLpksPpwAAADAGVBAAAAHkGa6EnhDyZTBTwz//44QAAAAwAAAwAAAwAAAwCLgQAAAK4BnwdqQn8AASUsKUDcnjpI26q0lT7iidaEJI5NZbaJufMKpDrNQAQppfGf7nIY3u289KnePayai5I0skspDM59D1KejfPXSfEqm7GBvMCfOKdzHMgyu5RA2Cxgt3qQ018cRtCAcqAektvS6AR//8ctipX0uwZC9i5sNzI/S3lPJJ3ATksoPpuawT+MEdz4FkowZ6PQ2/ym+OMXzTScjRWGLOykumSw+nAAAAMAZUAAAAAeQZsKSeEPJlMFPDP//jhAAAADAAADAAADAAADAIuAAAAArgGfKWpCfwABJSwpQNyeOkjbqrSVPuKJ1oQkjk1ltom58wqkOs1ABCml8Z/uchje7bz0qd49rJqLkjSySykMzn0PUp6N89dJ8SqbsYG8wJ84p3McyDK7lEDYLGC3epDTXxxG0IByoB6S29LoBH//xy2KlfS7BkL2Lmw3Mj9LeU8kncBOSyg+m5rBP4wR3PgWSjBno9Db/Kb44xfNNJyNFYYs7KS6ZLD6cAAAAwBlQQAAAB5BmyxJ4Q8mUwU8M//+OEAAAAMAAAMAAAMAAAMAi4AAAACuAZ9LakJ/AAElLClA3J46SNuqtJU+4onWhCSOTWW2ibnzCqQ6zUAEKaXxn+5yGN7tvPSp3j2smouSNLJLKQzOfQ9Sno3z10nxKpuxgbzAnzincxzIMruUQNgsYLd6kNNfHEbQgHKgHpLb0ugEf//HLYqV9LsGQvYubDcyP0t5TySdwE5LKD6bmsE/jBHc+BZKMGej0Nv8pvjjF800nI0VhizspLpksPpwAAADAGVAAAAAHkGbTknhDyZTBTwz//44QAAAAwAAAwAAAwAAAwCLgQAAAK4Bn21qQn8AASUsKUDcnjpI26q0lT7iidaEJI5NZbaJufMKpDrNQAQppfGf7nIY3u289KnePayai5I0skspDM59D1KejfPXSfEqm7GBvMCfOKdzHMgyu5RA2Cxgt3qQ018cRtCAcqAektvS6AR//8ctipX0uwZC9i5sNzI/S3lPJJ3ATksoPpuawT+MEdz4FkowZ6PQ2/ym+OMXzTScjRWGLOykumSw+nAAAAMAZUEAAAAqQZtwSeEPJlMFPDP//jhAAAADAqPPsAVJbfrMQ5WwWezyAAADAAADACghAAAArgGfj2pCfwABJSwpQNyeOkjbqrSVPuKJ1oQkjk1ltom58wqkOs1ABCml8Z/uchje7bz0qd49rJqLkjSySykMzn0PUp6N89dJ8SqbsYG8wJ84p3McyDK7lEDYLGC3epDTXxxG0IByoB6S29LoBH//xy2KlfS7BkL2Lmw3Mj9LeU8kncBOSyg+m5rBP4wR3PgWSjBno9Db/Kb44xfNNJyNFYYs7KS6ZLD6cAAAAwBlQAAAAB5Bm5JJ4Q8mUwU8M//+OEAAAAMAAAMAAAMAAAMAi4AAAACuAZ+xakJ/AAElLClA3J46SNuqtJU+4onWhCSOTWW2ibnzCqQ6zUAEKaXxn+5yGN7tvPSp3j2smouSNLJLKQzOfQ9Sno3z10nxKpuxgbzAnzincxzIMruUQNgsYLd6kNNfHEbQgHKgHpLb0ugEf//HLYqV9LsGQvYubDcyP0t5TySdwE5LKD6bmsE/jBHc+BZKMGej0Nv8pvjjF800nI0VhizspLpksPpwAAADAGVBAAAAHkGbtEnhDyZTBTwz//44QAAAAwAAAwAAAwAAAwCLgAAAAK4Bn9NqQn8AASUsKUDcnjpI26q0lT7iidaEJI5NZbaJufMKpDrNQAQppfGf7nIY3u289KnePayai5I0skspDM59D1KejfPXSfEqm7GBvMCfOKdzHMgyu5RA2Cxgt3qQ018cRtCAcqAektvS6AR//8ctipX0uwZC9i5sNzI/S3lPJJ3ATksoPpuawT+MEdz4FkowZ6PQ2/ym+OMXzTScjRWGLOykumSw+nAAAAMAZUAAAAAeQZvWSeEPJlMFPDP//jhAAAADAAADAAADAAADAIuBAAAArgGf9WpCfwABJSwpQNyeOkjbqrSVPuKJ1oQkjk1ltom58wqkOs1ABCml8Z/uchje7bz0qd49rJqLkjSySykMzn0PUp6N89dJ8SqbsYG8wJ84p3McyDK7lEDYLGC3epDTXxxG0IByoB6S29LoBH//xy2KlfS7BkL2Lmw3Mj9LeU8kncBOSyg+m5rBP4wR3PgWSjBno9Db/Kb44xfNNJyNFYYs7KS6ZLD6cAAAAwBlQAAAACpBm/hJ4Q8mUwU8M//+OEAAAE22MBdmP87Ei7SXY66qp3sAAAMAAAMAA48AAACuAZ4XakJ/AAElLClA3J46SNuqtJU+4onWhCSOTWW2ibnzCqQ6zUAEKaXxn+5yGN7tvPSp3j2smouSNLJLKQzOfQ9Sno3z10nxKpuxgbzAnzincxzIMruUQNgsYLd6kNNfHEbQgHKgHpLb0ugEf//HLYqV9LsGQvYubDcyP0t5TySdwE5LKD6bmsE/jBHc+BZKMGej0Nv8pvjjF800nI0VhizspLpksPpwAAADAGVBAAAAHkGaGknhDyZTBTwz//44QAAAAwAAAwAAAwAAAwCLgAAAAK4BnjlqQn8AASUsKUDcnjpI26q0lT7iidaEJI5NZbaJufMKpDrNQAQppfGf7nIY3u289KnePayai5I0skspDM59D1KejfPXSfEqm7GBvMCfOKdzHMgyu5RA2Cxgt3qQ018cRtCAcqAektvS6AR//8ctipX0uwZC9i5sNzI/S3lPJJ3ATksoPpuawT+MEdz4FkowZ6PQ2/ym+OMXzTScjRWGLOykumSw+nAAAAMAZUEAAAAeQZo8SeEPJlMFPDP//jhAAAADAAADAAADAAADAIuAAAAArgGeW2pCfwABJSwpQNyeOkjbqrSVPuKJ1oQkjk1ltom58wqkOs1ABCml8Z/uchje7bz0qd49rJqLkjSySykMzn0PUp6N89dJ8SqbsYG8wJ84p3McyDK7lEDYLGC3epDTXxxG0IByoB6S29LoBH//xy2KlfS7BkL2Lmw3Mj9LeU8kncBOSyg+m5rBP4wR3PgWSjBno9Db/Kb44xfNNJyNFYYs7KS6ZLD6cAAAAwBlQQAAAB5Bml5J4Q8mUwU8M//+OEAAAAMAAAMAAAMAAAMAi4EAAACuAZ59akJ/AAElLClA3J46SNuqtJU+4onWhCSOTWW2ibnzCqQ6zUAEKaXxn+5yGN7tvPSp3j2smouSNLJLKQzOfQ9Sno3z10nxKpuxgbzAnzincxzIMruUQNgsYLd6kNNfHEbQgHKgHpLb0ugEf//HLYqV9LsGQvYubDcyP0t5TySdwE5LKD6bmsE/jBHc+BZKMGej0Nv8pvjjF800nI0VhizspLpksPpwAAADAGVAAAAAHkGaYEnhDyZTBTwz//44QAAAAwAAAwAAAwAAAwCLgAAAAK4Bnp9qQn8AASUsKUDcnjpI26q0lT7iidaEJI5NZbaJufMKpDrNQAQppfGf7nIY3u289KnePayai5I0skspDM59D1KejfPXSfEqm7GBvMCfOKdzHMgyu5RA2Cxgt3qQ018cRtCAcqAektvS6AR//8ctipX0uwZC9i5sNzI/S3lPJJ3ATksoPpuawT+MEdz4FkowZ6PQ2/ym+OMXzTScjRWGLOykumSw+nAAAAMAZUEAAAApQZqCSeEPJlMFPDP//jhAAAADAAADAAAJt1wADAgdnNnvyOphjIAA1IAAAACvAZ6hakJ/AAElLClA3J46SNuqtJU+4onWhCSOTWW2ibnzCqQ6zUAEKaXxn+5yGN7tvPSp3j2smouSNLJLKQzOfQ9Sno3z10nxKpuxgbzAnzincxzIMruUQNgsYLd6kNNfHEbQgHKgHpLb0ugEf//HLYqV9LsGQvYubDcyP0t5TySdwE5LKD6bmsE/jBHc+BZKMGej0Nv8pvjjF800nI0VhizspLpksPpwBsEoAAD2gQAAACZBmqRJ4Q8mUwU8M//+OEAAAAMAAAMAAAmmAUEM0NQIujusgADUgAAAAK8BnsNqQn8AASUsKUDcnjpI26q0lT7iidaEJI5NZbaJufMKpDrNQAQppfGf7nIY3u289KnePayai5I0skspDM59D1KejfPXSfEqm7GBvMCfOKdzHMgyu5RA2Cxgt3qQ018cRtCAcqAektvS6AR//8ctipX0uwZC9i5sNzI/S3lPJJ3ATksoPpuawT+MEdz4FkowZ6PQ2/ym+OMXzTScjRWGLOykumSw+nAGw/kAAFlBAAAAKEGaxknhDyZTBTwz//44QAAAAwKexqp0IA5vfpkAAAMAaff+uWwAGXEAAACvAZ7lakJ/AAElLClA3J46SNuqtJU+4onWhCSOTWW2ibnzCqQ6zUAEKaXxn+5yGN7tvPSp3j2smouSNLJLKQzOfQ9Sno3z10nxKpuxgbzAnzincxzIMruUQNgsYLd6kNNfHEbQgHKgHpLb0ugEf//HLYqV9LsGQvYubDcyP0t5TySdwE5LKD6bmsE/jBHc+BZKMGej0Nv8pvjjF800nI0VhizspLpksPpwBr8oAADVgQAAACVBmuhJ4Q8mUwU8M//+OEAAAAMAAAMBsBhP+IFxVF+5boAAABXxAAAArgGfB2pCfwABJSwpQNyeOkjbqrSVPuKJ1oQkjk1ltom58wqkOs1ABCml8Z/uchje7bz0qd49rJqLkjSySykMzn0PUp6N89dJ8SqbsYG8wJ84p3McyDK7lEDYLGC3epDTXxxG0IByoB6S29LoBH//xy2KlfS7BkL2Lmw3Mj9LeU8kncBOSyg+m5rBP4wR3PgWSjBno9Db/Kb44xfNNJyNFYYs7KS6ZLD6cAAAAwBlQAAAANtBmwlJ4Q8mUwIZ//44QAAA7QPKgCZXklMdnm/XtDzyGbPXRwWJOeHYv2F4s36C7cP0peaYAxsYRqBIUo0E+mHoAxQPzzhk+3X3WiHqb/Jawp8EyIOtpjB78tABnFH/YBsZzkaUwMCM2qhWXntj8rh1KxnzaWGwtDc+Sl4r8PP8POKG/eFpR88gTWcY6SvbgfSs7qNOkE/Y3Se0Pcq38RWjfldLCAx+3OnJIKx1HzBTHOC9D5W6WazMPakF0541A4vHUlHrjog2Zda36d2CUN/cFdABP8vczsAAYMAAAAchQZsqSeEPJlMCGf/+OEAAAO5iofYR8mUAKALU7U2j+f/tdv/WWNKSbHBxWyAzAT1viEAn+u+0268i1qUQM99H/QjbkMBD+Y3R/oPJKpU1ewBA8jqlMnCDuL4kXhb7JEJmY640WtK/iRziZ57hWhAFu+seeGhfXaKUomGp1f+qbKovDzDvh/q5BZFBiHkUgxqPLLJRfId7kX5+15JJ+Tmb3lK3oL3j1XFwB04qBmiQ03Cgie9AwGj7MYK6QwR8eznlbTlQl9szWcuYKVPnS05fVfoysCC83o1F/qf509WYPYl0sZP9BN5X0l00QUT0vhEB1k351gcP8FYYInHYUZzwzYD9IhNhRTUaqNQQNOB61Xpjc3aKWuI03SWqKB/wGitiUJTi/0L1AUW4Wsdf77Kw548OoYU+D7S/SPb/hoz5gL/6zR3XerPv9S9rKEQQZ7rAMEuylIm5aTKdW474r1ugvvSfiWlKScOxpo3nF/q58VCev0bXjkqRwo/8cuP994HFfwBgw9v330RqCVdgCi3H3tFWQ9otsH6TRoiV7izAOZjSsrygxNxgHILp7Kkkesjp2geaK6HVxHQoFl6KOH0Srw3BuxsQG5fToaAIuSsJH9PQr5Hp9PSdi2Xe6fSEH6kBGzi5F5slmVB8kj2E36fmieU7yJppcd7xiB7VBH2pt+DhM5m21X+FnCaR3pehPP+H7Eals75GfmZVmHYHXHbLeTQdBI2eP3wAYakynezNFnUzHZIsjZM2tXCs6Ir3+ZzU4za70sA4yrXgtyQvm5hhGgHMYTs3rR48tJqS/e8pooQ6HxCYW1XTjFCD2hTXMsjLsEBbM6kcYI6hARHry7twH/3Bxc6NjF1BE+o9ph91Y/1PNQho1+g6xxB7slmLbSRkDmGdDqJ7/DopnCr+wMwOMChddBTOFYLPUbJT4Hgctb+CLp8PS5Ue2JG4RINFx2NZet7gpbQeHpPJawaMPhNRhJuLwObBq8/NVJrh1eyNgFhRAoGixe3a8qdbQk4BT3LvxNDyBowqHQ20fQl52oRV6xut9IgWUpzFu9ZH2YC2vrtKd2oXFJWftf0QfK6+yCEF8dPGq6fJtrTET6ytjWUJbMhlKYeaqe9+NN1zapwrPeOZKMYSA7JL30rH8yC0ryAkjFOzzErMhBMo9QZlxLhPzlGRLZnz+dsGb8xKIwEQ9ycTuBA3w6b9dA3uQgq6MGh9ci2xynu56KpsuYI34aAxWZiOJgyQiJhyoNwpK0nzyap1vbe6nkOEj4W5biirdqWbmstT02kh5a3IUMwlS5oly0//9/6hSzoA5QCP+2K243tK/tFR9kDDuOYY6VPQuBBRr7AGFwCDYOVS8x3mlUZ7zCXpIFE0UCz0442kTxj7oL9ZlHxEIa+ES9SLlAjWdFkj7qKtMz3ypiBjIW9yOEgKNzwHbkLU4EKIPvyWrobFsVy4seCnXlUPiwlMOzXmhRQYPdzr2msuzdqoXEhBa7dP+1hD04gZDQyhgc/Xy+7J737FC2s5ey/FV1rGHdmBm0prdjwEQPP/67RBV+Xv2S/k6xkkKrK2IfjD1lZ/UYgRVEgWU/ZlVIpaPPFfz5g2e9vPcRzvbJI8GVQNBMEO0m3PJ9FuNaGuI8peG9MbqDOBHtSWDUCrCUO3penO+v/1vxlHdTsYOQX7lIKTfIbZ1PEfRTc9vgqa5HjOl/6ed6rEQoA7P9Z22YHjRLTXgArP7Uv8YmUBwGo1oHc5Bg6zV6ByQoG7NDmEv4dHrhKK3T4j6u8E97HYY78MzLBv37uc92ev0V2q8B4y95H6WS6faNxrmgSwn33lnsPIfuZ+yxMqX+vEVG+me5hvpUiWdte2v8YP3ZyuxvBOkAa1P/IeHulcHjov/uCaCFBG4O3UGBKhKxG+c/9I0YGrS8aE9ctS3jDbxPbwFM1k32QMxP3y/TzbQ/FsoYrV0tRgtVY5wdxLDLBrQn2Zf86rX4Wgi8ryBHrl0FENUuDR83U1d7Whsu2CCMngcPYpl8ZG4yFOlVv+FVTuR9/vsBjyUqDlzINrqag3PmGyAln5V/LG7dJl0tpxbxxbZRhlFWGBNDoMAk7uzAwNCyYEIMsvcAwccSVnQHXJMiYY28XT0/lLkQqmvIQbmi0KTki7uVI4wmKfazW//+tGGB1HshUpDU5hu4HYw4sk8y1MikE/Dc5HmJLMoWy3pRBVfP7BcxxH1BWcDbxax+2G7oUpNFpyjaZxn7bRI9Z1axB2Dn2f+aCG4arsMbcoF9wLv/6wZhaOkwtPvloaYf83dlFZDMe0ognu/JdtQNhD9pQpU3Cf9v38LSbBzzf1muUxr+M2TRgaDPsyY6vGm7h2AIHDQOTqEIveK+PaWWMp8N31OYy4T6p/5nYc+Cwc2GD20UEBJ3gYntUdoFRUEAb73uIDrszBwvOqxvr+UsXPCQAAAWlBm0tJ4Q8mUwIZ//44QAAAfL1IwJ6nW67z+JdkdcziMycMM8+ZAJ1Pp2fL9vzxAy/4KT0SnqEDtfOiVb4Gvfd3/DtrE3oth8NIbcwRa2Tat5F4FCmR/Uupcj56fpQQBG7hOE6sEVbz7mAWiwHO1fsrTxI88SFwGziDgHMm6tJQnLRLIZH1Tng4TAoop2oUSO4/LYpDPT9O7DwQq2g6ytGiKBBp5R50yVRZTjIB/RR4bryRPceYlSaqr7SArolQl794IuDYUTMcFiOZ+Rxu2GRzZtBcoKBccerVA7tT2Fdu8wbLnxCkgzxCdeCSe+RDk+MZe+EmvSIK5cLGnr6nlmcdiDDAZbhhM2HeI7qbnIN5PKVQ/otSY3reFK59d7sqilTrLgMveBi9xSjk2Uvpt1N74dO3ufuvu+NnrPH05hHn1sn87hx0WH8qgDSJMB2w26uzRFT0zE9SvQ3fd1R94O5/ZKU3yploCC2gAAAASkGbbUnhDyZTBRE8M//+OEAAAAw9mv3fwfAJbeyyPpllzvVbiCseT7gaQuFlppUIR72VI2vcAAA/uiumWmKDmohGBeZU5JoEAHLAAAAAMgGfjGpCfwABJSwqtHvGTcevYGJlExk4pH8urz2E3Jy0fd0oKAAAG1Q+Ib05E0p+gApJAAAAKkGbj0nhDyZTBTwz//44QAAABJvgiG6AAAAOtwY6qGws2ABtvB33vIgFTQAAAJ4Bn65qQn8AASUsKrT7PKixAB9u3O//HLlH/d67kh5dmdJII/wQjcUDid8n6LtjVYjetBdH+mYrTiLH9mnWS3OvyFvLU7nOJm6SbW9Nvbn/+KRPxwTtTPy6sb15RlhglR6en6ckS5Hhti4dqyrywCsgQNcWiIqmqj5O3rpjbRwYO1VDkurvAaB/z/p1zsbEhiU8cHDAAABW/dtf+DAA/wAAAChBm7FJ4Q8mUwU8M//+OEAAAAMAAAMAAAMAU/T+IugADbeYj6MZ8gLyAAAAnAGf0GpCfwABJSwqtPs8qLEAH27c7/8cuUf93ruSHl2Z0kgj/BCNxQOJ3yfou2NViN60F0f6ZitOIsf2aR54xCsaZe5ziZukm1vTb25//ikT8cE7Uz8urG9eUZYYJUenp+nJEuRh7YuHasVxsArIEDXFoiKpqo+Tt7BInsDF21VDkvWGJTA/zwZbDbHiX7thLKxuAAAFM3CY8AAsoAAAAChBm9NJ4Q8mUwU8M//+OEAAAAMAAAMAAAMAU/T+IugADbeYj6MZ8gLzAAAAmgGf8mpCfwABJSwqtPs8qLEAH27c7/8cuUf93ruSHl2Z0kgj/BCNxQOJ3yfou2NViN60F0f6ZitOIsf2aR54xCsaZe5ziZukm1vTb25//ikT8cE7Uz8urG9eUZYYJUenp+nJEuRh7YuHasVxsArIEDXFoiKpqo+Tt7BInsDF21VDkvWGJTA/zwZbDbHiX7thLKxuAAAFM2jgA8IAAAAoQZv1SeEPJlMFPDP//jhAAAADAAADAAADAFP0/iLoAA23mI+jGfIC8gAAAJoBnhRqQn8AASUsKrT7PKixAB9u3O//HLlH/d67kh5dmdJII/wQjcUDid8n6LtjVYjetBdH+mYrTiLH9mkeeMQrGmXuc4mbpJtb029uf/4pE/HBO1M/LqxvXlGWGCVHp6fpyRLkYe2Lh2rFcbAKyBA1xaIiqaqPk7ewSJ7AxdtVQ5L1hiUwP88GWw2x4l+7YSysbgAABTNo4APDAAAAKEGaF0nhDyZTBTwz//44QAAAAwAAAwAAAwBT9P4i6AANt5iPoxnyAvIAAACaAZ42akJ/AAElLCq0+zyosQAfbtzv/xy5R/3eu5IeXZnSSCP8EI3FA4nfJ+i7Y1WI3rQXR/pmK04ix/ZpHnjEKxpl7nOJm6SbW9Nvbn/+KRPxwTtTPy6sb15RlhglR6en6ckS5GHti4dqxXGwCsgQNcWiIqmqj5O3sEiewMXbVUOS9YYlMD/PBlsNseJfu2EsrG4AAAUzaOADwwAAAChBmjlJ4Q8mUwU8M//+OEAAAAMAAAMAAAMAU/T+IugADbeYj6MZ8gLzAAAAmgGeWGpCfwABJSwqtPs8qLEAH27c7/8cuUf93ruSHl2Z0kgj/BCNxQOJ3yfou2NViN60F0f6ZitOIsf2aR54xCsaZe5ziZukm1vTb25//ikT8cE7Uz8urG9eUZYYJUenp+nJEuRh7YuHasVxsArIEDXFoiKpqo+Tt7BInsDF21VDkvWGJTA/zwZbDbHiX7thLKxuAAAFM2jgA8IAAAAoQZpbSeEPJlMFPDP//jhAAAADAAADAAADAFP0/iLoAA23mI+jGfIC8wAAAJoBnnpqQn8AASUsKrT7PKixAB9u3O//HLlH/d67kh5dmdJII/wQjcUDid8n6LtjVYjetBdH+mYrTiLH9mkeeMQrGmXuc4mbpJtb029uf/4pE/HBO1M/LqxvXlGWGCVHp6fpyRLkYe2Lh2rFcbAKyBA1xaIiqaqPk7ewSJ7AxdtVQ5L1hiUwP88GWw2x4l+7YSysbgAABTNo4APCAAAAKEGafUnhDyZTBTwz//44QAAAAwAAAwAAAwBT9P4i6AANt5iPoxnyAvMAAACaAZ6cakJ/AAElLCq0+zyosQAfbtzv/xy5R/3eu5IeXZnSSCP8EI3FA4nfJ+i7Y1WI3rQXR/pmK04ix/ZpHnjEKxpl7nOJm6SbW9Nvbn/+KRPxwTtTPy6sb15RlhglR6en6ckS5GHti4dqxXGwCsgQNcWiIqmqj5O3sEiewMXbVUOS9YYlMD/PBlsNseJfu2EsrG4AAAUzaOADwwAAAChBmp9J4Q8mUwU8M//+OEAAAAMAAAMAAAMAU/T+IugADbeYj6MZ8gLyAAAAmgGevmpCfwABJSwqtPs8qLEAH27c7/8cuUf93ruSHl2Z0kgj/BCNxQOJ3yfou2NViN60F0f6ZitOIsf2aR54xCsaZe5ziZukm1vTb25//ikT8cE7Uz8urG9eUZYYJUenp+nJEuRh7YuHasVxsArIEDXFoiKpqo+Tt7BInsDF21VDkvWGJTA/zwZbDbHiX7thLKxuAAAFM2jgA8IAAAAoQZqhSeEPJlMFPDP//jhAAAADAAADAAADAFP0/iLoAA23mI+jGfIC8wAAAJoBnsBqQn8AASUsKrT7PKixAB9u3O//HLlH/d67kh5dmdJII/wQjcUDid8n6LtjVYjetBdH+mYrTiLH9mkeeMQrGmXuc4mbpJtb029uf/4pE/HBO1M/LqxvXlGWGCVHp6fpyRLkYe2Lh2rFcbAKyBA1xaIiqaqPk7ewSJ7AxdtVQ5L1hiUwP88GWw2x4l+7YSysbgAABTNo4APCAAAAKEGaw0nhDyZTBTwz//44QAAAAwAAAwAAAwBT9P4i6AANt5iPoxnyAvMAAACaAZ7iakJ/AAElLCq0+zyosQAfbtzv/xy5R/3eu5IeXZnSSCP8EI3FA4nfJ+i7Y1WI3rQXR/pmK04ix/ZpHnjEKxpl7nOJm6SbW9Nvbn/+KRPxwTtTPy6sb15RlhglR6en6ckS5GHti4dqxXGwCsgQNcWiIqmqj5O3sEiewMXbVUOS9YYlMD/PBlsNseJfu2EsrG4AAAUzaOADwgAAAChBmuVJ4Q8mUwU8M//+OEAAAAMAAAMAAAMAU/T+IugADbeYj6MZ8gLzAAAAmgGfBGpCfwABJSwqtPs8qLEAH27c7/8cuUf93ruSHl2Z0kgj/BCNxQOJ3yfou2NViN60F0f6ZitOIsf2aR54xCsaZe5ziZukm1vTb25//ikT8cE7Uz8urG9eUZYYJUenp+nJEuRh7YuHasVxsArIEDXFoiKpqo+Tt7BInsDF21VDkvWGJTA/zwZbDbHiX7thLKxuAAAFM2jgA8MAAAAoQZsHSeEPJlMFPDP//jhAAAADAAADAAADAFP0/iLoAA23mI+jGfIC8wAAAJoBnyZqQn8AASUsKrT7PKixAB9u3O//HLlH/d67kh5dmdJII/wQjcUDid8n6LtjVYjetBdH+mYrTiLH9mkeeMQrGmXuc4mbpJtb029uf/4pE/HBO1M/LqxvXlGWGCVHp6fpyRLkYe2Lh2rFcbAKyBA1xaIiqaqPk7ewSJ7AxdtVQ5L1hiUwP88GWw2x4l+7YSysbgAABTNo4APDAAAAKEGbKUnhDyZTBTwz//44QAAAAwAAAwAAAwBT9P4i6AANt5iPoxnyAvIAAACaAZ9IakJ/AAElLCq0+zyosQAfbtzv/xy5R/3eu5IeXZnSSCP8EI3FA4nfJ+i7Y1WI3rQXR/pmK04ix/ZpHnjEKxpl7nOJm6SbW9Nvbn/+KRPxwTtTPy6sb15RlhglR6en6ckS5GHti4dqxXGwCsgQNcWiIqmqj5O3sEiewMXbVUOS9YYlMD/PBlsNseJfu2EsrG4AAAUzaOADwgAAAChBm0tJ4Q8mUwU8M//+OEAAAAMAAAMAAAMAU/T+IugADbeYj6MZ8gLzAAAAmgGfampCfwABJSwqtPs8qLEAH27c7/8cuUf93ruSHl2Z0kgj/BCNxQOJ3yfou2NViN60F0f6ZitOIsf2aR54xCsaZe5ziZukm1vTb25//ikT8cE7Uz8urG9eUZYYJUenp+nJEuRh7YuHasVxsArIEDXFoiKpqo+Tt7BInsDF21VDkvWGJTA/zwZbDbHiX7thLKxuAAAFM2jgA8IAAAAoQZttSeEPJlMFPDP//jhAAAADAAADAAADAFP0/iLoAA23mI+jGfIC8gAAAJoBn4xqQn8AASUsKrT7PKixAB9u3O//HLlH/d67kh5dmdJII/wQjcUDid8n6LtjVYjetBdH+mYrTiLH9mkeeMQrGmXuc4mbpJtb029uf/4pE/HBO1M/LqxvXlGWGCVHp6fpyRLkYe2Lh2rFcbAKyBA1xaIiqaqPk7ewSJ7AxdtVQ5L1hiUwP88GWw2x4l+7YSysbgAABTNo4APDAAAAKEGbj0nhDyZTBTwz//44QAAAAwAAAwAAAwBT9P4i6AANt5iPoxnyAvMAAACaAZ+uakJ/AAElLCq0+zyosQAfbtzv/xy5R/3eu5IeXZnSSCP8EI3FA4nfJ+i7Y1WI3rQXR/pmK04ix/ZpHnjEKxpl7nOJm6SbW9Nvbn/+KRPxwTtTPy6sb15RlhglR6en6ckS5GHti4dqxXGwCsgQNcWiIqmqj5O3sEiewMXbVUOS9YYlMD/PBlsNseJfu2EsrG4AAAUzaOADwwAAAChBm7FJ4Q8mUwU8M//+OEAAAAMAAAMAAAMAU/T+IugADbeYj6MZ8gLyAAAAmgGf0GpCfwABJSwqtPs8qLEAH27c7/8cuUf93ruSHl2Z0kgj/BCNxQOJ3yfou2NViN60F0f6ZitOIsf2aR54xCsaZe5ziZukm1vTb25//ikT8cE7Uz8urG9eUZYYJUenp+nJEuRh7YuHasVxsArIEDXFoiKpqo+Tt7BInsDF21VDkvWGJTA/zwZbDbHiX7thLKxuAAAFM2jgA8IAAAAoQZvTSeEPJlMFPDP//jhAAAADAAADAAADAFP0/iLoAA23mI+jGfIC8wAAAJoBn/JqQn8AASUsKrT7PKixAB9u3O//HLlH/d67kh5dmdJII/wQjcUDid8n6LtjVYjetBdH+mYrTiLH9mkeeMQrGmXuc4mbpJtb029uf/4pE/HBO1M/LqxvXlGWGCVHp6fpyRLkYe2Lh2rFcbAKyBA1xaIiqaqPk7ewSJ7AxdtVQ5L1hiUwP88GWw2x4l+7YSysbgAABTNo4APCAAAAKEGb9UnhDyZTBTwz//44QAAAAwAAAwAAAwBT9P4i6AANt5iPoxnyAvIAAACaAZ4UakJ/AAElLCq0+zyosQAfbtzv/xy5R/3eu5IeXZnSSCP8EI3FA4nfJ+i7Y1WI3rQXR/pmK04ix/ZpHnjEKxpl7nOJm6SbW9Nvbn/+KRPxwTtTPy6sb15RlhglR6en6ckS5GHti4dqxXGwCsgQNcWiIqmqj5O3sEiewMXbVUOS9YYlMD/PBlsNseJfu2EsrG4AAAUzaOADwwAAAChBmhdJ4Q8mUwU8M//+OEAAAAMAAAMAAAMAU/T+IugADbeYj6MZ8gLyAAAAmgGeNmpCfwABJSwqtPs8qLEAH27c7/8cuUf93ruSHl2Z0kgj/BCNxQOJ3yfou2NViN60F0f6ZitOIsf2aR54xCsaZe5ziZukm1vTb25//ikT8cE7Uz8urG9eUZYYJUenp+nJEuRh7YuHasVxsArIEDXFoiKpqo+Tt7BInsDF21VDkvWGJTA/zwZbDbHiX7thLKxuAAAFM2jgA8MAAAAoQZo5SeEPJlMFPDP//jhAAAADAAADAAADAFP0/iLoAA23mI+jGfIC8wAAAJoBnlhqQn8AASUsKrT7PKixAB9u3O//HLlH/d67kh5dmdJII/wQjcUDid8n6LtjVYjetBdH+mYrTiLH9mkeeMQrGmXuc4mbpJtb029uf/4pE/HBO1M/LqxvXlGWGCVHp6fpyRLkYe2Lh2rFcbAKyBA1xaIiqaqPk7ewSJ7AxdtVQ5L1hiUwP88GWw2x4l+7YSysbgAABTNo4APCAAANeGWIggAP//728P4FNjuY0JcRzeidMx+/Fbi6NDe9zgAAAwAAAwAAAwAZ4R5vbN2RGWpwAAADAUKcrbl+L+YDpy/dnWrrYMYn2E4kgZox9i4FzHVL1MEnPTw8pslDFvt+GUMRG4jiFhumMaImm0azznm/j1/Ufq0AUuJtUxsBd0lMWr4tcgiYyQxcSaW0UQr3S81Lf+IhoWjI4rvQKdNr8k9ywuYmk3K6MBgzleN04KQ25IFxS5b90InjLmVTXfILbUdiIleDbQCR5GpZk+BlDB/s7Sl1a3daHHBzUL3GdUCvo9lpY46Tthx7H0r6DxsHINbiaS+/c9HU7nTC5tgi2CsU7bCeoA6O4zXshUREMVCMr5h5gBV5DynO171oyBA8LVCCQRktOlkzLphTUL+zF9Lm5Td4r+2vKEFn4MtSU799BBopmuBA8j+tfgDjZsy564Tr0ubN8gC39d/nH65ugzvEQbl1uYGhdEkjyOXxFe7nK6OeyyUwJp6/I6kHnX5xyaVlzte/hDarF9PWq/IjQcdxMFcEp72fDdewlJT1vhqurBOwhhplDvDRPsR+6UVjJuWzzorwrq6NzmM1nWvn5kYY71IE7Ny59mJbd5p/dlJ/mljI2xiCNKsGFET79YmLcfVK3FkPBh6j0E2EY7HF5TSMDxf+SFYOxa9vKju7Bj+U2ndopuLZnbujpmOmcdAZ/WiXnD7I2QDwSERbwAvPnn1BZ7P2cxRgQH5N7jTTW/Pa5E/ny3efsz/L1f/BkzL8pNhvDq5ZNhxpL7RMkMX5DUUHyrbaTqQyA48CdGLtnVjnvfV/tQERaCUCUrMY+5DmPzmtNXoOJjocBxxo9igAAAMAF8rOZeV9BR5sVUnEsUPUzSpV+9udLPgyixRJ7o3hgosAHrLMBRUW4BZsKxtXX7Yc0xyZI2olqyRlItMiQpeI7cewvgB8/bHbJmljyw8/dcFQU2Z/Vmg+rgT2qoVzrlF9H969Er9PO5QKVqlGoTpTFTKinRuV1RTSghR0m/09rMvOs9sBdgtjOHUfzicJNFPwp5R4C3IAAQyxJ1nggumUDGiUWlLaLxGWxwKBC0LaGKX4ZO8YrlBSVaesXjmTNB9au6MrqhI5jsX98Ko2FXyEHsZWUhQGhWmyUoH741RHnls3/kreDezkFykJXk80kp1dRhJ/WOpsBY6nah1VTSLv3KYk8BV4+JfMwVU3C/MGZzOQ68Z2wMDAqRLj4par0GhidtC39njM1sbrFHwWIGvRZ9nd5xM9C98iMA395nvxGe62zjp9+ttYnThlkPPAM0Sw5wKvyxiKD7LGHAWNAHyoj4VcFxKNiH5GNNw8O0281OeaOpuSqPJeDGuVEsMbi0KxidPsNrY5x6dA2gGcpU8eytSu5Swcl0BJzqOzY/sCZ0aLTY11vBmvqTXD6T20VQXOu5aHswW/LFcYiDc2FinxdIPwKG+c6mpzZIYKRSana+71Kxtkz6iQFPaeoMfZL3bQIYaXAU3efzCqhjmr8PTRMJQICXiEAEqOqnN04QwRTZlH/b0mcqudGxz3e4jyqy9a11eN/jksbAFf2hp/7mwV827JQv7Pwrba8vsQty0HABezYkR+1RtTrYC3X9m94Kuft1/p4WlSa9rc1anHe4ik/uWfRhsATABGASspz5+H5Cq8R8se+f664UJNBkqnbRPEGxsvMtzNBGV8pKcOrubya7UPMuuACMYh5uqKDWzfGenSNtDysA2k2Ox+eM6Vbm1f9oD0oSsvGhhXOa/9XHaefYVZ4NAFNIK7oe/YmFZ2PZ7caJ07/UQJW8PlGxxOVKZofGT8Feiiqj4yld3YJxOr5HjfXw0KHyCzh+bu+C5F55FdcqyLagQdGTfZ4NU/pOqscnqWzChLlB4GtduvCfK/7uCsx8b5JjSQ60HqpA9V0bbWObwqdqu7Cry6uJxSOehLvstEnGcAehhyyP0ABEO6qNx/jAGPs/tu4PSaB9Qs/ZiSpXi1lNy5F428q3hNFO+7rJC4twf7YUC+sKNt9BEimCp1u8Aab9U1NwTeD93CecP+kjG6AcYbpQAXHqH5yXVoFp7+kL3HLDAu8WwmDsGM32hH9K81ZbiUM1DYrzebDvSsQa19jaKz1HHEBO3iyGvmsbS9qTmvQ+7J0Nq9PWpS04ck+O2119WdPDXVWxpK+KD8gAAIJ1BX8drYk+yS5fmlYkW3DYWct7GQ6bcd6SzeT4I5YDvIcIfAQyRBtPG/b/AdoM/ehVL0+uxJ8qa8fv3/7qntVB230h4EBf/LKXV2QdhdYjcaOhCStY5lmgpUQ/Oy6ds4zHKMrVU/0vInHjPKKG5Btxko0W3HvlALwJP+H8XXH4r7drsYmaALsLyEtKCV2WYCMiv/e8m3UE+x+ccF/uvAPCvpXeoPlC8Ot2WDVgmnzHbcBlwki5w3Ll46ko+KLkax8nG7Z81tmIGCiqIxfkyJXZ3mYKwbsZ9rESGtBvP9CDMkdpuenEGgBkWdUWUAzIywz/5JMxUOOTsc+qJTVq3PM9BfczhygBnkAoLeXFUdneMFw4FNtPh+onyUwvkW6l/eR2S7/pLEJkqXMXKOJkXh4PlOqOg83V6Y64TAAc6R7QvfIEp7sNz+EO3TNM2AAAC2tszPZaMQHRH6myDp+D53Wi1Ouo8Lmy/BkqICuMQbI8QqUXrbLrVqzALv/Yhps/TgBxLpmQEp211sQOaKFwqS71/H7fqtas8oY0ZderjoL3XDUO5l2RbH+kTsLb48u+tKczx7ERo3E2qN8XXD8o2MmHJwpZBa97FxeEs8z9komTenM/d1X3pIIZMctaWFZyvsZvHOkwEHRWEvCroXHJRTdhgXDj64hJPMZeJqz0MNRnvST0EmR9u5wBTJqQgqePcakmimCFd8My1o2WmKsIuL8MPfHB0R2aZMefVDRtxFc7aVAAADAGd9krBnAAADAMDQAnYL8iJwyZ8jrEsoZmXKICd4afZJi4wf5JMXqoP9DEem0oBn3ssS2Dki61826XO9I8gULPSxKXPSw2TQ+j76kBIR2eduXj5xlatt26mjeAwZaj/D2chfrAxgSeVRq/f+3PB/e7GnBgl2WtY8KcSCZEK/uwlzfrZudwam9j1KOWvkdrgkFgD1NcJhCBol3+3TS+bY1QApa4ZHe7ZqbAXDjElSxkB3DNhx3IEBBgI8M+lhOYNYwB69FzG5uNI8tdI5jOoCQXNsp/PT49OlHvwKgq3v3eu40OeC/Ls1omfoHLCtQEkhMoE78JqnnJLWtRaAAB7uQfTiY5VUpzU9YhfGg2OJSEkYwopG431KNBFh3o+nT5W2nxwNqa881BrxtX4S3VOBmZfdKn4ESL9UdMWjvJzbCyr0lEQVNwYQz2sBZywi5wrYPxdP1JMnCjq7w4RflqHUoE1fkQn5Tb5gw7R8LxILbFFdJh/LPWg/4u6osPZj2c4SVDFfubaGAAADAAADA646fQKHr9PcR6YCZiudS1diOj4jY1yVbmh+KpHp3Cscj4+HzAdqhfbUlJM8PLUAXoJdncse8LvCXJID7QXsjyOgJTIRLacCB/rQpwzm/kz/ptmy1sDuAy9Gm8jipqFjD4uxoDLABrlDUPgGs+3FsDatx+b+NoPEwIWBjvbUDkCTOj8xHjXGzERWJBzKS5LGkpaIc+VhrX6QRr+EEkIQPTAVFyl6U8Dw4lm3/+1wUdNMaJaML1Y9eCSGrrQ3yoc5BU81xUNDwdamWTRwJiEDoAAAAwCI58sPc2NZaeG5h5/NEVPRKh7GTu5dQWFC/brZP+9Ks91xwka4nYBuuude3svPuhDJiJ3RxsMuxG2XRyUVsJNRF/pelYL7e4m2jH64bXNMnkIZMCosWW0zCAX49PqvgIKdqKdAPMEf+Q5MUO/oLX+X4+HyoIjCFw3s9fofQaDE0Aeb1UBL7Wag/egwr+p9wc6Q421zt2fEV0xcu0c7wc5CgXRxxwgBSdAezBUuNh7eBqk1QMd4zVFRg0mHfTUZXFExD5Y92BIJwJQqo0ogLExsu3Yu3JqS2MCs2kY7DQiWpTBRD2yOwReyUgAAAwAAIxbHfjjuigNA2jtV053fvsoWEjm9x5CtDDIV31fax6myFAJqj3TigclqTyiohR6Qal0Zf+wmUKZzW/8e7cBFPoTsi1t+7lG5Tg2JxXkBqfpXOWGGyVD3f44V5xNLaSMTakjLht7RF1Ps4jrKQp1sO0YXIEV9KOy+kGCU3KenhUf5Bj2+XmTMilwqvP0GREVXG02qgeOL4A7T4Eich99AAAADAA896JIYsDhCMbaba08dd6fH3cY+1m1beGtbtTztN6iLckQ8zVk3fLSHo27Ai5EfI3ywN//A+/a0Zp/WRKsMsLnoPT7UsHW9JydkWvbsrY4d8fLi9mdURDlg6i2wwZbklb/681S1cB98JNF6iine7sqKZWoHIGN6Nn/NLTUwSfbhht/p7AwlZdTt35pvXwAnUpYDi0PGTTO0bmvNq80NrPgsBQAD083V1zJ4APgloAAAMTb2L7xjakvNsSvFz6ArPLfaOsoHLIWAlPptcXP02+hCnC085RF4BMrWv7URjCG5RdAAAAMAAAMAAAMACDkAAAE7QZohbEM//jhAAACKobwAtQv5j6Mkq6JRlDnbtH3ell0ZKdPBJ3dIWli95Z/KpyqVjxxWtmui3PhJXyOhqPL8gmxLJA4XCwetgBC/lFL9VmfqtEpEAQ3fMQbe1ETYeTmDoNU9/SMaMjy71xkglIYIRe3NWsgr5Sbi/4EGs963kXeDu1QsBFDS7tJTjI7RMtKHdhrbke/fODUutfy6RE2bHLhgPZx7vv7gKBVid3X6NLC81x3ZYe1n6qV7NGkC6UrVk4e7peEh1vYkH34hHD0ysgtz1KRWwmOcZ39zttBYtsnDqP9/WVwewSsczc4mDYGX9XrJIfajpocQQf4ZWFv6CO9ynwYUHn4CJuS961KBNDxItM3nG0KtnBS4rbzvXqRBj2ghxGFSm5WgDNfxtPNDgcMF+giN1kuWoE3AAAAAMkGaQzwhkymEM//+OEAAADNn0axtihbX+RwevW2yX/2shsdTKWzzbiEIcNAS2GssgB8xAAAALAGeYmpCfwAABPyAoFue8/tQGfTLIeGe4+DtdJmEImVt/sS2FFCBM8gWwAGBAAAAHkGaZUnhDyZTBTwz//44QAAAAwAAAwAAAwAAAwCLgAAAAJgBnoRqQn8AAATrcnJnwACAu3O//HLlH/d67kh5ooHOAUEf4IN25nUbuBpyrGqxG9aC7k++7gSoc9YOwc+6IgXp/vXcNuJ1AKqtP81uenQJCjHtnBnhWj/nyyYGBsaLdcYWN5kj1V7YuHasi8sArIEDXFtt6tUmUYbpmc77/EFX3Qyzk7ICf30ViEm+GBNAe6PgAAADAAC7gAAAAB5BmodJ4Q8mUwU8M//+OEAAAAMAAAMAAAMAAAMAi4EAAACYAZ6makJ/AAAE63JyZ8AAgLtzv/xy5R/3eu5IeaKBzgFBH+CDduZ1G7gacqxqsRvWgu5Pvu4EqHPWDsHPuiIF6f713DbidQCqrT/Nbnp0CQox7ZwZ4Vo/58smBgbGi3XGFjeZI9Ve2Lh2rIvLAKyBA1xbberVJlGG6ZnO+/xBV90Ms5OyAn99FYhJvhgTQHuj4AAAAwAAu4AAAAAeQZqpSeEPJlMFPDP//jhAAAADAAADAAADAAADAIuBAAAAmAGeyGpCfwAABOtycmfAAIC7c7/8cuUf93ruSHmigc4BQR/gg3bmdRu4GnKsarEb1oLuT77uBKhz1g7Bz7oiBen+9dw24nUAqq0/zW56dAkKMe2cGeFaP+fLJgYGxot1xhY3mSPVXti4dqyLywCsgQNcW23q1SZRhumZzvv8QVfdDLOTsgJ/fRWISb4YE0B7o+AAAAMAALuAAAAAHkGay0nhDyZTBTwz//44QAAAAwAAAwAAAwAAAwCLgQAAAJgBnupqQn8AAATrcnJnwACAu3O//HLlH/d67kh5ooHOAUEf4IN25nUbuBpyrGqxG9aC7k++7gSoc9YOwc+6IgXp/vXcNuJ1AKqtP81uenQJCjHtnBnhWj/nyyYGBsaLdcYWN5kj1V7YuHasi8sArIEDXFtt6tUmUYbpmc77/EFX3Qyzk7ICf30ViEm+GBNAe6PgAAADAAC7gQAAAB5Bmu1J4Q8mUwU8M//+OEAAAAMAAAMAAAMAAAMAi4EAAACYAZ8MakJ/AAAE63JyZ8AAgLtzv/xy5R/3eu5IeaKBzgFBH+CDduZ1G7gacqxqsRvWgu5Pvu4EqHPWDsHPuiIF6f713DbidQCqrT/Nbnp0CQox7ZwZ4Vo/58smBgbGi3XGFjeZI9Ve2Lh2rIvLAKyBA1xbberVJlGG6ZnO+/xBV90Ms5OyAn99FYhJvhgTQHuj4AAAAwAAu4EAAAAeQZsPSeEPJlMFPDP//jhAAAADAAADAAADAAADAIuAAAAAmAGfLmpCfwAABOtycmfAAIC7c7/8cuUf93ruSHmigc4BQR/gg3bmdRu4GnKsarEb1oLuT77uBKhz1g7Bz7oiBen+9dw24nUAqq0/zW56dAkKMe2cGeFaP+fLJgYGxot1xhY3mSPVXti4dqyLywCsgQNcW23q1SZRhumZzvv8QVfdDLOTsgJ/fRWISb4YE0B7o+AAAAMAALuAAAAAH0GbMUnhDyZTBTwz//44QAAAAwAAAwAjpYlnkAAAF3EAAACYAZ9QakJ/AAAE63JyZ8AAgLtzv/xy5R/3eu5IeaKBzgFBH+CDduZ1G7gacqxqsRvWgu5Pvu4EqHPWDsHPuiIF6f713DbidQCqrT/Nbnp0CQox7ZwZ4Vo/58smBgbGi3XGFjeZI9Ve2Lh2rIvLAKyBA1xbberVJlGG6ZnO+/xBV90Ms5OyAn99FYhJvhgTQHuj4AAAAwAAu4AAAAAeQZtTSeEPJlMFPDP//jhAAAADAAADAAADAAADAIuAAAAAmAGfcmpCfwAABOtycmfAAIC7c7/8cuUf93ruSHmigc4BQR/gg3bmdRu4GnKsarEb1oLuT77uBKhz1g7Bz7oiBen+9dw24nUAqq0/zW56dAkKMe2cGeFaP+fLJgYGxot1xhY3mSPVXti4dqyLywCsgQNcW23q1SZRhumZzvv8QVfdDLOTsgJ/fRWISb4YE0B7o+AAAAMAALuBAAAAHkGbdUnhDyZTBTwz//44QAAAAwAAAwAAAwAAAwCLgQAAAJgBn5RqQn8AAATrcnJnwACAu3O//HLlH/d67kh5ooHOAUEf4IN25nUbuBpyrGqxG9aC7k++7gSoc9YOwc+6IgXp/vXcNuJ1AKqtP81uenQJCjHtnBnhWj/nyyYGBsaLdcYWN5kj1V7YuHasi8sArIEDXFtt6tUmUYbpmc77/EFX3Qyzk7ICf30ViEm+GBNAe6PgAAADAAC7gQAAADNBm5dJ4Q8mUwU8M//+OEAAAAMAE1HuaAUUDRZkNYUG5DeJzmzB8jnhloE8zMAAAAMAAm4AAACZAZ+2akJ/AAAE63JyZ8AAgLtzv/xy5R/3eu5IeaKBzgFBH+CDduZ1G7gacqxqsRvWgu5Pvu4EqHPWDsHPuiIF6f713DbidQCqrT/Nbnp0CQox7ZwZ4Vo/58smBgbGi3XGFjeZI9Ve2Lh2rIvLAKyBA1xbberVJlGG6ZnO+/xBV90Ms5OyAn99FYhJvhgTQHwFpKqAAAADAAJGAAAAHkGbuUnhDyZTBTwz//44QAAAAwAAAwAAAwAAAwCLgQAAAJgBn9hqQn8AAATrcnJnwACAu3O//HLlH/d67kh5ooHOAUEf4IN25nUbuBpyrGqxG9aC7k++7gSoc9YOwc+6IgXp/vXcNuJ1AKqtP81uenQJCjHtnBnhWj/nyyYGBsaLdcYWN5kj1V7YuHasi8sArIEDXFtt6tUmUYbpmc77/EFX3Qyzk7ICf30ViEm+GBNAe6PgAAADAAC7gAAAAB5Bm9tJ4Q8mUwU8M//+OEAAAAMAAAMAAAMAAAMAi4AAAACYAZ/6akJ/AAAE63JyZ8AAgLtzv/xy5R/3eu5IeaKBzgFBH+CDduZ1G7gacqxqsRvWgu5Pvu4EqHPWDsHPuiIF6f713DbidQCqrT/Nbnp0CQox7ZwZ4Vo/58smBgbGi3XGFjeZI9Ve2Lh2rIvLAKyBA1xbberVJlGG6ZnO+/xBV90Ms5OyAn99FYhJvhgTQHuj4AAAAwAAu4EAAAAfQZv9SeEPJlMFPDP//jhAAAADAAADACPFyx5AAAAccAAAAJgBnhxqQn8AAATrcnJnwACAu3O//HLlH/d67kh5ooHOAUEf4IN25nUbuBpyrGqxG9aC7k++7gSoc9YOwc+6IgXp/vXcNuJ1AKqtP81uenQJCjHtnBnhWj/nyyYGBsaLdcYWN5kj1V7YuHasi8sArIEDXFtt6tUmUYbpmc77/EFX3Qyzk7ICf30ViEm+GBNAe6PgAAADAAC7gQAAACZBmh9J4Q8mUwU8M//+OEAAAAMAE1Hu/IhyUCJdB4fIAAADAAAVsQAAAJgBnj5qQn8AAATrcnJnwACAu3O//HLlH/d67kh5ooHOAUEf4IN25nUbuBpyrGqxG9aC7k++7gSoc9YOwc+6IgXp/vXcNuJ1AKqtP81uenQJCjHtnBnhWj/nyyYGBsaLdcYWN5kj1V7YuHasi8sArIEDXFtt6tUmUYbpmc77/EFX3Qyzk7ICf30ViEm+GBNAe6PgAAADAAC7gAAAACRBmiFJ4Q8mUwU8M//+OEAAAAMAAAMAI6L42E2KjXFvkAAAF3EAAACYAZ5AakJ/AAAE63JyZ8AAgLtzv/xy5R/3eu5IeaKBzgFBH+CDduZ1G7gacqxqsRvWgu5Pvu4EqHPWDsHPuiIF6f713DbidQCqrT/Nbnp0CQox7ZwZ4Vo/58smBgbGi3XGFjeZI9Ve2Lh2rIvLAKyBA1xbberVJlGG6ZnO+/xBV90Ms5OyAn99FYhJvhgTQHuj4AAAAwAAu4AAAAAjQZpDSeEPJlMFPDP//jhAAAADAAADACOiIwhGcoVgboAAAQMAAACYAZ5iakJ/AAAE63JyZ8AAgLtzv/xy5R/3eu5IeaKBzgFBH+CDduZ1G7gacqxqsRvWgu5Pvu4EqHPWDsHPuiIF6f713DbidQCqrT/Nbnp0CQox7ZwZ4Vo/58smBgbGi3XGFjeZI9Ve2Lh2rIvLAKyBA1xbberVJlGG6ZnO+/xBV90Ms5OyAn99FYhJvhgTQHuj4AAAAwAAu4EAAAAoQZplSeEPJlMFPDP//jhAAAADAAADAAADAAJaJ2Cvqit2Sh+WUyokYAAAAJgBnoRqQn8AAATrcnJnwACAu3O//HLlH/d67kh5ooHOAUEf4IN25nUbuBpyrGqxG9aC7k++7gSoc9YOwc+6IgXp/vXcNuJ1AKqtP81uenQJCjHtnBnhWj/nyyYGBsaLdcYWN5kj1V7YuHasi8sArIEDXFtt6tUmUYbpmc77/EFX3Qyzk7ICf30ViEm+GBNAe6PgAAADAAC7gAAAAB9BmodJ4Q8mUwU8M//+OEAAAAMAEFJIy6AAAAMAAI2BAAAAmAGepmpCfwAABOtycmfAAIC7c7/8cuUf93ruSHmigc4BQR/gg3bmdRu4GnKsarEb1oLuT77uBKhz1g7Bz7oiBen+9dw24nUAqq0/zW56dAkKMe2cGeFaP+fLJgYGxot1xhY3mSPVXti4dqyLywCsgQNcW23q1SZRhumZzvv8QVfdDLOTsgJ/fRWISb4YE0B7o+AAAAMAALuAAAAAKEGaqUnhDyZTBTwz//44QAAAAwAABc8RVEDJjUATT7ngWvPugAAABmUAAACYAZ7IakJ/AAAE63JyZ8AAgLtzv/xy5R/3eu5IeaKBzgFBH+CDduZ1G7gacqxqsRvWgu5Pvu4EqHPWDsHPuiIF6f713DbidQCqrT/Nbnp0CQox7ZwZ4Vo/58smBgbGi3XGFjeZI9Ve2Lh2rIvLAKyBA1xbberVJlGG6ZnO+/xBV90Ms5OyAn99FYhJvhgTQHuj4AAAAwAAu4AAAAAeQZrLSeEPJlMFPDP//jhAAAADAAADAAADAAADAIuBAAAAmAGe6mpCfwAABOtycmfAAIC7c7/8cuUf93ruSHmigc4BQR/gg3bmdRu4GnKsarEb1oLuT77uBKhz1g7Bz7oiBen+9dw24nUAqq0/zW56dAkKMe2cGeFaP+fLJgYGxot1xhY3mSPVXti4dqyLywCsgQNcW23q1SZRhumZzvv8QVfdDLOTsgJ/fRWISb4YE0B7o+AAAAMAALuBAAAAMUGa7UnhDyZTBTwz//44QAAA0rMOVvEPDFsibuvO4mXTtAAqO+RkiraB6AtQAAADARcAAACYAZ8MakJ/AAAE63JyZ8AAgLtzv/xy5R/3eu5IeaKBzgFBH+CDduZ1G7gacqxqsRvWgu5Pvu4EqHPWDsHPuiIF6f713DbidQCqrT/Nbnp0CQox7ZwZ4Vo/58smBgbGi3XGFjeZI9Ve2Lh2rIvLAKyBA1xbberVJlGG6ZnO+/xBV90Ms5OyAn99FYhJvhgTQHuj4AAAAwAAu4EAAAAiQZsPSeEPJlMFPDP//jhAAACbdujSpIF5AAADAAADAABWwAAAAJgBny5qQn8AAATrcnJnwACAu3O//HLlH/d67kh5ooHOAUEf4IN25nUbuBpyrGqxG9aC7k++7gSoc9YOwc+6IgXp/vXcNuJ1AKqtP81uenQJCjHtnBnhWj/nyyYGBsaLdcYWN5kj1V7YuHasi8sArIEDXFtt6tUmUYbpmc77/EFX3Qyzk7ICf30ViEm+GBNAe6PgAAADAAC7gAAAADNBmzFJ4Q8mUwU8M//+OEAAAAMAhotFohCgPtyr7hfG3U0Tb1qwOSuJ4zSyVgAAAwAAM+EAAACaAZ9QakJ/AAAE63JyZ8AAgLtzv/xy5R/3eu5IeaKBzgFBH+CDduZ1G7gacqxqsRvWgu5Pvu4EqHPWDsHPuiIF6f713DbidQCqrT/Nbnp0CQox7ZwZ4Vo/58smBgbGi3XGFjeZI9Ve2Lh2rIvLAKyBA1xbberVJlGG6ZnO+/xBV90Ms5PAEoFMFMEW+7F5tndQHumwAAADAABKwAAAAC1Bm1NJ4Q8mUwU8M//+OEAAAAMAAAsN08qmsu3Q0PMvwL0Gxh3wpWuB2wAAN+AAAACaAZ9yakJ/AAAE63JyZ8AAgLtzv/xy5R/3eu5IeaKBzgFBH+CDduZ1G7gacqxqsRvWgu5Pvu4EqHPWDsHPuiIF6f713DbidQCqrT/Nbnp0CQox7ZwZ4Vo/58smBgbGi3XGFjeZI9Ve2Lh2rIvLAKyBA1xbberVJlGG6ZnO+/xBV90Ms5PAFSazBTBFvuxebZ3UB7psAAADAAASsQAAB2NBm3VJ4Q8mUwU8L//98QAAAwIdxBy9DrYwGbzI6sLHqqH5b5pcjjU9rXfduQ2mv/zJSzTO8pwvFaJiI5UbzulwMhnd1PGLRLtSABGlhCJtHB3TMKoww4gNFW0CCwqcWeaN6mYyUM9O2jr95N7Q7V6R9TZTi+pZN7CuRgCmZMIY1nNMTGun4ACZBQ4mkLz0SHMCi74qaMjEON92cSA3da8bwdSq0LRa3veFiPPqXLVD5DNycp4WoexKg16zYN6od0zVKLVxT3tQbj0Wx7h6JxfqXYnpMmhir0wmlePgHekDt8xjA8BLRV6MlzE6Z5K9XzHmjzqG1Dd9DqFGSWN6v3XLSVYr5nmiXKTAxGn/IUWIBZfYX0H/dXA85oRJMosKi8OjqwvEOxCli8KUwcw4TEOTWk9fgIdG/TPlKdv2JL/WDwjm/21LthsXUtmMgER77ZCDJxZKbMKqE118+ITrnkyGKIH0a3TL9ZrWl4AFlPmEOo9f6vXw80dErX+SnD6D+7fQtzj/WM6XYXBVwvatEMedobmmbCSN4Uun39VwLhQ02vyBApmdxZNnFxsWLtuCpTtsg1WxXk5Xdzp8Fvemt/WYRmEUKsn5vmpfmTQeypN5xjUT4XdQd6jzEMLHVwKM8R8HCmOzdBhZTEj5cHXk7627E7RyFEdencj4V3LrmzGPUQKOPLoE+/694jzrgu1IwOlMnBxZwRemrts1duUyHyCKpIQpymW6OvncAGRrKoqHNKczdEMZXtjTQDpafMBQdg398C/O/dNsxttEeTqY41p7EJ9nSY2eAH3a/nGogzux1MJcxSlhGpHKJLAKcpGvLK8DHbwZZyyzSsfHDdebpjKKwtBA9nzX6XGY0JhZWLiecQMuqj0Z1Tp5Jx7MNSFqvQFW9lcTMuef/lSlEeyBY6MyzSDW+R0wjY1gq4XBcAlx44dGIz3Aoi6SxtNxq/Ew6NJ2P09cANkqlBe55qYUSBDTCn3RYXrNoJjpYxh1yjgEKrTTcLpZAmlhEKHbldJ1YZGRoe7d8Tm2wTRbi12i8jhBeQas/Bdxdc6DQM7fZlHq7JmgVoA4g1AlC5m3u+BXdQWl7dWq3GuAaZW7rYlMnQfWrcfLybEcP1yFxGWse6ghkJ5+HsBBxN+JB7TI/8qI7HL7AEV5dd6qesiv73+BVTr1h34AAA5LidOO8SNXH9/ouDhloq+O3njtwgpwumqgEJFcXOxiM+oFl3SuYlSlrIE/tjO2lqBQ+LUWEUXZQ0O5YCpPCXhjc7ohf6H/2PlsNRKKpVsdhR+bP5VvbtJQA7uCVNjzxY/nvFbYrpS7t5fTYYK+Yn6KtkzternOT7IcWkZ53w8C2V+P/bn590Gw6vLzMjV3JAO0sFV0q/EY2///5WHeEaZ/NDTEUIcsG/mwTw6e4MyQzPpiwcfwImv/LU+lNcj3HIZsZ10sbVFK/Efm3mXnlN2W4MRWzU2uU38mCzlDZPWivpiV2Gz0UY1TD5/NubK7+K7BJx5U931dniza+HM/Kt6o7jy2ftd+RlHFEOSz6cv9MhcWpnoFA8kMOALq3KGDmvlu1Hj/pwjlIuOKPvOCbm4XhqGoM+T/cGcM1TLiszYUQUSaHYI4Rzpir/UPLc51DPrcpDAsZ3BBIfjwi1U6bWQGri1uFQVLJtcjpb/bWhQF0bpYv5oW5cjdjL3NFnd+jx7pKxnpWsxW5fUdZLzEkDM+yecTBfPFwJUPACaowG4EAiIFydoltEQDOncXLhUb1FQJMa6en8B6f6VgZMFRW62d28N0WfdO7xn+0IAqW5oVAXU2feoU5IAbxrTQAoVjEjEO7tFd0SEJ4AaZ5PTq7s2fVThMw6FMmTKgZSqIC97aP69uHvMuZoiLNiqkbS22qxFxeVb9Im2P8wW7qMsN/Y+hMiogfYhikwCVF/p7xDYb362BZH4+L6PgXpOrY2TG4VVvrixZbPNoIhk3AIbiJXthT38Mzt0VjEYeOdPph3Wv9QdddGabE+8zw5MiRK4ihZcI9b/p/hJuOkvs/Wr4S5BwxyigXSCCjE2kWjgyIaX4sHf6knoDnHKQ4i2biOZyXF469KgaDWuShDwQ9gtKSIurAqpzwbuU22tzz+DIaB22tcjgFPJ9MUKZ9x5ONpTqfMWFAIPIO27ELWvIQHDXKRjbsC5fQnKe/E7iNz040MfinBDwLNkFD0pVgD2rRP4iNkQ8Qnu2ndcDsdk++nXGo1E8dfNdDsHwYKgNC1OPvpCn2N7CPuEkcml1DRhNh9Y/XqpDAe/r6403+IqaOmJTzz4B8c6ALzyUYMk/7NesLGOofF9gDKTJNKGH6J9duomizOCRlkozEKvgXklgv8o0HAND4hWsucFJ602g0ZFhEeZH/0WIUDrCocJT/PZnmVrxdVUzLNoaSFtZeyOzJyOM2h6uU7wZmfBxtWgEPSaNUUEwA3NBSba96vKvbzGOvhN2QPIT79931pf3yyYrZufhn7CQ+4sZkeD9EoA3oeMs0dk0OGyh93UDgXK8lh7pAAtpAAAAsgGflGpCfwAAHQfpTSi5nWD4tHjAABEcuoRbGbdxyR91r5LlTztzbG/4fDBWbu772gAQ9vlrYYw6cgu3gOvRBNap+O5x8afiOfYrAtW9YzZCeiby7MckMbAALJr7jkx5rO9NANzSdoxKYDw6iVTA3yWsY/8WUuiH37+uGad3Uv56fS2h0IxZnxmNHG0fMLXsECvzPiwhL4w+T5RxGLfNbhm1K9zFAmJrTwkTsey9ZehAW0EAAADEQZuWSeEPJlMCF//98QAAAwBfTjhk6vqAChv7Dv/HLj/fd/BX8Cs2EmSI+LELg9o8zwLiSeBRVjw0K63cCEg95GOnCD+iQ4+cF1ciMafXEb957eDRKwR21RJTtNcMbjYpGCViX8IsdwmjrjKX8ehQlv5MQBh7RPLeWkdkvw2pCt26bOnHx/ZOWIcfRepNgR+MnDaIZ6aHPulN6yDIYI5PT7CA4y+CXLp4k+5jIO/VyDj6WuP9tlXFXGhtBTQhPhRllAABXwAAAI1Bm7dJ4Q8mUwIX//3xAAAK1u2eW9AAUeoTmFuZtYFeN7h1OQSAXO9+mT8CsPLfFnu7zeXNp2dOYdaz42atLyVKgp0/UbhuVZc+1SBVhauSEVi2aaUb/7kiAVODe4UtjqUb8Um1NovOlxcbU8xW6PGtrCRHiTLgO0a9+/AcpEjg6d9aAp8PEA6CALgALKAAAACOQZvYSeEPJlMCF//98QAAC67qnhx7zCAAaEXm8HFkRPL1org/YgiH0cI1GzPXQorl8YI/mxOaukvy79j8Bx9qYs1eADmhO5UIAzsMs6wiHjPWdGCerM0FWr69b2fBkG0tBNkT71U3zROn//bs0SdwIAs5Mu6xchzkUxJ6O3/ByAO7QA8TDTMe+z/bEABnwQAAADVBm/lJ4Q8mUwIX//3xAAAL7KGezgLGZqlZYTwmIoAvLDQsnY7mg7lmHSaOwAAAAwAAAwBvQAAAADxBmhpJ4Q8mUwIX//3xAAALnzl1ABTLiNn/dzfx76mbLFbaY8wJ+beuptVX/JEEjgrRCRgAAAMAAAMABjwAAAAuQZo7SeEPJlMCF//98QAAC58hntH5bcdAfpgGj4lZXggADBhIwAAAAwAAAwAx4QAAADFBmlxJ4Q8mUwIX//3xAAALnyGezd37QcrzP1P+bqLzn/C1rFcmfBUsAAADAAADAAHpAAAALUGafUnhDyZTAhf//fEAAAufIZ7RoqAyZPgAacaPeaUoAR8yWAAAAwAAAwAD0wAAAC9Bmp5J4Q8mUwIX//3xAAALnyGezTiJ1qYoqxFXyUjCMIlcmixksAAAAwAAAwAHpQAAACxBmr9J4Q8mUwIX//3xAAALnyGezTiJ1q9QDR8nLWFgAGVCRgAAAwAAAwABjwAAAC9BmsBJ4Q8mUwIX//3xAAALnyGezTiJ1qYoqxFXyUjCMIlcmixksAAAAwAAAwAHpQAAACxBmuFJ4Q8mUwIX//3xAAALnyGezTiJ1q9QDR8nLWFgAGVCRgAAAwAAAwABjwAAAC9BmwJJ4Q8mUwIX//3xAAALnyGezTiJ1qYoqxFXyUjCMIlcmixksAAAAwAAAwAHpQAAACxBmyNJ4Q8mUwIX//3xAAALnyGezTiJ1q9QDR8nLWFgAGVCRgAAAwAAAwABjwAAAC9Bm0RJ4Q8mUwIX//3xAAALnyGezTiJ1qYoqxFXyUjCMIlcmixksAAAAwAAAwAHpAAAACxBm2VJ4Q8mUwIX//3xAAALnyGezTiJ1q9QDR8nLWFgAGVCRgAAAwAAAwABjwAAAC9Bm4ZJ4Q8mUwIX//3xAAALnyGezTiJ1qYoqxFXyUjCMIlcmixksAAAAwAAAwAHpQAAACxBm6dJ4Q8mUwIX//3xAAALnyGezTiJ1q9QDR8nLWFgAGVCRgAAAwAAAwABjwAAAC9Bm8hJ4Q8mUwIX//3xAAALnyGezTiJ1qYoqxFXyUjCMIlcmixksAAAAwAAAwAHpQAAACxBm+lJ4Q8mUwIX//3xAAALnyGezTiJ1q9QDR8nLWFgAGVCRgAAAwAAAwABjwAAAC9BmgpJ4Q8mUwIX//3xAAALnyGezTiJ1qYoqxFXyUjCMIlcmixksAAAAwAAAwAHpQAAACxBmitJ4Q8mUwIX//3xAAALnyGezTiJ1q9QDR8nLWFgAGVCRgAAAwAAAwABjwAAAC9BmkxJ4Q8mUwIX//3xAAALnyGezTiJ1qYoqxFXyUjCMIlcmixksAAAAwAAAwAHpQAAACxBmm1J4Q8mUwIX//3xAAALnyGezTiJ1q9QDR8nLWFgAGVCRgAAAwAAAwABjwAAAC9Bmo5J4Q8mUwIX//3xAAALnyGezTiJ1qYoqxFXyUjCMIlcmixksAAAAwAAAwAHpAAAACxBmq9J4Q8mUwIX//3xAAALnyGezTiJ1q9QDR8nLWFgAGVCRgAAAwAAAwABjwAAAC9BmtBJ4Q8mUwIX//3xAAALnyGezTiJ1qYoqxFXyUjCMIlcmixksAAAAwAAAwAHpQAAACxBmvFJ4Q8mUwIX//3xAAALnyGezTiJ1q9QDR8nLWFgAGVCRgAAAwAAAwABjwAAAC9BmxJJ4Q8mUwIX//3xAAALnyGezTiJ1qYoqxFXyUjCMIlcmixksAAAAwAAAwAHpAAAACxBmzNJ4Q8mUwIX//3xAAALnyGezTiJ1q9QDR8nLWFgAGVCRgAAAwAAAwABjwAAAC9Bm1RJ4Q8mUwIX//3xAAALnyGezTiJ1qYoqxFXyUjCMIlcmixksAAAAwAAAwAHpQAAACxBm3VJ4Q8mUwIX//3xAAALnyGezTiJ1q9QDR8nLWFgAGVCRgAAAwAAAwABjwAAAC9Bm5ZJ4Q8mUwIX//3xAAALnyGezTiJ1qYoqxFXyUjCMIlcmixksAAAAwAAAwAHpAAAACxBm7dJ4Q8mUwIX//3xAAALnyGezTiJ1q9QDR8nLWFgAGVCRgAAAwAAAwABjwAAAC9Bm9hJ4Q8mUwIX//3xAAALnyGezTiJ1qYoqxFXyUjCMIlcmixksAAAAwAAAwAHpQAAACxBm/lJ4Q8mUwIX//3xAAALnyGezTiJ1q9QDR8nLWFgAGVCRgAAAwAAAwABjwAAAC9BmhpJ4Q8mUwIX//3xAAALnyGezTiJ1qYoqxFXyUjCMIlcmixksAAAAwAAAwAHpAAAACxBmjtJ4Q8mUwIX//3xAAALnyGezTiJ1q9QDR8nLWFgAGVCRgAAAwAAAwABjwAAAC9BmlxJ4Q8mUwIX//3xAAALnyGezTiJ1qYoqxFXyUjCMIlcmixksAAAAwAAAwAHpAAAACxBmn1J4Q8mUwIX//3xAAALnyGezTiJ1q9QDR8nLWFgAGVCRgAAAwAAAwABjwAAAC9Bmp5J4Q8mUwIX//3xAAALnyGezTiJ1qYoqxFXyUjCMIlcmixksAAAAwAAAwAHpQAAACxBmr9J4Q8mUwIX//3xAAALnyGezTiJ1q9QDR8nLWFgAGVCRgAAAwAAAwABjwAAAC9BmsBJ4Q8mUwIX//3xAAALnyGezTiJ1qYoqxFXyUjCMIlcmixksAAAAwAAAwAHpQAAACxBmuFJ4Q8mUwIX//3xAAALnyGezTiJ1q9QDR8nLWFgAGVCRgAAAwAAAwABjwAAAC9BmwJJ4Q8mUwIX//3xAAALnyGezTiJ1qYoqxFXyUjCMIlcmixksAAAAwAAAwAHpQAAACxBmyNJ4Q8mUwIX//3xAAALnyGezTiJ1q9QDR8nLWFgAGVCRgAAAwAAAwABjwAAAC9Bm0RJ4Q8mUwIX//3xAAALnyGezTiJ1qYoqxFXyUjCMIlcmixksAAAAwAAAwAHpAAAACxBm2VJ4Q8mUwIX//3xAAALnyGezTiJ1q9QDR8nLWFgAGVCRgAAAwAAAwABjwAAAC9Bm4ZJ4Q8mUwIX//3xAAALnyGezTiJ1qYoqxFXyUjCMIlcmixksAAAAwAAAwAHpQAAACxBm6dJ4Q8mUwIX//3xAAALnyGezTiJ1q9QDR8nLWFgAGVCRgAAAwAAAwABjwAAAC9Bm8hJ4Q8mUwIX//3xAAALnyGezTiJ1qYoqxFXyUjCMIlcmixksAAAAwAAAwAHpQAAACxBm+lJ4Q8mUwIX//3xAAALnyGezTiJ1q9QDR8nLWFgAGVCRgAAAwAAAwABjwAAAC9BmgpJ4Q8mUwIX//3xAAALnyGezTiJ1qYoqxFXyUjCMIlcmixksAAAAwAAAwAHpQAAACxBmitJ4Q8mUwIX//3xAAALnyGezTiJ1q9QDR8nLWFgAGVCRgAAAwAAAwABjwAAAC9BmkxJ4Q8mUwIX//3xAAALnyGezTiJ1qYoqxFXyUjCMIlcmixksAAAAwAAAwAHpQAAACxBmm1J4Q8mUwIX//3xAAALnyGezTiJ1q9QDR8nLWFgAGVCRgAAAwAAAwABjwAAAC9Bmo5J4Q8mUwIX//3xAAALnyGezTiJ1qYoqxFXyUjCMIlcmixksAAAAwAAAwAHpAAAACxBmq9J4Q8mUwIX//3xAAALnyGezTiJ1q9QDR8nLWFgAGVCRgAAAwAAAwABjwAAAC9BmtBJ4Q8mUwIX//3xAAALnyGezTiJ1qYoqxFXyUjCMIlcmixksAAAAwAAAwAHpQAAACxBmvFJ4Q8mUwIX//3xAAALnyGezTiJ1q9QDR8nLWFgAGVCRgAAAwAAAwABjwAAAC9BmxJJ4Q8mUwIX//3xAAALnyGezTiJ1qYoqxFXyUjCMIlcmixksAAAAwAAAwAHpAAAACxBmzNJ4Q8mUwIX//3xAAALnyGezTiJ1q9QDR8nLWFgAGVCRgAAAwAAAwABjwAAAC9Bm1RJ4Q8mUwIX//3xAAALnyGezTiJ1qYoqxFXyUjCMIlcmixksAAAAwAAAwAHpQAAACxBm3VJ4Q8mUwIX//3xAAALnyGezTiJ1q9QDR8nLWFgAGVCRgAAAwAAAwABjwAAAC9Bm5ZJ4Q8mUwIX//3xAAALnyGezTiJ1qYoqxFXyUjCMIlcmixksAAAAwAAAwAHpAAAACxBm7dJ4Q8mUwIX//3xAAALnyGezTiJ1q9QDR8nLWFgAGVCRgAAAwAAAwABjwAAAC9Bm9hJ4Q8mUwIX//3xAAALnyGezTiJ1qYoqxFXyUjCMIlcmixksAAAAwAAAwAHpQAAACxBm/lJ4Q8mUwIX//3xAAALnyGezTiJ1q9QDR8nLWFgAGVCRgAAAwAAAwABjwAAAC9BmhpJ4Q8mUwIX//3xAAALnyGezTiJ1qYoqxFXyUjCMIlcmixksAAAAwAAAwAHpAAAACxBmjtJ4Q8mUwIX//3xAAALnyGezTiJ1q9QDR8nLWFgAGVCRgAAAwAAAwABjwAAAC9BmlxJ4Q8mUwIX//3xAAALnyGezTiJ1qYoqxFXyUjCMIlcmixksAAAEjPAYAATcAAAACxBmn1J4Q8mUwIX//3xAAALnyGezTiJ1q9QDR8nLWFgAGVCRgAAAwAAAwABjwAAAC9Bmp5J4Q8mUwIX//3xAAALnyGezTiJ1qYoqxFXyUjCMIlcmixksAAAAwAAAwAHpQAAACxBmr9J4Q8mUwIX//3xAAALnyGezTiJ1q9QDR8nLWFgAGVCRgAAAwAAAwABjwAAAC9BmsBJ4Q8mUwIX//3xAAALnyGezTiJ1qYoqxFXyUjCMIlcmixksAAAAwAAAwAHpQAAACxBmuFJ4Q8mUwIX//3xAAALnyGezTiJ1q9QDR8nLWFgAGVCRgAAAwAAAwABjwAAAC9BmwJJ4Q8mUwIX//3xAAALnyGezTiJ1qYoqxFXyUjCMIlcmixksAAAAwAAAwAHpQAAACxBmyNJ4Q8mUwIX//3xAAALnyGezTiJ1q9QDR8nLWFgAGVCRgAAAwAAAwABjwAAADxBm0RJ4Q8mUwIX//3xAAALnyGezTiJ1qYoqxFXyUjCMIlcmixkw6DUnyD4zCR14wAesKT/WuR2pwAAB0wAAAAsQZtlSeEPJlMCF//98QAAC58hns04idavUA0fJy1hYABlQkYAAAMAAAMAAY8AAAAvQZuGSeEPJlMCF//98QAAC58hns04idamKKsRV8lIwjCJXJosZLAAAAMAAAMAB6UAAAAsQZunSeEPJlMCF//98QAAC58hns04idavUA0fJy1hYABlQkYAAAMAAAMAAY8AAAAvQZvISeEPJlMCF//98QAAC58hns04idamKKsRV8lIwjCJXJosZLAAAAMAAAMAB6UAAAA6QZvpSeEPJlMCF//98QAAC58hns04idavUA0fJy2hkeIBEpHAViwAAH/MnAAABT2+50cLtt3iPAAA/wAAAC9BmgpJ4Q8mUwIX//3xAAALnyGezTiJ1qYoqxFXyUjCMIlcmixksAAAAwAAAwAHpQAAACxBmitJ4Q8mUwIX//3xAAALnyGezTiJ1q9QDR8nLWFgAGVCRgAAAwAAAwABjwAAAC9BmkxJ4Q8mUwIX//3xAAALnyGezTiJ1qYoqxFXyUjCMIlcmixksAAAEh3BWAAH5QAAACxBmm1J4Q8mUwIX//3xAAALnyGezTiJ1q9QDR8nLWFgAGVCRgAAAwAAAwABjwAAAC9Bmo5J4Q8mUwIX//3xAAALnyGezTiJ1qYoqxFXyUjCMIlcmixksAAAAwAAAwAHpAAAADNBmq9J4Q8mUwIX//3xAAALnyGezTiJ1q9QDR8nLWFgAGVCRgAAUMvlxzCLvq6ncAAARMAAAAAvQZrQSeEPJlMCF//98QAAC58hns04idamKKsRV8lIwjCJXJosZLAAAAMAAAMAB6UAAAAsQZrxSeEPJlMCF//98QAAC58hns04idavUA0fJy1hYABlQkYAAAMAAAMAAY8AAAAvQZsSSeEPJlMCF//98QAAC58hns04idamKKsRV8lIwjCJXJosZLAAAAMAAAMAB6QAAAAsQZszSeEPJlMCF//98QAAC58hns04idavUA0fJy1hYABlQkYAAAMAAAMAAY8AAAAvQZtUSeEPJlMCF//98QAAC58hns04idamKKsRV8lIwjCJXJosZLAAAAMAAAMAB6UAAABCQZt1SeEPJlMCF//98QAAC58hns04idavUA0fJy1hYABlz4HrNta8vgUAx9jdiBE4NPVpHQxtiLwAAb8wJl4AACHhAAAAMUGblknhDyZTAhf//fEAAAufIZ7NOInWpiirEVfJSMIwiVyaLGT8gOZQAAADAAADAakAAAA/QZu3SeEPJlMCF//98QAAC58hns04idavUA0fJy1hYABlQkY0LVvwPn34KcOKuMAAAhyQVbs8G5fyUig4uB0wAAAAR0Gb2EnhDyZTAhf//fEAAAufIZ7NOInWpiirEVfJSMIwgwEKyaLGS389aFr/BDB7Bz+gBlvQG12JK85PdOmJGNgIjCWSACyhAAAAPEGb+UnhDyZTAhf//fEAAAufIZ7NOInWr1ANHyctYWAyqr4COuw40g7oPfBkuG62t0yWAAADAAADAAD0gAAABoNBmhpJ4Q8mUwIX//3xAAAS7Wf8JrypABdR1NhJQ0qbJ138DFFsaGVBjdtMgGN1CWzfRm2Md2P6Fbz9vgA9kZQnaNPrrtH7cRrZC0CZgmhof1Gi6fc+Jkm12AvmYfbfp/Scg+j/3UDtoFfGKchOxOFLiF9FGW6CpKl/cprY/82mBHjkWR0lTVC8L7oVctZI7aRfysSIP+ZgQ4/ERw1JybKqNocpbmp+GURKVnN+p8AucrXnw5KcDBLtpEWB6rJxajMFlHutzWPjJmG/5n6TLw44uU0RlG0iyS+/TFaHC0dRX4DHmbyCzvlKpd1a255Ah8la2gec4Bfxzd8bp0PprB6UFLCY3m7yI32Ty1K12csWU4x2NW+2ghm/h/RCuXITbfDwjrI5Cgze/qWeH3mvrw6yJmZDZOP68M10kD67j1b5gEMxl7Iim3pOtkOPu4mtnbyt/xzBI0tEuT29b9fSXmIOKEJVWwrcUMTK5PW1YQp6mqE95Ow77gpOb8SIKMSfOG1G9fQry/TaLhk/AsRpwDxq9SCVAMkw6Lh8TLdrcLMCVlUYGx//gAJgLF4MK24VRwmoscjh1/hlxYOGkOyzFif3nKsCn8xLL9KNF5K2w72UjuHxtg82s+BVp9mGwrTntmJHbTPChIZYSMLXR4oJwMDB3ZFAiwH1ymI+LBrOXN0ZugYE9H3zy+s4z4T9yKTSB5iS5rlQKYNRzRmygqPVab8dIFxWSIG2l8Y1I5nj38Dmh5Zt/EvjhT/mavqYLJMrQgYm/oUXO2RLJdyVn4/Pae2aNHXkyJiSuYW8mXFnJg3GDJUj04t7JSf6gRQR17OUxepGjCWVujrJLaKA5IaE0zN8avRbau7ryS8sEMPrg9LzFXBQBslJVielmxGCUauIo8l8DZ70dQ5NhSVt/Aycw1Ezbnl1i5WJrYYSA9aPX9wcK4lzmJR75nwnjfSdXCQxkmk2+h83m+6FQeRhQVtY0qymwqpPQSWSRBBp4198H2eHgHgIxg18XJWqxDJQ+nB1IiI8XIz4Ys1eMGFnDjh4wfBzA7FZUCbWpR2Nb2UCupA3p30C8YeKuOK2eyKrWIw/8T7cSAUQLdPiXXggLBI3I9yJSTV7t5f5BZySCFfs0+P9dV6gKQKaHjP1IFj3q0wPIKUlpT3gEgcXSNXQ6XAGqMmizF6vY/GYlVcS1zHK8lNCo0P7FjOvefCg0zzlJZfsbGmeOBMgYR9Pp9hHIeoDGaDQvGmB4qK3fHnuP0ARfGRrm4IQLprxzjEZCEYlNnnhoMQvCefzfgJL1I7cosDqfhN5FN4Bgatf/Bp6nk1UjhO7uNTLKYWYzNZOX8xvr2MNVEbanF1shBJ4jfWMGTWf9VIsS+YREaEgQEJxkkWEcQxqjlg976s9SkMy9eQEGRfivvx8+57/2EBsDu5T2LXN06CmP5RiqG6pRaSvtCAstDsmT/yJ73zFcnPnQ0XZOOdm7ZiXJKvmVHaCx490PvyQaEUuyuZMyh5MP6HigRevGUL8MwtHlY1DSpZ4zlIxptvgLdn2/Tg8j4DyaBpDd6kNHAGhZqDOn9khTHnfRN4LlhPDVZjJr1YDL8J92F4X0rAEKz6NXQNj7t13jM3zNO/tuIESYzdMDU0kmGGWTfhnyxTbIbXpUeU9WdTDzWTeXRkzHZBDDMts/RH3b1lsB25VuA7dCIt9NvrCPZW2ljdbsl4RDnv3fz2fKcoRBNlNOY+C8yLO6+Wg24q4vePPxM3vQA8GwIZgLQgDrBZPGa1QXYzD3twy7X+zIqq49rv8yILs7CJrWZhB2oU5dXhm5iU/hXcbh2NrXnX0Mux+qlvRtqDevYNTp756gdVAaoh71ELSrcZ0Lpr4/9HhGF2X+9iaM/FPDVOUcjCdLNIvepqYKdbWEGuIAd4IcrRRIgZJnlcvHm1HbXiBZNrVoYRGuydTVYC0B9ONXS1jdyfm2wS4QdpZxCdXCs5JA14U266eLtfXTc6YkvJxCUprVgYl4Jpc3PYyER1LvS/huDf0isjifS/DKiQll81VDmWfTfyikshFw6mmHM6hfrjZGLE5qz48PKVdURSPQdXvXXTOty6UnFpbIy2CnIHhoPVSCds24dcl59WkIQ3qT8tRCmffaNV1W/LsIneIgaI09Wse4aeSn55M25qkmsgXPA3WofCNWscRv/51YZHkbV2Hdaq48idECBw6mP0XO+Yiq3RED/AYgpBYzXJDAwAAAQZBmjtJ4Q8mUwIX//3xAAAS01GRIP2GsIk6RcwAZUSF14HQuNflBoqckuReGiU8rI/pQCc4JPO10e8f1XRf4dFWY+2FtLzYEgx8K7YK0GTSJ3zCC+x2/8wITpgFnLpFPN8bSd9yU8e6oGB0rsrSvllsFC9k7oE8BWdBwJIZvHKaOb/s0owW61lAAxl7N2Xvvd5D57JeCTH2fT3GSOto4EFKeNzCm0ZAQP66xTlcYXEpMEddc2XPF+mrn5wbdcy0VDnq63yh/0EdZmO9WO9lIqxy0WyezCUCf0PcNFxUo/ReZXpIeic0vNMqu/ygrIU4ZaR0u5Ek/EwKmsv036x2Vuyj9wvJcAEzAAAAjEGaXEnhDyZTAhf//fEAABDTUZn9qIV/DpoLgAqAkH4V+7wBEA2DMZQcdMF/pOo5uuPwPV/gdJfuVgCsMJi/d0Ec+lDmUoGAuUJ2jT6xPSQbmjYmo/nmKutzqaQJ2k+wY+X7obkz5JpYbl9BZiOzz1/2tvYLpFY7n1ZvPAc7AcHTLK607daAAAADAEXAAAAAh0GafUnhDyZTAhf//fEAABFvnAs4AMBxUFiqM8+gAqAj1jOIQGw0AzHbaKvoXcFwIrjMkx+Ll0HWwG9IcBfGfESIlhHvO9t4a/YqOyvAs6fqiBSZrtE9t3Bq2detr+0fldmG99+5AFK+4iUsixzCjcv8RRSot7TJtxrBYpX4AADw9qCdJIABUwAAAKBBmp5J4Q8mUwIX//3xAAAP77rd7Vzmj/vW59PDEILqADQi2GfmbhU+AHmk17ikB5IH3qcv5QquZcwEmRdOk+09pT8Qa1+Oo7E+lhur1eFJnC7Ks0Uw7c7LUr3BwzQpIsfd0XX1BjTkLR50gIdKBO6aZBW1CzxL6U6wR61JZ2hCAKj4uihMLSwA+2eIin+7P3OPQNA2JrDxMwuAAAADAAm5AAAAlEGav0nhDyZTAhf//fEAAA3futJExEQA/Tw4+CLqADQi8vwr90lyi03GpkxA5nd4Fh1PmS9dzZ4o56KHR2fwv1QViuuzotDxAUTlLlE7jewNISdt2x8ScYhihL4lh9zwy4z8QsDH1XXW0ynBeYvFHE8HIhmUFfqy5ESejKXmypvyN5XqMr6EdKXpCJkD7cAAAAMAAqoAAACIQZrASeEPJlMCF//98QAADNlfmHWl2ZmM/WkZdD03AQeLzeDiyInl60VwfsQRD6OEajZnrmMcYsRx/Ni0ldCPwRn5btBeGmDqTBpjDnJc3QZCekJXWQu24vnQ1ZPONiNb2fDyGDd1SdJclPIKzlgH/93Zp884EAb64Zy5JLR2QskykAAAAwAB/wAAADpBmuFJ4Q8mUwIX//3xAAAMjMw8AAaJL6kkAfMAUugc42ID3bXNMr+baGx4ejmQk10EGNAgAAADAAFJAAAAQkGbAknhDyZTAhf//fEAAAyMoaPckZqfggCAbc9qOks/jiHMlcBI8iklFBRifcTpcH3zrpQbmWYyWAAAAwAAAwADjwAAADVBmyNJ4Q8mUwIX//3xAAAMjKGezjNDIogVswSTTYM+xFYGKDFoPaRBpbdYAAADAAADAABEwQAAAC9Bm0RJ4Q8mUwIX//3xAAAMjKGj3JGaju4g0rFQJPmWnpYAAkJksAAAAwAAAwAHHAAAADNBm2VJ4Q8mUwIX//3xAAAMjKGhFPLvUNLqYdQxV/JsKETmeIDxZbyfwkYAAAMAAAMAAXEAAAAsQZuGSeEPJlMCF//98QAADIyhns04idavUA0fJy1hYABlQkYAAAMAAAMAAXEAAAAvQZunSeEPJlMCF//98QAADIyhns04idamKKsRWBif9t0/+A5AyWAAAAMAAAMADjgAAAAsQZvISeEPJlMCF//98QAADIyhns04idavUA0fJy1hYABlQkYAAAMAAAMAAXEAAAAvQZvpSeEPJlMCF//98QAADIyhns04idamKKsRWBif9t0/+A5AyWAAAAMAAAMADjgAAAAsQZoKSeEPJlMCF//98QAADIyhns04idavUA0fJy1hYABlQkYAAAMAAAMAAXEAAAAvQZorSeEPJlMCF//98QAADIyhns04idamKKsRWBif9t0/+A5AyWAAAAMAAAMADjkAAAAsQZpMSeEPJlMCF//98QAADIyhns04idavUA0fJy1hYABlQkYAAAMAAAMAAXEAAAAvQZptSeEPJlMCF//98QAADIyhns04idamKKsRWBif9t0/+A5AyWAAAAMAAAMADjkAAAAsQZqOSeEPJlMCF//98QAADIyhns04idavUA0fJy1hYABlQkYAAAMAAAMAAXEAAAAvQZqvSeEPJlMCF//98QAADIyhns04idamKKsRWBif9t0/+A5AyWAAAAMAAAMADjgAAAAsQZrQSeEPJlMCF//98QAADIyhns04idavUA0fJy1hYABlQkYAAAMAAAMAAXEAAAAvQZrxSeEPJlMCF//98QAADIyhns04idamKKsRWBif9t0/+A5AyWAAAAMAAAMADjgAAAAsQZsSSeEPJlMCF//98QAADIyhns04idavUA0fJy1hYABlQkYAAAMAAAMAAXEAAAAvQZszSeEPJlMCF//98QAADIyhns04idamKKsRWBif9t0/+A5AyWAAAAMAAAMADjkAAAAsQZtUSeEPJlMCF//98QAADIyhns04idavUA0fJy1hYABlQkYAAAMAAAMAAXEAAAAvQZt1SeEPJlMCF//98QAADIyhns04idamKKsRWBif9t0/+A5AyWAAAAMAAAMADjkAAAAsQZuWSeEPJlMCF//98QAADIyhns04idavUA0fJy1hYABlQkYAAAMAAAMAAXEAAAAvQZu3SeEPJlMCF//98QAADIyhns04idamKKsRWBif9t0/+A5AyWAAAAMAAAMADjgAAAAsQZvYSeEPJlMCF//98QAADIyhns04idavUA0fJy1hYABlQkYAAAMAAAMAAXEAAAAvQZv5SeEPJlMCF//98QAADIyhns04idamKKsRWBif9t0/+A5AyWAAAAMAAAMADjgAAAAsQZoaSeEPJlMCF//98QAADIyhns04idavUA0fJy1hYABlQkYAAAMAAAMAAXEAAAAvQZo7SeEPJlMCF//98QAADIyhns04idamKKsRWBif9t0/+A5AyWAAAAMAAAMADjkAAAAsQZpcSeEPJlMCF//98QAADIyhns04idavUA0fJy1hYABlQkYAAAMAAAMAAXEAAAAvQZp9SeEPJlMCF//98QAADIyhns04idamKKsRWBif9t0/+A5AyWAAAAMAAAMADjkAAAAsQZqeSeEPJlMCF//98QAADIyhns04idavUA0fJy1hYABlQkYAAAMAAAMAAXEAAAAvQZq/SeEPJlMCF//98QAADIyhns04idamKKsRWBif9t0/+A5AyWAAAAMAAAMADjgAAAAsQZrASeEPJlMCF//98QAADIyhns04idavUA0fJy1hYABlQkYAAAMAAAMAAXEAAAAvQZrhSeEPJlMCF//98QAADIyhns04idamKKsRWBif9t0/+A5AyWAAAAMAAAMADjgAAAAsQZsCSeEPJlMCF//98QAADIyhns04idavUA0fJy1hYABlQkYAAAMAAAMAAXEAAAAvQZsjSeEPJlMCF//98QAADIyhns04idamKKsRWBif9t0/+A5AyWAAAAMAAAMADjkAAAAsQZtESeEPJlMCF//98QAADIyhns04idavUA0fJy1hYABlQkYAAAMAAAMAAXEAAAAvQZtlSeEPJlMCF//98QAADIyhns04idamKKsRWBif9t0/+A5AyWAAAAMAAAMADjgAAAAsQZuGSeEPJlMCF//98QAADIyhns04idavUA0fJy1hYABlQkYAAAMAAAMAAXEAAAAvQZunSeEPJlMCF//98QAADIyhns04idamKKsRWBif9t0/+A5AyWAAAAMAAAMADjgAAAAsQZvISeEPJlMCF//98QAADIyhns04idavUA0fJy1hYABlQkYAAAMAAAMAAXEAAAAvQZvpSeEPJlMCF//98QAADIyhns04idamKKsRWBif9t0/+A5AyWAAAAMAAAMADjgAAAAsQZoKSeEPJlMCF//98QAADIyhns04idavUA0fJy1hYABlQkYAAAMAAAMAAXEAAAAvQZorSeEPJlMCF//98QAADIyhns04idamKKsRWBif9t0/+A5AyWAAAAMAAAMADjkAAAAsQZpMSeEPJlMCF//98QAADIyhns04idavUA0fJy1hYABlQkYAAAMAAAMAAXEAAAAvQZptSeEPJlMCF//98QAADIyhns04idamKKsRWBif9t0/+A5AyWAAAAMAAAMADjkAAAAsQZqOSeEPJlMCF//98QAADIyhns04idavUA0fJy1hYABlQkYAAAMAAAMAAXEAAAAvQZqvSeEPJlMCF//98QAADIyhns04idamKKsRWBif9t0/+A5AyWAAAAMAAAMADjgAAAAsQZrQSeEPJlMCF//98QAADIyhns04idavUA0fJy1hYABlQkYAAAMAAAMAAXEAAAAvQZrxSeEPJlMCF//98QAADIyhns04idamKKsRWBif9t0/+A5AyWAAAAMAAAMADjgAAAAsQZsSSeEPJlMCF//98QAADIyhns04idavUA0fJy1hYABlQkYAAAMAAAMAAXEAAAAvQZszSeEPJlMCF//98QAADIyhns04idamKKsRWBif9t0/+A5AyWAAAAMAAAMADjkAAAAsQZtUSeEPJlMCF//98QAADIyhns04idavUA0fJy1hYABlQkYAAAMAAAMAAXEAAAAvQZt1SeEPJlMCF//98QAADIyhns04idamKKsRWBif9t0/+A5AyWAAAAMAAAMADjkAAAAsQZuWSeEPJlMCF//98QAADIyhns04idavUA0fJy1hYABlQkYAAAMAAAMAAXEAAAAvQZu3SeEPJlMCF//98QAADIyhns04idamKKsRWBif9t0/+A5AyWAAAAMAAAMADjgAAAAsQZvYSeEPJlMCF//98QAADIyhns04idavUA0fJy1hYABlQkYAAAMAAAMAAXEAAAAvQZv5SeEPJlMCF//98QAADIyhns04idamKKsRWBif9t0/+A5AyWAAAAMAAAMADjgAAAAsQZoaSeEPJlMCF//98QAADIyhns04idavUA0fJy1hYABlQkYAAAMAAAMAAXEAAAAvQZo7SeEPJlMCF//98QAADIyhns04idamKKsRWBif9t0/+A5AyWAAAAMAAAMADjkAAAAsQZpcSeEPJlMCF//98QAADIyhns04idavUA0fJy1hYABlQkYAAAMAAAMAAXEAAAAvQZp9SeEPJlMCF//98QAADIyhns04idamKKsRWBif9t0/+A5AyWAAAAMAAAMADjkAAAAsQZqeSeEPJlMCF//98QAADIyhns04idavUA0fJy1hYABlQkYAAAMAAAMAAXEAAAAvQZq/SeEPJlMCF//98QAADIyhns04idamKKsRWBif9t0/+A5AyWAAAAMAAAMADjgAAAAsQZrASeEPJlMCF//98QAADIyhns04idavUA0fJy1hYABlQkYAAAMAAAMAAXEAAAAvQZrhSeEPJlMCF//98QAADIyhns04idamKKsRWBif9t0/+A5AyWAAAAMAAAMADjgAAAAsQZsCSeEPJlMCF//98QAADIyhns04idavUA0fJy1hYABlQkYAAAMAAAMAAXEAAAAvQZsjSeEPJlMCF//98QAADIyhns04idamKKsRWBif9t0/+A5AyWAAAAMAAAMADjkAAAAsQZtESeEPJlMCF//98QAADIyhns04idavUA0fJy1hYABlQkYAAAMAAAMAAXEAAAAvQZtlSeEPJlMCF//98QAADIyhns04idamKKsRWBif9t0/+A5AyWAAAAMAAAMADjgAAAAsQZuGSeEPJlMCF//98QAADIyhns04idavUA0fJy1hYABlQkYAAAMAAAMAAXEAAAAvQZunSeEPJlMCF//98QAADIyhns04idamKKsRWBif9t0/+A5AyWAAAAMAAAMADjgAAAAsQZvISeEPJlMCF//98QAADIyhns04idavUA0fJy1hYABlQkYAAAMAAAMAAXEAAAAvQZvpSeEPJlMCF//98QAADIyhns04idamKKsRWBif9t0/+A5AyWAAAAMAAAMADjgAAAAsQZoKSeEPJlMCF//98QAADIyhns04idavUA0fJy1hYABlQkYAAAMAAAMAAXEAAAAvQZorSeEPJlMCF//98QAADIyhns04idamKKsRWBif9t0/+A5AyWAAAAMAAAMADjkAAAAsQZpMSeEPJlMCF//98QAADIyhns04idavUA0fJy1hYABlQkYAAAMAAAMAAXEAAAAvQZptSeEPJlMCF//98QAADIyhns04idamKKsRWBif9t0/+A5AyWAAAAMAAAMADjkAAAAsQZqOSeEPJlMCF//98QAADIyhns04idavUA0fJy1hYABlQkYAAAMAAAMAAXEAAAAvQZqvSeEPJlMCF//98QAADIyhns04idamKKsRWBif9t0/+A5AyWAAAAMAAAMADjgAAAAsQZrQSeEPJlMCF//98QAADIyhns04idavUA0fJy1hYABlQkYAAAMAAAMAAXEAAAAvQZrxSeEPJlMCF//98QAADIyhns04idamKKsRWBif9t0/+A5AyWAAAAMAAAMADjgAAAAsQZsSSeEPJlMCF//98QAADIyhns04idavUA0fJy1hYABlQkYAAAMAAAMAAXEAAAAvQZszSeEPJlMCF//98QAADIyhns04idamKKsRWBif9t0/+A5AyWAAAAMAAAMADjkAAAAsQZtUSeEPJlMCF//98QAADIyhns04idavUA0fJy1hYABlQkYAAAMAAAMAAXEAAAAvQZt1SeEPJlMCF//98QAADIyhns04idamKKsRWBif9t0/+A5AyWAAAAMAAAMADjkAAAAsQZuWSeEPJlMCF//98QAADIyhns04idavUA0fJy1hYABlQkYAAAMAAAMAAXEAAAAvQZu3SeEPJlMCF//98QAADIyhns04idamKKsRWBif9t0/+A5AyWAAAAMAAAMADjgAAAAsQZvYSeEPJlMCF//98QAADIyhns04idavUA0fJy1hYABlQkYAAAMAAAMAAXEAAAAvQZv5SeEPJlMCF//98QAADIyhns04idamKKsRWBif9t0/+A5AyWAAAAMAAAMADjgAAAtLZYiEADv//vbsvgU1/Z/QlxEsxdpKcD4qpICAdzTAAAADAAADAAADAEubijBmTbCubkAAAAQIi/pwfd/EAUrPrRALSGigAyERX0uy0oLeng5POPhH7pRxE+BY+Fg0xkQ1+fhodmwe1goQDeBNasbphtXZh+8rH5OIWgUoDCtZfQZQxodUEcXwb9KtYMlfkDsuBP/NGq8kfuzNDqyTFdahKsMBvE+Kxky1Vzbbx3KogcvpOjC0H1TV1Z7R7OBpYJCktUPXL240s51DDFWejtw2DSqI+gwMAWYErnuXC4Ir2UWGkCpgaAKze9IsI1wvXAG8FnINOr9YmL+DjjDm0dP/Ku80B40y8AAAAwADas0ZM6JLzIdDJ0lPplF5R09PooKwIJpvizISrWWo3Pz63jYyOsVpqkxbpdcjEm+P8KtoGFJpIZZ6YKMFKY5fxRLLmXQdo669b8gKjEvEX4KJmBMIf0RsT1/YCC08w9avPhsCrHP97ZZXm7hWZ5q/2fHvQY9ERbxLsiQ+l9RM3QKbKeO7FnVcx95dD75nUD99e5Gk5aQvJQGmAzly1+kQ6UsfV3Hu057H0ZaPYb6qKwlGFVK4acRxgAAAUeaO2lHyXZP10Aa6/qs2pyR1WyNd5+n12A/ADflzmW+2o6W2TqEQGVpx5dm4OCSa2N7iYt36AAAFeK1rVLBVMcXuIzFUAMj+9fFdFUfOs52nsDKTVsjYg6ybG1sGTySjDMFmKQdOvv2mu1ii0cABHYX+uLl23iFbdvYJr/x1zDHESF+VvsvXoYHJXkTaqpbnp6J9P2JpAsAtt3rSNT2Xu6QcwMiU9XXI9KTJDJ3ewjbNnHz0TIhcwUOHd9lxyPcHqJi6OnD7ytAH2jEf6wO92+VOq22WKHBB6fJSFYFH6U6h7qgAhni0bN0rhSnFbPca8T/ENJW9tDMLhPfBcDYDHps7AJtqm3fafpPZoptXHiHStO84P56y3OYzJfNrrAXW1Q1N17kYG3+b8NnyZb0q14iPzK12yi+lCBVp2jpt6vED3DIl4Agi7OQ8bxcdF5Cnipwic819vRqEg3jSG6icQkUULknX804BO7Svx+Q0d0tCbnrX1TABhostScVUGwbsYHPOwHLbqTnmmOzqM/sL7SwN1wEknbinA/DCYPqSV67Nbzppx77RdqEMZ6dwX0KRm0dqV0/BA7Wb50OaylCtddSVIuUhEyIcdYWod6sIhi2AivLjA/WeKZIJGqchn3QHyvAuJL39YWVJN7ek55Y5t3bNmK5LqKcec1waw/LVUgWExBcZTodARPnGqieo65/P+2WLcTSCSRoTB48SUPDaLJ+LiCR10NXTHw2yGpZihz/syUW9UP8nR5d3z+a+LDSgqbB6qrxFN1qlyH+QjA5dTWKv8/EzhhZFjC2i/k5XLh6ZIGz97JDXfiI0kuTujwF8//4SIVycfirvmALiThQIEpkKJ8Nvh8hkQ12E6OL8Iu8Y3WMgx1pJhFimzfRsRKFbofIkH9xv4XTXesjLBkocxZTtdeBKSgXgNvNpAADZRHTRH3YuTGWTCRm1zNKiPkdkU4eqbGjMQUy5tkONXH288riYcvtVOnLjbpV96hXEQmpPHVrKYG235UK8Jj2z4OgDZGQeZlEOkxV5WihMtvoldostNRVI2ZgwMmucq7ev6TdQub90MT5/9EtMpptYizqn91ezZg0rbmX1vUDLrKfrTf7Fg6hc+9UtAAAcd0oSRagI9PXecVgtj6KwQ2e/LtsSxQZEs5+fJbeHMQX0DttCMRfhD4PpAxkZhktz+bvO7xXX2zh5G/vWkUcPgmjEiQlaRLJPs88NXhas/ciTs6bY8OCTrVktEFO5PXcJgZQ1P45LPSi0aXrxAn9NpRr81EARgqDQ+qF0bNSmS8KRqov7Syy2VFzMSXCwrxn39jesz1l+qq7HmczFigoAjf851mFeWtbjOfMxfzxtBqMX7tMuC+/aEUO9mtbVqMJiExeAAAADA3HNbLPnrsTSXCJd4tQ7Y3qE53bVdBKlGgbQpYw/s3AAJNWbKMJdhZKA0mwWQJFCHYwZ3oLsvGM3V6BvBt7upbpUKriZxQy9wFDuLNW3Z/oTKzDQhcR2XhqyLFX8mVRt68eHJ6cT6yTUjqTGSCZbrLGtgReD/Ws6oOMs0d+xWlDEltWpzRaPpZH9/1KMVv+aZ1m/+5f0gjvDLJgthYLiaRj4O1r6PqHy4X7AAAAPPxYAAAxRu5u91kqY9DSEM0W+g2qFiXSPuk+IUUkRw85AZkzdHlkvSmoX8y8ONV78FUAOlMwTOc4r3Bz3WUhI2hr6AXsA158Hg6xmFz3dI2Ff8I0lzkU3mPO3/0Kz1co7lLim0M+uaH4X3XTkVO2hHJesRvjjnw3plbXr82nepTS9uQHTnEmCYxQP82IshwbeRahZlb/MANLtwcAAAAMAVLyZLjOPb3m2fk+2FH5UrEaivtVFVaJXBH4pUnpZ9jYoHuvj+7CuupuMqL7nl/BrIHkBsqngP9BunTAIMyg1AI8QeSQH6VkvLKuJ4EJfJHO7pjaIVXfITNFb9R0glOLkdl/Lgo3wzCU5X8sCgddSoNcxDnOqsEJgtX9MInrA3eGzAnonzO5+GrZMYZrQL3oVOqJD1Xzo3IRit9YjcsdIabpH0bB45OMppFfssFCAlSr/yx6tXJDQQNqAPnt/F0D+GG4iq8E8Ab/v4gumBKVJnux95wAOM9E56Y46eA1Y5Q57Io3+B5DkZx7+aEQNTo8fyxKwm0kBldaOQb3lrLrxzLqsYo0Ub0vLV4yhibFeEFwpwGR+tVB6S3KiDNL6gGz9wCly8W1UCYtxr8RIUgbVEcHQ2BsTrLm/jLwYT3VHtgAAAwAGk9kOyHKXfE+qszpI6e4Y1gN93SWa4exj+8167zv/coA1RFgu/OxJ3jzZpUXFLB7DoI80becoLq2BgWYBSG7sYMN9HOOnUfl6yh7n3t44mZccLailfzEPAZ7iB+0/cguMKL9p05V9vE/yw3bdb4YWzZv2I7gOHI5igzUNhB/44bNR3llwUn/pc5SKgwyXL5wUZPZo1tn73cSscrp6Yin8UuH9CPz6I8IUss3tm2qX+tZSW7ArrcIeMS0m+ednMsUA6X4rUW1zxoZtKKQZg7GGOn5I0FeE4LAAAAMAAAMApHLNTqtJ/8kWh63X/gLP6hSKr5e/vFCjPqwr9xQc6bzzuZEgkqvLJWq/rg2u42JkI7A/MblC6j3dUZapOKLBjkP7QwguwOakOE/UYmiDSH2PQeSixW/wgmEPNEKJ8IfMGLlNOSEAho7SV2I2qZTWz5f/1jCKIv+SNr+9Z+K8XYFyiOzfbKu+XJQp19scvY/49XgAA3pf+mGu5OlCUOYAAAMAAAMChRtRPyBgmfL/8Xfx8HJCbPzdy7CPcC7rU3zHYpOwxRLvqCB8lTKp6YJ01DHghsbT7cWBxKTTZXB6DEhJDSbu9AcreYphe1mqt/81/ADP1Dk4+4JweKqY7heRb/HaXPPy5VWPOZpejG55SdAVI3AuaMRvy5+2ImJh+sAAAAMAAAzXiF2HEsSlko9eqREfDHU/vJKLKX85B4gKDPMAyXMk69rarJzOfjR1LwEuvJSEkfNDc8kjyAnFBpZcrCX3qcuAB53QS/JduaMHKEuu4HPy7Vt3Fi+OwuChfEjIF/L1p8H7sEIdXCBkzeU5gvuJL5GCs0KeEZ7LkmBHHg+L3al+DTB2YRCrl+zRLElH79uUDyvsCVAFAJ4xbjVj5w5JOB3Lsx1GZkyNwAAAAwHRxV5euH/+BfECwZNZsJj8X7IAACqn7f8KhD3Oy5PwgAvQM12jg3ATzAAAAwAAAwAAAwAAf4AAAADhQZohbEL//fEAAAyepp4cfALkADQi8vwr90lyi03GpkxA5nd4Fh1PmS/OZK8Uc9FDS2nwvYPUoHxbiMwaj7E5e3OdxvYGbYzmXAo7loc77y0ZLvA6SOXwEIZHbPfYFfd7FPfz2GBQihU8OLqIhgsyXijieDkQzKCv1jglooXU7jEkCIVi72TQegBVpaxZ7mh0gwgNuxpSALiN57fXqlnkYJmO6i+PDbRKdC7s/LtglXNqLw3qcpHZLsALjFYHx6JxJ9hYACFxGiPKL02lsiJUg4A9YBNFCgwNDOSYc9GgCAMrAAAAU0GaQjwhkymEL//98QAADNyhns3PpwU41v+25ui8fKl863wAAXq49vrJqEALV2QM8AxMcOkqmPtBVZmw5uQzdo5dNPfFjhq2wbQOFluwBeQAAB0wAAAAQ0GaY0nhDyZTAhX//eEAABPdpdEAF8SjJHf5etD01LmMMdf9h43YfgyFzYNivT7vIcJy1DxwQz+JR2AAAAMAAAMAM+EAAAAsQZqESeEPJlMCE//8hAAATUjIBcmdseMxGZG358mYAByGJ0AAAAMAAAMAqoEAABFVbW9vdgAAAGxtdmhkAAAAAAAAAAAAAAAAAAAD6AAAQcIAAQAAAQAAAAAAAAAAAAAAAAEAAAAAAAAAAAAAAAAAAAABAAAAAAAAAAAAAAAAAABAAAAAAAAAAAAAAAAAAAAAAAAAAAAAAAAAAAAAAAAAAgAAEH90cmFrAAAAXHRraGQAAAADAAAAAAAAAAAAAAABAAAAAAAAQcIAAAAAAAAAAAAAAAAAAAAAAAEAAAAAAAAAAAAAAAAAAAABAAAAAAAAAAAAAAAAAABAAAAAAsAAAALAAAAAAAAkZWR0cwAAABxlbHN0AAAAAAAAAAEAAEHCAAAEAAABAAAAAA/3bWRpYQAAACBtZGhkAAAAAAAAAAAAAAAAAAA8AAAD8gBVxAAAAAAALWhkbHIAAAAAAAAAAHZpZGUAAAAAAAAAAAAAAABWaWRlb0hhbmRsZXIAAAAPom1pbmYAAAAUdm1oZAAAAAEAAAAAAAAAAAAAACRkaW5mAAAAHGRyZWYAAAAAAAAAAQAAAAx1cmwgAAAAAQAAD2JzdGJsAAAArnN0c2QAAAAAAAAAAQAAAJ5hdmMxAAAAAAAAAAEAAAAAAAAAAAAAAAAAAAAAAsACwABIAAAASAAAAAAAAAABAAAAAAAAAAAAAAAAAAAAAAAAAAAAAAAAAAAAAAAAAAAAGP//AAAANGF2Y0MBZAAf/+EAGGdkAB+s2UCwFmhAAAADAEAAAA8DxgxlgAEABWjr5yyL/fj4AAAAABRidHJ0AAAAAAAAZlEAAGZRAAAAGHN0dHMAAAAAAAAAAQAAAfkAAAIAAAAAHHN0c3MAAAAAAAAAAwAAAAEAAAD7AAAB9QAABlBjdHRzAAAAAAAAAMgAAABnAAAEAAAAAAEAAAYAAAAAAQAAAgAAAAABAAAGAAAAAAEAAAIAAAAAAQAABgAAAAABAAACAAAAAAEAAAYAAAAAAQAAAgAAAAABAAAGAAAAAAEAAAIAAAAAAQAABgAAAAABAAACAAAAAAEAAAYAAAAAAQAAAgAAAAABAAAGAAAAAAEAAAIAAAAAAQAABgAAAAABAAACAAAAAAEAAAYAAAAAAQAAAgAAAAABAAAGAAAAAAEAAAIAAAAAAQAABgAAAAABAAACAAAAAAEAAAYAAAAAAQAAAgAAAAABAAAGAAAAAAEAAAIAAAAAAQAABgAAAAABAAACAAAAAAEAAAYAAAAAAQAAAgAAAAABAAAGAAAAAAEAAAIAAAAAAQAABgAAAAABAAACAAAAAAEAAAYAAAAAAQAAAgAAAAABAAAGAAAAAAEAAAIAAAAAAQAABgAAAAABAAACAAAAAAEAAAYAAAAAAQAAAgAAAAABAAAGAAAAAAEAAAIAAAAAAQAABgAAAAABAAACAAAAAAEAAAYAAAAAAQAAAgAAAAABAAAGAAAAAAEAAAIAAAAAAQAABgAAAAABAAACAAAAAAEAAAYAAAAAAQAAAgAAAAABAAAGAAAAAAEAAAIAAAAAAQAABgAAAAABAAACAAAAAAEAAAYAAAAAAQAAAgAAAAABAAAGAAAAAAEAAAIAAAAAAQAABgAAAAABAAACAAAAAAEAAAYAAAAAAQAAAgAAAAABAAAGAAAAAAEAAAIAAAAAAQAABgAAAAABAAACAAAAAAEAAAYAAAAAAQAAAgAAAAABAAAGAAAAAAEAAAIAAAAAAQAABgAAAAABAAACAAAAAAEAAAYAAAAAAQAAAgAAAAABAAAGAAAAAAEAAAIAAAAAAQAABgAAAAABAAACAAAAAAEAAAYAAAAAAQAAAgAAAAABAAAGAAAAAAEAAAIAAAAAAQAABgAAAAABAAACAAAAAAEAAAYAAAAAAQAAAgAAAAABAAAGAAAAAAEAAAIAAAAAAQAABgAAAAABAAACAAAAAAEAAAYAAAAAAQAAAgAAAAADAAAEAAAAAAEAAAYAAAAAAQAAAgAAAAABAAAGAAAAAAEAAAIAAAAAAQAABgAAAAABAAACAAAAAAEAAAYAAAAAAQAAAgAAAAABAAAGAAAAAAEAAAIAAAAAAQAABgAAAAABAAACAAAAAAEAAAYAAAAAAQAAAgAAAAABAAAGAAAAAAEAAAIAAAAAAQAABgAAAAABAAACAAAAAAEAAAYAAAAAAQAAAgAAAAABAAAGAAAAAAEAAAIAAAAAAQAABgAAAAABAAACAAAAAAEAAAYAAAAAAQAAAgAAAAABAAAGAAAAAAEAAAIAAAAAAQAABgAAAAABAAACAAAAAAEAAAYAAAAAAQAAAgAAAAABAAAGAAAAAAEAAAIAAAAAAQAABgAAAAABAAACAAAAAAEAAAYAAAAAAQAAAgAAAAABAAAGAAAAAAEAAAIAAAAAAQAABgAAAAABAAACAAAAAAEAAAYAAAAAAQAAAgAAAAABAAAGAAAAAAEAAAIAAAAAAgAABAAAAAABAAAGAAAAAAEAAAIAAAAAAQAABgAAAAABAAACAAAAAAEAAAYAAAAAAQAAAgAAAAABAAAGAAAAAAEAAAIAAAAAAQAABgAAAAABAAACAAAAAAEAAAYAAAAAAQAAAgAAAAABAAAGAAAAAAEAAAIAAAAAAQAABgAAAAABAAACAAAAAAEAAAYAAAAAAQAAAgAAAAABAAAGAAAAAAEAAAIAAAAAAQAABgAAAAABAAACAAAAAAEAAAYAAAAAAQAAAgAAAAABAAAGAAAAAAEAAAIAAAAAAQAABgAAAAABAAACAAAAAAEAAAYAAAAAAQAAAgAAAAABAAAGAAAAAAEAAAIAAAAAAQAABgAAAAABAAACAAAAAAEAAAYAAAAAAQAAAgAAAAABAAAGAAAAAAEAAAIAAAAAAQAABgAAAAABAAACAAAAAAEAAAYAAAAAAQAAAgAAAAABAAAGAAAAAAEAAAIAAAAAAQAABgAAAAABAAACAAAAAAEAAAYAAAAAAQAAAgAAAAABAAAGAAAAAAEAAAIAAAAAAQAABgAAAAABAAACAAAAAMkAAAQAAAAAHHN0c2MAAAAAAAAAAQAAAAEAAAH5AAAAAQAAB/hzdHN6AAAAAAAAAAAAAAH5AAAONgAAANwAAACfAAAAgQAAAHoAAAB7AAAAawAAADcAAAAvAAAALwAAAC4AAAAvAAAALgAAAC8AAAAuAAAALwAAAC4AAAAvAAAALgAAAC8AAAAuAAAALwAAAC4AAAAvAAAALgAAAC8AAAAuAAAALwAAAC4AAAAvAAAALgAAAC8AAAAuAAAALwAAAC4AAAAvAAAALgAAAC8AAAAuAAAALwAAAC4AAAAvAAAALgAAAC8AAAAuAAAALwAAAC4AAAAvAAAALgAAAC8AAAAuAAAALwAAAC4AAAAvAAAALgAAAC8AAAAuAAAALwAAAC4AAAAvAAAALgAAAC8AAAAuAAAALwAAAC4AAAA1AAAALwAAAC8AAAAvAAAALwAAAC8AAAAvAAAALwAAAC8AAAAvAAAALwAAAC8AAAAvAAAAOAAAADAAAAA6AAAAMAAAADEAAAAwAAAAPAAAAC8AAAAvAAAALwAAAC8AAABDAAAAMQAAADQAAAA5AAAALwAAADwAAAAxAAAAMgAAADoAAAA8AAAALwAAAEQAAAbBAAABXQAAAEwAAAA4AAAANwAAALoAAAA9AAAAtgAAADoAAAC3AAAAJQAAALQAAAAiAAAAsgAAACIAAACyAAAAIgAAALIAAAAiAAAAsgAAACIAAACyAAAAIgAAALIAAAAiAAAAsgAAACIAAACyAAAAIgAAALIAAAAiAAAAsgAAACIAAACyAAAAIgAAALIAAAAiAAAAsgAAACIAAACyAAAAIgAAALIAAAAiAAAAsgAAACIAAACyAAAAIgAAALIAAAAiAAAAsgAAACIAAACyAAAAIgAAALIAAAAiAAAAsgAAACIAAACyAAAAIgAAALIAAAAiAAAAsgAAACIAAACyAAAAIgAAALIAAAAiAAAAsgAAACIAAACyAAAAIgAAALIAAAAiAAAAsgAAAC4AAACyAAAAIgAAALIAAAAiAAAAsgAAACIAAACyAAAALgAAALIAAAAiAAAAsgAAACIAAACyAAAAIgAAALIAAAAiAAAAsgAAAC0AAACzAAAAKgAAALMAAAAsAAAAswAAACkAAACyAAAA3wAAByUAAAFtAAAATgAAADYAAAAuAAAAogAAACwAAACgAAAALAAAAJ4AAAAsAAAAngAAACwAAACeAAAALAAAAJ4AAAAsAAAAngAAACwAAACeAAAALAAAAJ4AAAAsAAAAngAAACwAAACeAAAALAAAAJ4AAAAsAAAAngAAACwAAACeAAAALAAAAJ4AAAAsAAAAngAAACwAAACeAAAALAAAAJ4AAAAsAAAAngAAACwAAACeAAAALAAAAJ4AAAAsAAAAngAADXwAAAE/AAAANgAAADAAAAAiAAAAnAAAACIAAACcAAAAIgAAAJwAAAAiAAAAnAAAACIAAACcAAAAIgAAAJwAAAAjAAAAnAAAACIAAACcAAAAIgAAAJwAAAA3AAAAnQAAACIAAACcAAAAIgAAAJwAAAAjAAAAnAAAACoAAACcAAAAKAAAAJwAAAAnAAAAnAAAACwAAACcAAAAIwAAAJwAAAAsAAAAnAAAACIAAACcAAAANQAAAJwAAAAmAAAAnAAAADcAAACeAAAAMQAAAJ4AAAdnAAAAtgAAAMgAAACRAAAAkgAAADkAAABAAAAAMgAAADUAAAAxAAAAMwAAADAAAAAzAAAAMAAAADMAAAAwAAAAMwAAADAAAAAzAAAAMAAAADMAAAAwAAAAMwAAADAAAAAzAAAAMAAAADMAAAAwAAAAMwAAADAAAAAzAAAAMAAAADMAAAAwAAAAMwAAADAAAAAzAAAAMAAAADMAAAAwAAAAMwAAADAAAAAzAAAAMAAAADMAAAAwAAAAMwAAADAAAAAzAAAAMAAAADMAAAAwAAAAMwAAADAAAAAzAAAAMAAAADMAAAAwAAAAMwAAADAAAAAzAAAAMAAAADMAAAAwAAAAMwAAADAAAAAzAAAAMAAAADMAAAAwAAAAMwAAADAAAAAzAAAAMAAAADMAAAAwAAAAMwAAADAAAAAzAAAAMAAAAEAAAAAwAAAAMwAAADAAAAAzAAAAPgAAADMAAAAwAAAAMwAAADAAAAAzAAAANwAAADMAAAAwAAAAMwAAADAAAAAzAAAARgAAADUAAABDAAAASwAAAEAAAAaHAAABCgAAAJAAAACLAAAApAAAAJgAAACMAAAAPgAAAEYAAAA5AAAAMwAAADcAAAAwAAAAMwAAADAAAAAzAAAAMAAAADMAAAAwAAAAMwAAADAAAAAzAAAAMAAAADMAAAAwAAAAMwAAADAAAAAzAAAAMAAAADMAAAAwAAAAMwAAADAAAAAzAAAAMAAAADMAAAAwAAAAMwAAADAAAAAzAAAAMAAAADMAAAAwAAAAMwAAADAAAAAzAAAAMAAAADMAAAAwAAAAMwAAADAAAAAzAAAAMAAAADMAAAAwAAAAMwAAADAAAAAzAAAAMAAAADMAAAAwAAAAMwAAADAAAAAzAAAAMAAAADMAAAAwAAAAMwAAADAAAAAzAAAAMAAAADMAAAAwAAAAMwAAADAAAAAzAAAAMAAAADMAAAAwAAAAMwAAADAAAAAzAAAAMAAAADMAAAAwAAAAMwAAADAAAAAzAAAAMAAAADMAAAAwAAAAMwAAADAAAAAzAAAAMAAAADMAAAtPAAAA5QAAAFcAAABHAAAAMAAAABRzdGNvAAAAAAAAAAEAAAAwAAAAYnVkdGEAAABabWV0YQAAAAAAAAAhaGRscgAAAAAAAAAAbWRpcmFwcGwAAAAAAAAAAAAAAAAtaWxzdAAAACWpdG9vAAAAHWRhdGEAAAABAAAAAExhdmY1OC43Ni4xMDA=\" type=\"video/mp4\">\n",
       "  Your browser does not support the video tag.\n",
       "  </video>"
      ],
      "text/plain": [
       "<IPython.core.display.HTML object>"
      ]
     },
     "execution_count": 30,
     "metadata": {},
     "output_type": "execute_result"
    }
   ],
   "source": [
    "def create_policy_eval_video(policy, filename, num_episodes=5, fps=30):\n",
    "  filename = filename + \".mp4\"\n",
    "  with imageio.get_writer(filename, fps=fps) as video:\n",
    "    for _ in range(num_episodes):\n",
    "      time_step = eval_env.reset()\n",
    "      video.append_data(eval_py_env.render())\n",
    "      while not time_step.is_last():\n",
    "        action_step = policy.action(time_step)\n",
    "        time_step = eval_env.step(action_step.action)\n",
    "        video.append_data(eval_py_env.render())\n",
    "  return embed_mp4(filename)\n",
    "\n",
    "create_policy_eval_video(agent.policy, \"trained-agent\")"
   ]
  },
  {
   "cell_type": "code",
   "execution_count": null,
   "metadata": {},
   "outputs": [],
   "source": []
  }
 ],
 "metadata": {
  "kernelspec": {
   "display_name": "maze-drone-v02",
   "language": "python",
   "name": "python3"
  },
  "language_info": {
   "codemirror_mode": {
    "name": "ipython",
    "version": 3
   },
   "file_extension": ".py",
   "mimetype": "text/x-python",
   "name": "python",
   "nbconvert_exporter": "python",
   "pygments_lexer": "ipython3",
   "version": "3.10.12"
  }
 },
 "nbformat": 4,
 "nbformat_minor": 2
}

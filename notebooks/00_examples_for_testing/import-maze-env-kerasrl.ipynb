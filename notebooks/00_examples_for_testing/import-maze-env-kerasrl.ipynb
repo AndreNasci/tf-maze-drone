{
 "cells": [
  {
   "cell_type": "markdown",
   "id": "213a3f72",
   "metadata": {},
   "source": [
    "# Import Env - Keras-RL"
   ]
  },
  {
   "cell_type": "code",
   "execution_count": 1,
   "id": "fa14793c",
   "metadata": {},
   "outputs": [],
   "source": [
    "import numpy as np\n",
    "import random\n",
    "\n",
    "import sys\n",
    "sys.path.append('/home/naski/Documents/dev/maze_drone_v02/maze-drone-v02/lib/python3.10/site-packages')\n",
    "import gym\n",
    "import gym_maze\n",
    "from gym import Env\n",
    "from gym.spaces import Discrete, Box"
   ]
  },
  {
   "cell_type": "code",
   "execution_count": 2,
   "id": "93dfe367",
   "metadata": {
    "scrolled": true
   },
   "outputs": [
    {
     "name": "stdout",
     "output_type": "stream",
     "text": [
      "make environment\n",
      "(5, 0)\n",
      "make environment\n",
      "(9, 4)\n",
      " B0   R1   T2   L3\n",
      "[1.0, 0.0, 1.0, 0.0, 7.211102550927978]\n",
      "3\n",
      "performs action:\n",
      "[9 3] (3, 0)\n",
      "[9 3]\n",
      " B0   R1   T2   L3\n",
      "[0.0, 0.0, 1.0, 0.0, 6.708203932499369]\n",
      "Reward: 13.291796207427979\n",
      "3\n",
      "performs action:\n",
      "[9 2] (3, 0)\n",
      "[9 2]\n",
      " B0   R1   T2   L3\n",
      "[1.0, 0.0, 1.0, 0.0, 6.324555320336759]\n",
      "Reward: 13.675444602966309\n",
      "3\n",
      "performs action:\n",
      "[9 1] (3, 0)\n",
      "[9 1]\n",
      " B0   R1   T2   L3\n",
      "[0.0, 0.0, 1.0, 0.0, 6.082762530298219]\n",
      "Reward: 13.917237281799316\n",
      "3\n",
      "performs action:\n",
      "[9 0] (3, 0)\n",
      "[9 0]\n",
      " B0   R1   T2   L3\n",
      "[0.0, 0.0, 1.0, 1.0, 6.0]\n",
      "Reward: 14.0\n",
      "1\n",
      "performs action:\n",
      "[9 1] (3, 0)\n",
      "[9 1]\n",
      " B0   R1   T2   L3\n",
      "[0.0, 0.0, 1.0, 0.0, 6.082762530298219]\n",
      "Reward: 13.917237281799316\n",
      "1\n",
      "performs action:\n",
      "[9 2] (3, 0)\n",
      "[9 2]\n",
      " B0   R1   T2   L3\n",
      "[1.0, 0.0, 1.0, 0.0, 6.324555320336759]\n",
      "Reward: 13.675444602966309\n",
      "1\n",
      "performs action:\n",
      "[9 3] (3, 0)\n",
      "[9 3]\n",
      " B0   R1   T2   L3\n",
      "[0.0, 0.0, 1.0, 0.0, 6.708203932499369]\n",
      "Reward: 13.291796207427979\n",
      "1\n",
      "performs action:\n",
      "[9 4] (3, 0)\n",
      "[9 4]\n",
      " B0   R1   T2   L3\n",
      "[1.0, 0.0, 1.0, 0.0, 7.211102550927978]\n",
      "Reward: 12.788897514343262\n",
      "1\n",
      "performs action:\n",
      "[9 5] (3, 0)\n",
      "[9 5]\n",
      " B0   R1   T2   L3\n",
      "[1.0, 0.0, 1.0, 0.0, 7.810249675906654]\n",
      "Reward: 12.18975019454956\n",
      "1\n",
      "performs action:\n",
      "[9 6] (3, 0)\n",
      "[9 6]\n",
      " B0   R1   T2   L3\n",
      "[0.0, 0.0, 1.0, 0.0, 8.48528137423857]\n",
      "Reward: 11.514719009399414\n",
      "1\n",
      "performs action:\n",
      "[9 7] (3, 0)\n",
      "[9 7]\n",
      " B0   R1   T2   L3\n",
      "[1.0, 0.0, 1.0, 0.0, 9.219544457292887]\n",
      "Reward: 10.780455589294434\n",
      "1\n",
      "performs action:\n",
      "[9 8] (3, 0)\n",
      "[9 8]\n",
      " B0   R1   T2   L3\n",
      "[1.0, 0.0, 1.0, 0.0, 10.0]\n",
      "Reward: 10.0\n",
      "1\n",
      "performs action:\n",
      "[9 9] (3, 0)\n",
      "[9 9]\n",
      " B0   R1   T2   L3\n",
      "[0.0, 1.0, 1.0, 0.0, 10.816653826391969]\n",
      "Reward: 9.183345794677734\n",
      "0\n",
      "performs action:\n",
      "[8 9] (3, 0)\n",
      "[8 9]\n",
      " B0   R1   T2   L3\n",
      "[0.0, 1.0, 0.0, 0.0, 10.295630140987]\n",
      "Reward: 9.70436954498291\n",
      "3\n",
      "performs action:\n",
      "[8 8] (3, 0)\n",
      "[8 8]\n",
      " B0   R1   T2   L3\n",
      "[1.0, 0.0, 1.0, 0.0, 9.433981132056603]\n",
      "Reward: 10.566019058227539\n",
      "3\n",
      "performs action:\n",
      "[8 7] (3, 0)\n",
      "[8 7]\n",
      " B0   R1   T2   L3\n",
      "[1.0, 0.0, 1.0, 1.0, 8.602325267042627]\n",
      "Reward: 11.397674560546875\n",
      "3\n",
      "performs action:\n",
      "Atingiu uma parede.\n",
      "[8 7] (3, 0)\n",
      "[8 7]\n",
      " B0   R1   T2   L3\n",
      "[1.0, 0.0, 1.0, 1.0, 8.602325267042627]\n",
      "Reward: -500.0\n"
     ]
    }
   ],
   "source": [
    "GAME_MODE = 1\n",
    "\n",
    "\n",
    "env = gym.make(\"maze-v0\")\n",
    "\n",
    "observation, _ = env.reset()\n",
    "\n",
    "action_taken = 0\n",
    "while action_taken != -1:\n",
    "\n",
    "\n",
    "\n",
    "    if GAME_MODE:\n",
    "        action_taken = int(input())\n",
    "    else:\n",
    "        action_taken = env.action_space.sample()\n",
    "    print(action_taken)\n",
    "    _, reward, done, _, _ = env.step(action_taken)\n",
    "\n",
    "    print(\"Reward:\", reward)\n",
    "\n",
    "    if done: break\n",
    "\n",
    "    if GAME_MODE == 0: action_taken = -1\n",
    "\n",
    "\n",
    "\n",
    "# Depends on you\n",
    "MAX_EPISODES = 10\n",
    "MAX_TRY = 5\n"
   ]
  },
  {
   "cell_type": "code",
   "execution_count": 3,
   "id": "d1bea89b",
   "metadata": {},
   "outputs": [
    {
     "name": "stdout",
     "output_type": "stream",
     "text": [
      "make environment\n",
      "(7, 0)\n",
      " B0   R1   T2   L3\n",
      "[1.0, 1.0, 0.0, 1.0, 9.219544457292887]\n",
      "performs action:\n",
      "Atingiu uma parede.\n",
      "(7, 0) (9, 9)\n",
      "(7, 0)\n",
      " B0   R1   T2   L3\n",
      "[1.0, 1.0, 0.0, 1.0, 9.219544457292887]\n",
      "Episode: 1 Score: -500.0  <===============================\n",
      "make environment\n",
      "(0, 0)\n",
      " B0   R1   T2   L3\n",
      "[1.0, 1.0, 0.0, 1.0, 2.0]\n",
      "performs action:\n",
      "[1 0] (2, 0)\n",
      "[1 0]\n",
      " B0   R1   T2   L3\n",
      "[0.0, 0.0, 1.0, 1.0, 1.0]\n",
      "performs action:\n",
      "Atingiu uma parede.\n",
      "[1 0] (2, 0)\n",
      "[1 0]\n",
      " B0   R1   T2   L3\n",
      "[0.0, 0.0, 1.0, 1.0, 1.0]\n",
      "Episode: 2 Score: -481.0  <===============================\n",
      "make environment\n",
      "(0, 4)\n",
      " B0   R1   T2   L3\n",
      "[1.0, 0.0, 1.0, 0.0, 5.656854249492381]\n",
      "performs action:\n",
      "[0 3] (4, 0)\n",
      "[0 3]\n",
      " B0   R1   T2   L3\n",
      "[1.0, 0.0, 1.0, 1.0, 5.0]\n",
      "performs action:\n",
      "Atingiu uma parede.\n",
      "[0 3] (4, 0)\n",
      "[0 3]\n",
      " B0   R1   T2   L3\n",
      "[1.0, 0.0, 1.0, 1.0, 5.0]\n",
      "Episode: 3 Score: -485.0  <===============================\n",
      "make environment\n",
      "(9, 2)\n",
      " B0   R1   T2   L3\n",
      "[1.0, 0.0, 1.0, 0.0, 3.0]\n",
      "performs action:\n",
      "[9 3] (9, 5)\n",
      "[9 3]\n",
      " B0   R1   T2   L3\n",
      "[1.0, 0.0, 1.0, 0.0, 2.0]\n",
      "performs action:\n",
      "[9 4] (9, 5)\n",
      "[9 4]\n",
      " B0   R1   T2   L3\n",
      "[1.0, 0.0, 1.0, 0.0, 1.0]\n",
      "performs action:\n",
      "Atingiu uma parede.\n",
      "[9 4] (9, 5)\n",
      "[9 4]\n",
      " B0   R1   T2   L3\n",
      "[1.0, 0.0, 1.0, 0.0, 1.0]\n",
      "Episode: 4 Score: -463.0  <===============================\n",
      "make environment\n",
      "(9, 7)\n",
      " B0   R1   T2   L3\n",
      "[1.0, 0.0, 1.0, 0.0, 10.295630140987]\n",
      "performs action:\n",
      "Atingiu uma parede.\n",
      "(9, 7) (0, 2)\n",
      "(9, 7)\n",
      " B0   R1   T2   L3\n",
      "[1.0, 0.0, 1.0, 0.0, 10.295630140987]\n",
      "Episode: 5 Score: -500.0  <===============================\n",
      "make environment\n",
      "(5, 9)\n",
      " B0   R1   T2   L3\n",
      "[0.0, 1.0, 0.0, 1.0, 7.211102550927978]\n",
      "performs action:\n",
      "[6 9] (9, 3)\n",
      "[6 9]\n",
      " B0   R1   T2   L3\n",
      "[0.0, 1.0, 0.0, 1.0, 6.708203932499369]\n",
      "performs action:\n",
      "[5 9] (9, 3)\n",
      "[5 9]\n",
      " B0   R1   T2   L3\n",
      "[0.0, 1.0, 0.0, 1.0, 7.211102550927978]\n",
      "performs action:\n",
      "Atingiu uma parede.\n",
      "[5 9] (9, 3)\n",
      "[5 9]\n",
      " B0   R1   T2   L3\n",
      "[0.0, 1.0, 0.0, 1.0, 7.211102550927978]\n",
      "Episode: 6 Score: -473.91930627822876  <===============================\n",
      "make environment\n",
      "(0, 5)\n",
      " B0   R1   T2   L3\n",
      "[1.0, 0.0, 1.0, 1.0, 3.0]\n",
      "performs action:\n",
      "Atingiu uma parede.\n",
      "(0, 5) (0, 2)\n",
      "(0, 5)\n",
      " B0   R1   T2   L3\n",
      "[1.0, 0.0, 1.0, 1.0, 3.0]\n",
      "Episode: 7 Score: -500.0  <===============================\n",
      "make environment\n",
      "(3, 0)\n",
      " B0   R1   T2   L3\n",
      "[1.0, 0.0, 1.0, 1.0, 6.708203932499369]\n",
      "performs action:\n",
      "Atingiu uma parede.\n",
      "(3, 0) (0, 6)\n",
      "(3, 0)\n",
      " B0   R1   T2   L3\n",
      "[1.0, 0.0, 1.0, 1.0, 6.708203932499369]\n",
      "Episode: 8 Score: -500.0  <===============================\n",
      "make environment\n",
      "(1, 0)\n",
      " B0   R1   T2   L3\n",
      "[0.0, 1.0, 0.0, 1.0, 8.06225774829855]\n",
      "performs action:\n",
      "[2 0] (0, 8)\n",
      "[2 0]\n",
      " B0   R1   T2   L3\n",
      "[0.0, 1.0, 0.0, 1.0, 8.246211251235321]\n",
      "performs action:\n",
      "Atingiu uma parede.\n",
      "[2 0] (0, 8)\n",
      "[2 0]\n",
      " B0   R1   T2   L3\n",
      "[0.0, 1.0, 0.0, 1.0, 8.246211251235321]\n",
      "Episode: 9 Score: -488.2462110519409  <===============================\n",
      "make environment\n",
      "(0, 4)\n",
      " B0   R1   T2   L3\n",
      "[1.0, 0.0, 1.0, 1.0, 9.055385138137417]\n",
      "performs action:\n",
      "Atingiu uma parede.\n",
      "(0, 4) (9, 3)\n",
      "(0, 4)\n",
      " B0   R1   T2   L3\n",
      "[1.0, 0.0, 1.0, 1.0, 9.055385138137417]\n",
      "Episode: 10 Score: -500.0  <===============================\n"
     ]
    }
   ],
   "source": [
    "episodes = 10\n",
    "for episode in range(1, episodes+1):\n",
    "    state = env.reset()\n",
    "    done = False\n",
    "    score = 0\n",
    "    while not done:\n",
    "        action = env.action_space.sample()\n",
    "        n_state, reward, done, truncate, info = env.step(action)\n",
    "        score += reward\n",
    "    print(f\"Episode: {episode} Score: {score}  <===============================\")"
   ]
  },
  {
   "cell_type": "markdown",
   "id": "221daee4",
   "metadata": {},
   "source": [
    "### Create a Deep Learning Model with Keras"
   ]
  },
  {
   "cell_type": "code",
   "execution_count": 13,
   "id": "345148bd",
   "metadata": {},
   "outputs": [],
   "source": [
    "import numpy as np\n",
    "from tensorflow.keras.models import Sequential\n",
    "from tensorflow.keras.layers import Dense, Flatten\n",
    "from tensorflow.keras.optimizers import Adam"
   ]
  },
  {
   "cell_type": "code",
   "execution_count": 14,
   "id": "00eb22ab",
   "metadata": {},
   "outputs": [],
   "source": [
    "# Gives us the shape of the states and the number of actions\n",
    "states = env.observation_space.shape\n",
    "actions = env.action_space.n"
   ]
  },
  {
   "cell_type": "code",
   "execution_count": 15,
   "id": "3b2a546c",
   "metadata": {},
   "outputs": [],
   "source": [
    "def build_model(states, actions):\n",
    "    model = Sequential()\n",
    "    model.add(Dense(24, activation='relu', input_shape=states))\n",
    "    model.add(Dense(24, activation='relu'))\n",
    "    model.add(Dense(actions, activation='linear'))\n",
    "    return model\n"
   ]
  },
  {
   "cell_type": "code",
   "execution_count": 16,
   "id": "afb45e68",
   "metadata": {},
   "outputs": [
    {
     "name": "stderr",
     "output_type": "stream",
     "text": [
      "/home/naski/Documents/dev/maze_drone_v02/maze-drone-v02/lib/python3.10/site-packages/keras/src/layers/core/dense.py:87: UserWarning: Do not pass an `input_shape`/`input_dim` argument to a layer. When using Sequential models, prefer using an `Input(shape)` object as the first layer in the model instead.\n",
      "  super().__init__(activity_regularizer=activity_regularizer, **kwargs)\n"
     ]
    }
   ],
   "source": [
    "model = build_model(states, actions)"
   ]
  },
  {
   "cell_type": "code",
   "execution_count": 17,
   "id": "58810779",
   "metadata": {},
   "outputs": [
    {
     "data": {
      "text/html": [
       "<pre style=\"white-space:pre;overflow-x:auto;line-height:normal;font-family:Menlo,'DejaVu Sans Mono',consolas,'Courier New',monospace\"><span style=\"font-weight: bold\">Model: \"sequential_1\"</span>\n",
       "</pre>\n"
      ],
      "text/plain": [
       "\u001b[1mModel: \"sequential_1\"\u001b[0m\n"
      ]
     },
     "metadata": {},
     "output_type": "display_data"
    },
    {
     "data": {
      "text/html": [
       "<pre style=\"white-space:pre;overflow-x:auto;line-height:normal;font-family:Menlo,'DejaVu Sans Mono',consolas,'Courier New',monospace\">┏━━━━━━━━━━━━━━━━━━━━━━━━━━━━━━━━━┳━━━━━━━━━━━━━━━━━━━━━━━━┳━━━━━━━━━━━━━━━┓\n",
       "┃<span style=\"font-weight: bold\"> Layer (type)                    </span>┃<span style=\"font-weight: bold\"> Output Shape           </span>┃<span style=\"font-weight: bold\">       Param # </span>┃\n",
       "┡━━━━━━━━━━━━━━━━━━━━━━━━━━━━━━━━━╇━━━━━━━━━━━━━━━━━━━━━━━━╇━━━━━━━━━━━━━━━┩\n",
       "│ dense_3 (<span style=\"color: #0087ff; text-decoration-color: #0087ff\">Dense</span>)                 │ (<span style=\"color: #00d7ff; text-decoration-color: #00d7ff\">None</span>, <span style=\"color: #00af00; text-decoration-color: #00af00\">24</span>)             │           <span style=\"color: #00af00; text-decoration-color: #00af00\">144</span> │\n",
       "├─────────────────────────────────┼────────────────────────┼───────────────┤\n",
       "│ dense_4 (<span style=\"color: #0087ff; text-decoration-color: #0087ff\">Dense</span>)                 │ (<span style=\"color: #00d7ff; text-decoration-color: #00d7ff\">None</span>, <span style=\"color: #00af00; text-decoration-color: #00af00\">24</span>)             │           <span style=\"color: #00af00; text-decoration-color: #00af00\">600</span> │\n",
       "├─────────────────────────────────┼────────────────────────┼───────────────┤\n",
       "│ dense_5 (<span style=\"color: #0087ff; text-decoration-color: #0087ff\">Dense</span>)                 │ (<span style=\"color: #00d7ff; text-decoration-color: #00d7ff\">None</span>, <span style=\"color: #00af00; text-decoration-color: #00af00\">4</span>)              │           <span style=\"color: #00af00; text-decoration-color: #00af00\">100</span> │\n",
       "└─────────────────────────────────┴────────────────────────┴───────────────┘\n",
       "</pre>\n"
      ],
      "text/plain": [
       "┏━━━━━━━━━━━━━━━━━━━━━━━━━━━━━━━━━┳━━━━━━━━━━━━━━━━━━━━━━━━┳━━━━━━━━━━━━━━━┓\n",
       "┃\u001b[1m \u001b[0m\u001b[1mLayer (type)                   \u001b[0m\u001b[1m \u001b[0m┃\u001b[1m \u001b[0m\u001b[1mOutput Shape          \u001b[0m\u001b[1m \u001b[0m┃\u001b[1m \u001b[0m\u001b[1m      Param #\u001b[0m\u001b[1m \u001b[0m┃\n",
       "┡━━━━━━━━━━━━━━━━━━━━━━━━━━━━━━━━━╇━━━━━━━━━━━━━━━━━━━━━━━━╇━━━━━━━━━━━━━━━┩\n",
       "│ dense_3 (\u001b[38;5;33mDense\u001b[0m)                 │ (\u001b[38;5;45mNone\u001b[0m, \u001b[38;5;34m24\u001b[0m)             │           \u001b[38;5;34m144\u001b[0m │\n",
       "├─────────────────────────────────┼────────────────────────┼───────────────┤\n",
       "│ dense_4 (\u001b[38;5;33mDense\u001b[0m)                 │ (\u001b[38;5;45mNone\u001b[0m, \u001b[38;5;34m24\u001b[0m)             │           \u001b[38;5;34m600\u001b[0m │\n",
       "├─────────────────────────────────┼────────────────────────┼───────────────┤\n",
       "│ dense_5 (\u001b[38;5;33mDense\u001b[0m)                 │ (\u001b[38;5;45mNone\u001b[0m, \u001b[38;5;34m4\u001b[0m)              │           \u001b[38;5;34m100\u001b[0m │\n",
       "└─────────────────────────────────┴────────────────────────┴───────────────┘\n"
      ]
     },
     "metadata": {},
     "output_type": "display_data"
    },
    {
     "data": {
      "text/html": [
       "<pre style=\"white-space:pre;overflow-x:auto;line-height:normal;font-family:Menlo,'DejaVu Sans Mono',consolas,'Courier New',monospace\"><span style=\"font-weight: bold\"> Total params: </span><span style=\"color: #00af00; text-decoration-color: #00af00\">844</span> (3.30 KB)\n",
       "</pre>\n"
      ],
      "text/plain": [
       "\u001b[1m Total params: \u001b[0m\u001b[38;5;34m844\u001b[0m (3.30 KB)\n"
      ]
     },
     "metadata": {},
     "output_type": "display_data"
    },
    {
     "data": {
      "text/html": [
       "<pre style=\"white-space:pre;overflow-x:auto;line-height:normal;font-family:Menlo,'DejaVu Sans Mono',consolas,'Courier New',monospace\"><span style=\"font-weight: bold\"> Trainable params: </span><span style=\"color: #00af00; text-decoration-color: #00af00\">844</span> (3.30 KB)\n",
       "</pre>\n"
      ],
      "text/plain": [
       "\u001b[1m Trainable params: \u001b[0m\u001b[38;5;34m844\u001b[0m (3.30 KB)\n"
      ]
     },
     "metadata": {},
     "output_type": "display_data"
    },
    {
     "data": {
      "text/html": [
       "<pre style=\"white-space:pre;overflow-x:auto;line-height:normal;font-family:Menlo,'DejaVu Sans Mono',consolas,'Courier New',monospace\"><span style=\"font-weight: bold\"> Non-trainable params: </span><span style=\"color: #00af00; text-decoration-color: #00af00\">0</span> (0.00 B)\n",
       "</pre>\n"
      ],
      "text/plain": [
       "\u001b[1m Non-trainable params: \u001b[0m\u001b[38;5;34m0\u001b[0m (0.00 B)\n"
      ]
     },
     "metadata": {},
     "output_type": "display_data"
    }
   ],
   "source": [
    "# Models takes in the input and produce three differente actions\n",
    "model.summary()"
   ]
  },
  {
   "cell_type": "markdown",
   "id": "082efa5c",
   "metadata": {},
   "source": [
    "### Build Agent with Keras-RL"
   ]
  },
  {
   "cell_type": "code",
   "execution_count": 18,
   "metadata": {},
   "outputs": [
    {
     "ename": "ImportError",
     "evalue": "cannot import name 'model_from_config' from 'tensorflow.keras.models' (/home/naski/Documents/dev/maze_drone_v02/maze-drone-v02/lib/python3.10/site-packages/keras/_tf_keras/keras/models/__init__.py)",
     "output_type": "error",
     "traceback": [
      "\u001b[0;31m---------------------------------------------------------------------------\u001b[0m",
      "\u001b[0;31mImportError\u001b[0m                               Traceback (most recent call last)",
      "Cell \u001b[0;32mIn[18], line 1\u001b[0m\n\u001b[0;32m----> 1\u001b[0m \u001b[38;5;28;01mfrom\u001b[39;00m \u001b[38;5;21;01mrl\u001b[39;00m\u001b[38;5;21;01m.\u001b[39;00m\u001b[38;5;21;01magents\u001b[39;00m \u001b[38;5;28;01mimport\u001b[39;00m DQNAgent\n\u001b[1;32m      2\u001b[0m \u001b[38;5;28;01mfrom\u001b[39;00m \u001b[38;5;21;01mrl\u001b[39;00m\u001b[38;5;21;01m.\u001b[39;00m\u001b[38;5;21;01mpolicy\u001b[39;00m \u001b[38;5;28;01mimport\u001b[39;00m BoltzmannQPolicy\n\u001b[1;32m      3\u001b[0m \u001b[38;5;28;01mfrom\u001b[39;00m \u001b[38;5;21;01mrl\u001b[39;00m\u001b[38;5;21;01m.\u001b[39;00m\u001b[38;5;21;01mmemory\u001b[39;00m \u001b[38;5;28;01mimport\u001b[39;00m SequentialMemory\n",
      "File \u001b[0;32m~/Documents/dev/maze_drone_v02/maze-drone-v02/lib/python3.10/site-packages/rl/agents/__init__.py:1\u001b[0m\n\u001b[0;32m----> 1\u001b[0m \u001b[38;5;28;01mfrom\u001b[39;00m \u001b[38;5;21;01m.\u001b[39;00m\u001b[38;5;21;01mdqn\u001b[39;00m \u001b[38;5;28;01mimport\u001b[39;00m DQNAgent, NAFAgent, ContinuousDQNAgent\n\u001b[1;32m      2\u001b[0m \u001b[38;5;28;01mfrom\u001b[39;00m \u001b[38;5;21;01m.\u001b[39;00m\u001b[38;5;21;01mddpg\u001b[39;00m \u001b[38;5;28;01mimport\u001b[39;00m DDPGAgent\n\u001b[1;32m      3\u001b[0m \u001b[38;5;28;01mfrom\u001b[39;00m \u001b[38;5;21;01m.\u001b[39;00m\u001b[38;5;21;01mcem\u001b[39;00m \u001b[38;5;28;01mimport\u001b[39;00m CEMAgent\n",
      "File \u001b[0;32m~/Documents/dev/maze_drone_v02/maze-drone-v02/lib/python3.10/site-packages/rl/agents/dqn.py:8\u001b[0m\n\u001b[1;32m      5\u001b[0m \u001b[38;5;28;01mfrom\u001b[39;00m \u001b[38;5;21;01mtensorflow\u001b[39;00m\u001b[38;5;21;01m.\u001b[39;00m\u001b[38;5;21;01mkeras\u001b[39;00m\u001b[38;5;21;01m.\u001b[39;00m\u001b[38;5;21;01mlayers\u001b[39;00m \u001b[38;5;28;01mimport\u001b[39;00m Lambda, Input, Layer, Dense\n\u001b[1;32m      7\u001b[0m \u001b[38;5;28;01mfrom\u001b[39;00m \u001b[38;5;21;01mrl\u001b[39;00m\u001b[38;5;21;01m.\u001b[39;00m\u001b[38;5;21;01mcore\u001b[39;00m \u001b[38;5;28;01mimport\u001b[39;00m Agent\n\u001b[0;32m----> 8\u001b[0m \u001b[38;5;28;01mfrom\u001b[39;00m \u001b[38;5;21;01mrl\u001b[39;00m\u001b[38;5;21;01m.\u001b[39;00m\u001b[38;5;21;01mpolicy\u001b[39;00m \u001b[38;5;28;01mimport\u001b[39;00m EpsGreedyQPolicy, GreedyQPolicy\n\u001b[1;32m      9\u001b[0m \u001b[38;5;28;01mfrom\u001b[39;00m \u001b[38;5;21;01mrl\u001b[39;00m\u001b[38;5;21;01m.\u001b[39;00m\u001b[38;5;21;01mutil\u001b[39;00m \u001b[38;5;28;01mimport\u001b[39;00m \u001b[38;5;241m*\u001b[39m\n\u001b[1;32m     12\u001b[0m \u001b[38;5;28;01mdef\u001b[39;00m \u001b[38;5;21mmean_q\u001b[39m(y_true, y_pred):\n",
      "File \u001b[0;32m~/Documents/dev/maze_drone_v02/maze-drone-v02/lib/python3.10/site-packages/rl/policy.py:3\u001b[0m\n\u001b[1;32m      1\u001b[0m \u001b[38;5;28;01mimport\u001b[39;00m \u001b[38;5;21;01mnumpy\u001b[39;00m \u001b[38;5;28;01mas\u001b[39;00m \u001b[38;5;21;01mnp\u001b[39;00m\n\u001b[0;32m----> 3\u001b[0m \u001b[38;5;28;01mfrom\u001b[39;00m \u001b[38;5;21;01mrl\u001b[39;00m\u001b[38;5;21;01m.\u001b[39;00m\u001b[38;5;21;01mutil\u001b[39;00m \u001b[38;5;28;01mimport\u001b[39;00m \u001b[38;5;241m*\u001b[39m\n\u001b[1;32m      6\u001b[0m \u001b[38;5;28;01mclass\u001b[39;00m \u001b[38;5;21;01mPolicy\u001b[39;00m:\n\u001b[1;32m      7\u001b[0m \u001b[38;5;250m    \u001b[39m\u001b[38;5;124;03m\"\"\"Abstract base class for all implemented policies.\u001b[39;00m\n\u001b[1;32m      8\u001b[0m \n\u001b[1;32m      9\u001b[0m \u001b[38;5;124;03m    Each policy helps with selection of action to take on an environment.\u001b[39;00m\n\u001b[0;32m   (...)\u001b[0m\n\u001b[1;32m     17\u001b[0m \u001b[38;5;124;03m        agent (rl.core.Agent): Agent used\u001b[39;00m\n\u001b[1;32m     18\u001b[0m \u001b[38;5;124;03m    \"\"\"\u001b[39;00m\n",
      "File \u001b[0;32m~/Documents/dev/maze_drone_v02/maze-drone-v02/lib/python3.10/site-packages/rl/util.py:3\u001b[0m\n\u001b[1;32m      1\u001b[0m \u001b[38;5;28;01mimport\u001b[39;00m \u001b[38;5;21;01mnumpy\u001b[39;00m \u001b[38;5;28;01mas\u001b[39;00m \u001b[38;5;21;01mnp\u001b[39;00m\n\u001b[0;32m----> 3\u001b[0m \u001b[38;5;28;01mfrom\u001b[39;00m \u001b[38;5;21;01mtensorflow\u001b[39;00m\u001b[38;5;21;01m.\u001b[39;00m\u001b[38;5;21;01mkeras\u001b[39;00m\u001b[38;5;21;01m.\u001b[39;00m\u001b[38;5;21;01mmodels\u001b[39;00m \u001b[38;5;28;01mimport\u001b[39;00m model_from_config, Sequential, Model, model_from_config\n\u001b[1;32m      4\u001b[0m \u001b[38;5;28;01mimport\u001b[39;00m \u001b[38;5;21;01mtensorflow\u001b[39;00m\u001b[38;5;21;01m.\u001b[39;00m\u001b[38;5;21;01mkeras\u001b[39;00m\u001b[38;5;21;01m.\u001b[39;00m\u001b[38;5;21;01moptimizers\u001b[39;00m \u001b[38;5;28;01mas\u001b[39;00m \u001b[38;5;21;01moptimizers\u001b[39;00m\n\u001b[1;32m      5\u001b[0m \u001b[38;5;28;01mimport\u001b[39;00m \u001b[38;5;21;01mtensorflow\u001b[39;00m\u001b[38;5;21;01m.\u001b[39;00m\u001b[38;5;21;01mkeras\u001b[39;00m\u001b[38;5;21;01m.\u001b[39;00m\u001b[38;5;21;01mbackend\u001b[39;00m \u001b[38;5;28;01mas\u001b[39;00m \u001b[38;5;21;01mK\u001b[39;00m\n",
      "\u001b[0;31mImportError\u001b[0m: cannot import name 'model_from_config' from 'tensorflow.keras.models' (/home/naski/Documents/dev/maze_drone_v02/maze-drone-v02/lib/python3.10/site-packages/keras/_tf_keras/keras/models/__init__.py)"
     ]
    }
   ],
   "source": [
    "from rl.agents import DQNAgent\n",
    "from rl.policy import BoltzmannQPolicy\n",
    "from rl.memory import SequentialMemory"
   ]
  },
  {
   "cell_type": "code",
   "execution_count": 12,
   "id": "45e49e5b",
   "metadata": {},
   "outputs": [
    {
     "name": "stdout",
     "output_type": "stream",
     "text": [
      "2.16.1\n"
     ]
    }
   ],
   "source": [
    "import tensorflow as tf\n",
    "print(tf.__version__)"
   ]
  },
  {
   "cell_type": "code",
   "execution_count": null,
   "id": "45082e1e",
   "metadata": {},
   "outputs": [],
   "source": []
  }
 ],
 "metadata": {
  "kernelspec": {
   "display_name": "Python 3 (ipykernel)",
   "language": "python",
   "name": "python3"
  },
  "language_info": {
   "codemirror_mode": {
    "name": "ipython",
    "version": 3
   },
   "file_extension": ".py",
   "mimetype": "text/x-python",
   "name": "python",
   "nbconvert_exporter": "python",
   "pygments_lexer": "ipython3",
   "version": "3.10.12"
  }
 },
 "nbformat": 4,
 "nbformat_minor": 5
}

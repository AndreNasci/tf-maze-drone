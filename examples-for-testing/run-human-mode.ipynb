{
 "cells": [
  {
   "cell_type": "code",
   "execution_count": 1,
   "metadata": {},
   "outputs": [],
   "source": [
    "import os\n",
    "# Keep using keras-2 (tf-keras) rather than keras-3 (keras).\n",
    "os.environ['TF_USE_LEGACY_KERAS'] = '1'"
   ]
  },
  {
   "cell_type": "code",
   "execution_count": 2,
   "metadata": {},
   "outputs": [
    {
     "name": "stderr",
     "output_type": "stream",
     "text": [
      "2024-06-06 16:29:10.315667: I external/local_tsl/tsl/cuda/cudart_stub.cc:32] Could not find cuda drivers on your machine, GPU will not be used.\n",
      "2024-06-06 16:29:10.320550: I external/local_tsl/tsl/cuda/cudart_stub.cc:32] Could not find cuda drivers on your machine, GPU will not be used.\n",
      "2024-06-06 16:29:10.389996: I tensorflow/core/platform/cpu_feature_guard.cc:210] This TensorFlow binary is optimized to use available CPU instructions in performance-critical operations.\n",
      "To enable the following instructions: AVX2 FMA, in other operations, rebuild TensorFlow with the appropriate compiler flags.\n",
      "2024-06-06 16:29:11.810380: W tensorflow/compiler/tf2tensorrt/utils/py_utils.cc:38] TF-TRT Warning: Could not find TensorRT\n"
     ]
    }
   ],
   "source": [
    "from __future__ import absolute_import, division, print_function\n",
    "\n",
    "import base64\n",
    "import imageio\n",
    "import IPython\n",
    "import matplotlib\n",
    "import matplotlib.pyplot as plt\n",
    "import numpy as np\n",
    "import PIL.Image\n",
    "import pyvirtualdisplay\n",
    "#import reverb\n",
    "\n",
    "import tensorflow as tf\n",
    "from tf_agents.environments import suite_gym\n"
   ]
  },
  {
   "cell_type": "code",
   "execution_count": 3,
   "metadata": {},
   "outputs": [],
   "source": [
    "# Some necessary imports \n",
    "import sys\n",
    "sys.path.append('/home/naski/Documents/dev/maze_drone_v02')\n",
    "\n",
    "\n",
    "#import gym\n",
    "import gym_maze"
   ]
  },
  {
   "cell_type": "code",
   "execution_count": 4,
   "metadata": {},
   "outputs": [],
   "source": [
    "# Importing custom environme1nt\n",
    "env_name = 'maze-v0'\n",
    "env = suite_gym.load(env_name)"
   ]
  },
  {
   "cell_type": "code",
   "execution_count": 5,
   "metadata": {},
   "outputs": [],
   "source": [
    "from IPython.display import clear_output\n",
    "import time"
   ]
  },
  {
   "cell_type": "code",
   "execution_count": 6,
   "metadata": {},
   "outputs": [
    {
     "name": "stdout",
     "output_type": "stream",
     "text": [
      "performs action: 0\n",
      "[3 0] (3, 0)\n",
      "Chegou no objetivo.\n",
      " B0   R1   T2   L3\n",
      "[0.0, 1.0, 0.0, 1.0, 0.0]\n",
      "Reward: 50.0\n"
     ]
    },
    {
     "data": {
      "image/png": "[encoded data removed]",
      "text/plain": [
       "<Figure size 700x700 with 1 Axes>"
      ]
     },
     "metadata": {},
     "output_type": "display_data"
    }
   ],
   "source": [
    "GAME_MODE = 1\n",
    "\n",
    "# Testing\n",
    "obs = env.reset()\n",
    "env.render(mode='human')\n",
    "\n",
    "\n",
    "action_taken = 0\n",
    "while action_taken != -1:\n",
    "\n",
    "    \n",
    "\n",
    "\n",
    "    if GAME_MODE:\n",
    "        action_taken = int(input())\n",
    "        clear_output()\n",
    "        #time.sleep(0.2)\n",
    "    else:\n",
    "        action_taken = env.action_space.sample()\n",
    "        print(action_taken)\n",
    "\n",
    "    _, reward, done, _ = env.step(action_taken)\n",
    "\n",
    "    print(\"Reward:\", reward)\n",
    "\n",
    "    env.render()\n",
    "    \n",
    "\n",
    "    if not done: break\n",
    "\n",
    "    if GAME_MODE == 0: action_taken = -1\n",
    "\n"
   ]
  }
 ],
 "metadata": {
  "kernelspec": {
   "display_name": "maze-drone-v03",
   "language": "python",
   "name": "python3"
  },
  "language_info": {
   "codemirror_mode": {
    "name": "ipython",
    "version": 3
   },
   "file_extension": ".py",
   "mimetype": "text/x-python",
   "name": "python",
   "nbconvert_exporter": "python",
   "pygments_lexer": "ipython3",
   "version": "3.10.12"
  }
 },
 "nbformat": 4,
 "nbformat_minor": 2
}
